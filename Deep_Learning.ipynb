{
  "nbformat": 4,
  "nbformat_minor": 0,
  "metadata": {
    "colab": {
      "provenance": []
    },
    "kernelspec": {
      "name": "python3",
      "display_name": "Python 3"
    },
    "language_info": {
      "name": "python"
    },
    "accelerator": "GPU",
    "gpuClass": "standard"
  },
  "cells": [
    {
      "cell_type": "markdown",
      "source": [
        "ANN"
      ],
      "metadata": {
        "id": "jiFfHxaGk80Z"
      }
    },
    {
      "cell_type": "markdown",
      "source": [
        "Yapay Sinir Ağları (ANN) ile Rakam Tanıma\n",
        "\n",
        "---\n",
        "\n",
        "1.   İş Problemleri (Business Problem) \n",
        "2.   Veriyi Anlamak (Data Understanding)\n",
        "3.   Veriyi Hazırlamak (Data Preparation)\n",
        "4.   Modelleme (Modeling)\n",
        "5.   Değerlendirme (Evaluation)\n"
      ],
      "metadata": {
        "id": "zVTUcRklSvk8"
      }
    },
    {
      "cell_type": "code",
      "source": [
        "pip install tensorflow"
      ],
      "metadata": {
        "colab": {
          "base_uri": "https://localhost:8080/"
        },
        "id": "FGOvB48ZSvCi",
        "outputId": "913d9413-5375-4133-973c-905b227f6ef3"
      },
      "execution_count": null,
      "outputs": [
        {
          "output_type": "stream",
          "name": "stdout",
          "text": [
            "Looking in indexes: https://pypi.org/simple, https://us-python.pkg.dev/colab-wheels/public/simple/\n",
            "Requirement already satisfied: tensorflow in /usr/local/lib/python3.9/dist-packages (2.11.0)\n",
            "Requirement already satisfied: typing-extensions>=3.6.6 in /usr/local/lib/python3.9/dist-packages (from tensorflow) (4.5.0)\n",
            "Requirement already satisfied: protobuf<3.20,>=3.9.2 in /usr/local/lib/python3.9/dist-packages (from tensorflow) (3.19.6)\n",
            "Requirement already satisfied: numpy>=1.20 in /usr/local/lib/python3.9/dist-packages (from tensorflow) (1.22.4)\n",
            "Requirement already satisfied: wrapt>=1.11.0 in /usr/local/lib/python3.9/dist-packages (from tensorflow) (1.15.0)\n",
            "Requirement already satisfied: tensorflow-estimator<2.12,>=2.11.0 in /usr/local/lib/python3.9/dist-packages (from tensorflow) (2.11.0)\n",
            "Requirement already satisfied: libclang>=13.0.0 in /usr/local/lib/python3.9/dist-packages (from tensorflow) (15.0.6.1)\n",
            "Requirement already satisfied: setuptools in /usr/local/lib/python3.9/dist-packages (from tensorflow) (67.6.0)\n",
            "Requirement already satisfied: absl-py>=1.0.0 in /usr/local/lib/python3.9/dist-packages (from tensorflow) (1.4.0)\n",
            "Requirement already satisfied: tensorflow-io-gcs-filesystem>=0.23.1 in /usr/local/lib/python3.9/dist-packages (from tensorflow) (0.31.0)\n",
            "Requirement already satisfied: gast<=0.4.0,>=0.2.1 in /usr/local/lib/python3.9/dist-packages (from tensorflow) (0.4.0)\n",
            "Requirement already satisfied: opt-einsum>=2.3.2 in /usr/local/lib/python3.9/dist-packages (from tensorflow) (3.3.0)\n",
            "Requirement already satisfied: tensorboard<2.12,>=2.11 in /usr/local/lib/python3.9/dist-packages (from tensorflow) (2.11.2)\n",
            "Requirement already satisfied: packaging in /usr/local/lib/python3.9/dist-packages (from tensorflow) (23.0)\n",
            "Requirement already satisfied: google-pasta>=0.1.1 in /usr/local/lib/python3.9/dist-packages (from tensorflow) (0.2.0)\n",
            "Requirement already satisfied: astunparse>=1.6.0 in /usr/local/lib/python3.9/dist-packages (from tensorflow) (1.6.3)\n",
            "Requirement already satisfied: grpcio<2.0,>=1.24.3 in /usr/local/lib/python3.9/dist-packages (from tensorflow) (1.51.3)\n",
            "Requirement already satisfied: h5py>=2.9.0 in /usr/local/lib/python3.9/dist-packages (from tensorflow) (3.8.0)\n",
            "Requirement already satisfied: flatbuffers>=2.0 in /usr/local/lib/python3.9/dist-packages (from tensorflow) (23.3.3)\n",
            "Requirement already satisfied: six>=1.12.0 in /usr/local/lib/python3.9/dist-packages (from tensorflow) (1.16.0)\n",
            "Requirement already satisfied: keras<2.12,>=2.11.0 in /usr/local/lib/python3.9/dist-packages (from tensorflow) (2.11.0)\n",
            "Requirement already satisfied: termcolor>=1.1.0 in /usr/local/lib/python3.9/dist-packages (from tensorflow) (2.2.0)\n",
            "Requirement already satisfied: wheel<1.0,>=0.23.0 in /usr/local/lib/python3.9/dist-packages (from astunparse>=1.6.0->tensorflow) (0.40.0)\n",
            "Requirement already satisfied: tensorboard-plugin-wit>=1.6.0 in /usr/local/lib/python3.9/dist-packages (from tensorboard<2.12,>=2.11->tensorflow) (1.8.1)\n",
            "Requirement already satisfied: markdown>=2.6.8 in /usr/local/lib/python3.9/dist-packages (from tensorboard<2.12,>=2.11->tensorflow) (3.4.2)\n",
            "Requirement already satisfied: google-auth<3,>=1.6.3 in /usr/local/lib/python3.9/dist-packages (from tensorboard<2.12,>=2.11->tensorflow) (2.16.2)\n",
            "Requirement already satisfied: tensorboard-data-server<0.7.0,>=0.6.0 in /usr/local/lib/python3.9/dist-packages (from tensorboard<2.12,>=2.11->tensorflow) (0.6.1)\n",
            "Requirement already satisfied: requests<3,>=2.21.0 in /usr/local/lib/python3.9/dist-packages (from tensorboard<2.12,>=2.11->tensorflow) (2.27.1)\n",
            "Requirement already satisfied: google-auth-oauthlib<0.5,>=0.4.1 in /usr/local/lib/python3.9/dist-packages (from tensorboard<2.12,>=2.11->tensorflow) (0.4.6)\n",
            "Requirement already satisfied: werkzeug>=1.0.1 in /usr/local/lib/python3.9/dist-packages (from tensorboard<2.12,>=2.11->tensorflow) (2.2.3)\n",
            "Requirement already satisfied: pyasn1-modules>=0.2.1 in /usr/local/lib/python3.9/dist-packages (from google-auth<3,>=1.6.3->tensorboard<2.12,>=2.11->tensorflow) (0.2.8)\n",
            "Requirement already satisfied: rsa<5,>=3.1.4 in /usr/local/lib/python3.9/dist-packages (from google-auth<3,>=1.6.3->tensorboard<2.12,>=2.11->tensorflow) (4.9)\n",
            "Requirement already satisfied: cachetools<6.0,>=2.0.0 in /usr/local/lib/python3.9/dist-packages (from google-auth<3,>=1.6.3->tensorboard<2.12,>=2.11->tensorflow) (5.3.0)\n",
            "Requirement already satisfied: requests-oauthlib>=0.7.0 in /usr/local/lib/python3.9/dist-packages (from google-auth-oauthlib<0.5,>=0.4.1->tensorboard<2.12,>=2.11->tensorflow) (1.3.1)\n",
            "Requirement already satisfied: importlib-metadata>=4.4 in /usr/local/lib/python3.9/dist-packages (from markdown>=2.6.8->tensorboard<2.12,>=2.11->tensorflow) (6.1.0)\n",
            "Requirement already satisfied: certifi>=2017.4.17 in /usr/local/lib/python3.9/dist-packages (from requests<3,>=2.21.0->tensorboard<2.12,>=2.11->tensorflow) (2022.12.7)\n",
            "Requirement already satisfied: charset-normalizer~=2.0.0 in /usr/local/lib/python3.9/dist-packages (from requests<3,>=2.21.0->tensorboard<2.12,>=2.11->tensorflow) (2.0.12)\n",
            "Requirement already satisfied: idna<4,>=2.5 in /usr/local/lib/python3.9/dist-packages (from requests<3,>=2.21.0->tensorboard<2.12,>=2.11->tensorflow) (3.4)\n",
            "Requirement already satisfied: urllib3<1.27,>=1.21.1 in /usr/local/lib/python3.9/dist-packages (from requests<3,>=2.21.0->tensorboard<2.12,>=2.11->tensorflow) (1.26.15)\n",
            "Requirement already satisfied: MarkupSafe>=2.1.1 in /usr/local/lib/python3.9/dist-packages (from werkzeug>=1.0.1->tensorboard<2.12,>=2.11->tensorflow) (2.1.2)\n",
            "Requirement already satisfied: zipp>=0.5 in /usr/local/lib/python3.9/dist-packages (from importlib-metadata>=4.4->markdown>=2.6.8->tensorboard<2.12,>=2.11->tensorflow) (3.15.0)\n",
            "Requirement already satisfied: pyasn1<0.5.0,>=0.4.6 in /usr/local/lib/python3.9/dist-packages (from pyasn1-modules>=0.2.1->google-auth<3,>=1.6.3->tensorboard<2.12,>=2.11->tensorflow) (0.4.8)\n",
            "Requirement already satisfied: oauthlib>=3.0.0 in /usr/local/lib/python3.9/dist-packages (from requests-oauthlib>=0.7.0->google-auth-oauthlib<0.5,>=0.4.1->tensorboard<2.12,>=2.11->tensorflow) (3.2.2)\n"
          ]
        }
      ]
    },
    {
      "cell_type": "code",
      "source": [
        "import tensorflow as tf\n",
        "from tensorflow.keras.datasets import mnist\n",
        "from tensorflow.keras.models import load_model, Sequential\n",
        "from tensorflow.keras.layers import Dense,Flatten\n",
        "from tensorflow.keras.utils import to_categorical, plot_model\n",
        "\n",
        "import matplotlib.pyplot as plt\n",
        "import numpy as np\n",
        "\n",
        "import warnings\n",
        "from warnings import filterwarnings\n",
        "warnings.filterwarnings(\"ignore\", category=DeprecationWarning)\n",
        "warnings.filterwarnings(\"ignore\", category=FutureWarning)\n",
        "warnings.filterwarnings(\"ignore\", category=UserWarning)\n",
        "filterwarnings(\"ignore\")\n"
      ],
      "metadata": {
        "id": "b1vbYoCUWYQl"
      },
      "execution_count": null,
      "outputs": []
    },
    {
      "cell_type": "code",
      "source": [
        "(x_train, y_train),(x_test, y_test)=mnist.load_data()"
      ],
      "metadata": {
        "colab": {
          "base_uri": "https://localhost:8080/"
        },
        "id": "0frVFsYjWYS6",
        "outputId": "364b2c18-3ac3-4ea6-e1e5-63a37066532c"
      },
      "execution_count": null,
      "outputs": [
        {
          "output_type": "stream",
          "name": "stdout",
          "text": [
            "Downloading data from https://storage.googleapis.com/tensorflow/tf-keras-datasets/mnist.npz\n",
            "11490434/11490434 [==============================] - 0s 0us/step\n"
          ]
        }
      ]
    },
    {
      "cell_type": "code",
      "source": [
        "print(\"Eğitim Seti Boyutu\", x_train.shape, y_train.shape)"
      ],
      "metadata": {
        "colab": {
          "base_uri": "https://localhost:8080/"
        },
        "id": "7h8xTN7iWYVQ",
        "outputId": "121e9fce-1c54-4929-bb02-1909d891835f"
      },
      "execution_count": null,
      "outputs": [
        {
          "output_type": "stream",
          "name": "stdout",
          "text": [
            "Eğitim Seti Boyutu (60000, 28, 28) (60000,)\n"
          ]
        }
      ]
    },
    {
      "cell_type": "code",
      "source": [
        "num_labels=len(np.unique(y_train))"
      ],
      "metadata": {
        "id": "rAqM7adXSvEn"
      },
      "execution_count": null,
      "outputs": []
    },
    {
      "cell_type": "code",
      "source": [
        "# Veri setinden örnekler gösterilmesi:\n",
        "\n",
        "plt.figure(figsize=(10,10))\n",
        "plt.imshow(x_train[0],cmap=\"gray\")"
      ],
      "metadata": {
        "colab": {
          "base_uri": "https://localhost:8080/",
          "height": 610
        },
        "id": "Sa5CQw3laoWA",
        "outputId": "c6acec5f-bbbd-49fd-f6bd-198b77866a80"
      },
      "execution_count": null,
      "outputs": [
        {
          "output_type": "execute_result",
          "data": {
            "text/plain": [
              "<matplotlib.image.AxesImage at 0x7f2d2c3a9640>"
            ]
          },
          "metadata": {},
          "execution_count": 7
        },
        {
          "output_type": "display_data",
          "data": {
            "text/plain": [
              "<Figure size 720x720 with 1 Axes>"
            ],
            "image/png": "[encoded data removed]"
          },
          "metadata": {
            "needs_background": "light"
          }
        }
      ]
    },
    {
      "cell_type": "code",
      "source": [
        "plt.figure(figsize=(10,10))\n",
        "plt.imshow(x_train[1],cmap=\"gray\")"
      ],
      "metadata": {
        "colab": {
          "base_uri": "https://localhost:8080/",
          "height": 610
        },
        "id": "rqS5sWneaoYA",
        "outputId": "0a70abaf-44fc-4bd1-e492-c19a247bcdef"
      },
      "execution_count": null,
      "outputs": [
        {
          "output_type": "execute_result",
          "data": {
            "text/plain": [
              "<matplotlib.image.AxesImage at 0x7f2ca73c2f70>"
            ]
          },
          "metadata": {},
          "execution_count": 8
        },
        {
          "output_type": "display_data",
          "data": {
            "text/plain": [
              "<Figure size 720x720 with 1 Axes>"
            ],
            "image/png": "[encoded data removed]"
          },
          "metadata": {
            "needs_background": "light"
          }
        }
      ]
    },
    {
      "cell_type": "code",
      "source": [
        "plt.figure(figsize=(10,10))\n",
        "for n in range(10):\n",
        "  ax=plt.subplot(5,5,n+1)\n",
        "  plt.imshow(x_train[n],cmap=\"gray\")\n",
        "  plt.axis(\"off\")"
      ],
      "metadata": {
        "colab": {
          "base_uri": "https://localhost:8080/",
          "height": 237
        },
        "id": "8TU5ifjfaoaN",
        "outputId": "4b2f579a-4768-4134-d3da-069097a1bd52"
      },
      "execution_count": null,
      "outputs": [
        {
          "output_type": "display_data",
          "data": {
            "text/plain": [
              "<Figure size 720x720 with 10 Axes>"
            ],
            "image/png": "[encoded data removed]"
          },
          "metadata": {
            "needs_background": "light"
          }
        }
      ]
    },
    {
      "cell_type": "code",
      "source": [
        "# bu yaptığımız işlemi sonra daha rahat kullanmak için fonksiyon haline getiriyoruz:\n",
        "\n",
        "def visualize_img(data):\n",
        "  plt.figure(figsize=(10,10))\n",
        "  for n in range(10):\n",
        "    ax=plt.subplot(5,5,n+1)\n",
        "    plt.imshow(x_train[n],cmap=\"gray\")\n",
        "    plt.axis(\"off\")"
      ],
      "metadata": {
        "id": "5xSlGBJ2aocu"
      },
      "execution_count": null,
      "outputs": []
    },
    {
      "cell_type": "code",
      "source": [
        "visualize_img(x_train)"
      ],
      "metadata": {
        "colab": {
          "base_uri": "https://localhost:8080/",
          "height": 237
        },
        "id": "Wxh8xVw8aoez",
        "outputId": "94c603fc-101b-430a-fe9a-2e7feddfc40d"
      },
      "execution_count": null,
      "outputs": [
        {
          "output_type": "display_data",
          "data": {
            "text/plain": [
              "<Figure size 720x720 with 10 Axes>"
            ],
            "image/png": "[encoded data removed]"
          },
          "metadata": {
            "needs_background": "light"
          }
        }
      ]
    },
    {
      "cell_type": "code",
      "source": [
        "# Ekranda bir görüntü gördüğümüzde RGB renklerine göre yapılmıştır bu.\n",
        "# Örn: r:250 g:10 b:240 -> mor \n",
        "# 0-255 arası değer alır her biri.\n",
        "# İnternette rgb calculator kullanabilirsin renklerin değerleri için.\n",
        "# rgb(255,255,255)->beyaz | rgb(0,0,0)->siyah\n"
      ],
      "metadata": {
        "id": "-9v5QdbCcXdX"
      },
      "execution_count": null,
      "outputs": []
    },
    {
      "cell_type": "code",
      "source": [
        "x_train[2] #Burada gördüğümüz üzere resimler de numeric olarak saklanıyor sadece bize görsel hali görünüyor."
      ],
      "metadata": {
        "colab": {
          "base_uri": "https://localhost:8080/"
        },
        "id": "GE1DMSR2cXf7",
        "outputId": "78e02fef-b56e-4451-a55c-c63a6b9a4866"
      },
      "execution_count": null,
      "outputs": [
        {
          "output_type": "execute_result",
          "data": {
            "text/plain": [
              "array([[  0,   0,   0,   0,   0,   0,   0,   0,   0,   0,   0,   0,   0,\n",
              "          0,   0,   0,   0,   0,   0,   0,   0,   0,   0,   0,   0,   0,\n",
              "          0,   0],\n",
              "       [  0,   0,   0,   0,   0,   0,   0,   0,   0,   0,   0,   0,   0,\n",
              "          0,   0,   0,   0,   0,   0,   0,   0,   0,   0,   0,   0,   0,\n",
              "          0,   0],\n",
              "       [  0,   0,   0,   0,   0,   0,   0,   0,   0,   0,   0,   0,   0,\n",
              "          0,   0,   0,   0,   0,   0,   0,   0,   0,   0,   0,   0,   0,\n",
              "          0,   0],\n",
              "       [  0,   0,   0,   0,   0,   0,   0,   0,   0,   0,   0,   0,   0,\n",
              "          0,   0,   0,   0,   0,   0,   0,   0,   0,   0,   0,   0,   0,\n",
              "          0,   0],\n",
              "       [  0,   0,   0,   0,   0,   0,   0,   0,   0,   0,   0,   0,   0,\n",
              "          0,   0,   0,   0,   0,   0,   0,   0,   0,   0,   0,   0,   0,\n",
              "          0,   0],\n",
              "       [  0,   0,   0,   0,   0,   0,   0,   0,   0,   0,   0,   0,   0,\n",
              "          0,   0,   0,   0,   0,   0,   0,  67, 232,  39,   0,   0,   0,\n",
              "          0,   0],\n",
              "       [  0,   0,   0,   0,  62,  81,   0,   0,   0,   0,   0,   0,   0,\n",
              "          0,   0,   0,   0,   0,   0,   0, 120, 180,  39,   0,   0,   0,\n",
              "          0,   0],\n",
              "       [  0,   0,   0,   0, 126, 163,   0,   0,   0,   0,   0,   0,   0,\n",
              "          0,   0,   0,   0,   0,   0,   2, 153, 210,  40,   0,   0,   0,\n",
              "          0,   0],\n",
              "       [  0,   0,   0,   0, 220, 163,   0,   0,   0,   0,   0,   0,   0,\n",
              "          0,   0,   0,   0,   0,   0,  27, 254, 162,   0,   0,   0,   0,\n",
              "          0,   0],\n",
              "       [  0,   0,   0,   0, 222, 163,   0,   0,   0,   0,   0,   0,   0,\n",
              "          0,   0,   0,   0,   0,   0, 183, 254, 125,   0,   0,   0,   0,\n",
              "          0,   0],\n",
              "       [  0,   0,   0,  46, 245, 163,   0,   0,   0,   0,   0,   0,   0,\n",
              "          0,   0,   0,   0,   0,   0, 198, 254,  56,   0,   0,   0,   0,\n",
              "          0,   0],\n",
              "       [  0,   0,   0, 120, 254, 163,   0,   0,   0,   0,   0,   0,   0,\n",
              "          0,   0,   0,   0,   0,  23, 231, 254,  29,   0,   0,   0,   0,\n",
              "          0,   0],\n",
              "       [  0,   0,   0, 159, 254, 120,   0,   0,   0,   0,   0,   0,   0,\n",
              "          0,   0,   0,   0,   0, 163, 254, 216,  16,   0,   0,   0,   0,\n",
              "          0,   0],\n",
              "       [  0,   0,   0, 159, 254,  67,   0,   0,   0,   0,   0,   0,   0,\n",
              "          0,   0,  14,  86, 178, 248, 254,  91,   0,   0,   0,   0,   0,\n",
              "          0,   0],\n",
              "       [  0,   0,   0, 159, 254,  85,   0,   0,   0,  47,  49, 116, 144,\n",
              "        150, 241, 243, 234, 179, 241, 252,  40,   0,   0,   0,   0,   0,\n",
              "          0,   0],\n",
              "       [  0,   0,   0, 150, 253, 237, 207, 207, 207, 253, 254, 250, 240,\n",
              "        198, 143,  91,  28,   5, 233, 250,   0,   0,   0,   0,   0,   0,\n",
              "          0,   0],\n",
              "       [  0,   0,   0,   0, 119, 177, 177, 177, 177, 177,  98,  56,   0,\n",
              "          0,   0,   0,   0, 102, 254, 220,   0,   0,   0,   0,   0,   0,\n",
              "          0,   0],\n",
              "       [  0,   0,   0,   0,   0,   0,   0,   0,   0,   0,   0,   0,   0,\n",
              "          0,   0,   0,   0, 169, 254, 137,   0,   0,   0,   0,   0,   0,\n",
              "          0,   0],\n",
              "       [  0,   0,   0,   0,   0,   0,   0,   0,   0,   0,   0,   0,   0,\n",
              "          0,   0,   0,   0, 169, 254,  57,   0,   0,   0,   0,   0,   0,\n",
              "          0,   0],\n",
              "       [  0,   0,   0,   0,   0,   0,   0,   0,   0,   0,   0,   0,   0,\n",
              "          0,   0,   0,   0, 169, 254,  57,   0,   0,   0,   0,   0,   0,\n",
              "          0,   0],\n",
              "       [  0,   0,   0,   0,   0,   0,   0,   0,   0,   0,   0,   0,   0,\n",
              "          0,   0,   0,   0, 169, 255,  94,   0,   0,   0,   0,   0,   0,\n",
              "          0,   0],\n",
              "       [  0,   0,   0,   0,   0,   0,   0,   0,   0,   0,   0,   0,   0,\n",
              "          0,   0,   0,   0, 169, 254,  96,   0,   0,   0,   0,   0,   0,\n",
              "          0,   0],\n",
              "       [  0,   0,   0,   0,   0,   0,   0,   0,   0,   0,   0,   0,   0,\n",
              "          0,   0,   0,   0, 169, 254, 153,   0,   0,   0,   0,   0,   0,\n",
              "          0,   0],\n",
              "       [  0,   0,   0,   0,   0,   0,   0,   0,   0,   0,   0,   0,   0,\n",
              "          0,   0,   0,   0, 169, 255, 153,   0,   0,   0,   0,   0,   0,\n",
              "          0,   0],\n",
              "       [  0,   0,   0,   0,   0,   0,   0,   0,   0,   0,   0,   0,   0,\n",
              "          0,   0,   0,   0,  96, 254, 153,   0,   0,   0,   0,   0,   0,\n",
              "          0,   0],\n",
              "       [  0,   0,   0,   0,   0,   0,   0,   0,   0,   0,   0,   0,   0,\n",
              "          0,   0,   0,   0,   0,   0,   0,   0,   0,   0,   0,   0,   0,\n",
              "          0,   0],\n",
              "       [  0,   0,   0,   0,   0,   0,   0,   0,   0,   0,   0,   0,   0,\n",
              "          0,   0,   0,   0,   0,   0,   0,   0,   0,   0,   0,   0,   0,\n",
              "          0,   0],\n",
              "       [  0,   0,   0,   0,   0,   0,   0,   0,   0,   0,   0,   0,   0,\n",
              "          0,   0,   0,   0,   0,   0,   0,   0,   0,   0,   0,   0,   0,\n",
              "          0,   0]], dtype=uint8)"
            ]
          },
          "metadata": {},
          "execution_count": 13
        }
      ]
    },
    {
      "cell_type": "code",
      "source": [
        "x_train[2][14,10] #2. görselin 14,10 . pixellerdeki renklerin değerleri."
      ],
      "metadata": {
        "colab": {
          "base_uri": "https://localhost:8080/"
        },
        "id": "871aaA6QcXiB",
        "outputId": "c93e630b-f717-4d1f-a372-21382ac4e40b"
      },
      "execution_count": null,
      "outputs": [
        {
          "output_type": "execute_result",
          "data": {
            "text/plain": [
              "49"
            ]
          },
          "metadata": {},
          "execution_count": 14
        }
      ]
    },
    {
      "cell_type": "code",
      "source": [
        "# Elimizdeki veriyi görselleştirebilmek için fonksiyon yazacağız:\n",
        "\n",
        "def pixel_visualize(img):\n",
        "  fix=plt.figure(figsize=(12,12))\n",
        "  ax = plt.subplot(111)\n",
        "  ax.imshow(img, cmap=\"gray\")\n",
        "  width, height=img.shape\n",
        "  \n",
        "  threshold=img.max()/2.5\n",
        "\n",
        "  for x in range(width):\n",
        "    for y in range(height):\n",
        "      ax.annotate(str(round(img[x][y],2)),xy=(y,x),\n",
        "                  color=\"white\" if img[x][y]<threshold else \"black\")"
      ],
      "metadata": {
        "id": "dZ_sRymNcXkG"
      },
      "execution_count": null,
      "outputs": []
    },
    {
      "cell_type": "code",
      "source": [
        "pixel_visualize(x_train[2])"
      ],
      "metadata": {
        "colab": {
          "base_uri": "https://localhost:8080/",
          "height": 700
        },
        "id": "7NuAv6adcXmb",
        "outputId": "4bfbcf76-2890-44ea-a9ab-4e7f86d78c7c"
      },
      "execution_count": null,
      "outputs": [
        {
          "output_type": "display_data",
          "data": {
            "text/plain": [
              "<Figure size 864x864 with 1 Axes>"
            ],
            "image/png": "[encoded data removed]"
          },
          "metadata": {
            "needs_background": "light"
          }
        }
      ]
    },
    {
      "cell_type": "code",
      "source": [
        "# Veriyi Hazırlama (Data Preparation)"
      ],
      "metadata": {
        "id": "n_gVJHcdcXoh"
      },
      "execution_count": null,
      "outputs": []
    },
    {
      "cell_type": "code",
      "source": [
        "# Encoding part"
      ],
      "metadata": {
        "id": "i1eNWKyZxYIb"
      },
      "execution_count": null,
      "outputs": []
    },
    {
      "cell_type": "code",
      "source": [
        "y_train[0:5]"
      ],
      "metadata": {
        "id": "uGBAP7k1cXq3",
        "colab": {
          "base_uri": "https://localhost:8080/"
        },
        "outputId": "088d5007-cfa8-41b6-a945-9674b5f284ff"
      },
      "execution_count": null,
      "outputs": [
        {
          "output_type": "execute_result",
          "data": {
            "text/plain": [
              "array([5, 0, 4, 1, 9], dtype=uint8)"
            ]
          },
          "metadata": {},
          "execution_count": 18
        }
      ]
    },
    {
      "cell_type": "code",
      "source": [
        "y_train=to_categorical(y_train)\n",
        "y_test=to_categorical(y_test)"
      ],
      "metadata": {
        "id": "OP0wLlFYcXs9"
      },
      "execution_count": null,
      "outputs": []
    },
    {
      "cell_type": "code",
      "source": [
        "y_train[0:5]"
      ],
      "metadata": {
        "id": "ueu3QQVscXvS",
        "colab": {
          "base_uri": "https://localhost:8080/"
        },
        "outputId": "1666f99d-c31b-4a2c-c1ea-31470336ec54"
      },
      "execution_count": null,
      "outputs": [
        {
          "output_type": "execute_result",
          "data": {
            "text/plain": [
              "array([[0., 0., 0., 0., 0., 1., 0., 0., 0., 0.],\n",
              "       [1., 0., 0., 0., 0., 0., 0., 0., 0., 0.],\n",
              "       [0., 0., 0., 0., 1., 0., 0., 0., 0., 0.],\n",
              "       [0., 1., 0., 0., 0., 0., 0., 0., 0., 0.],\n",
              "       [0., 0., 0., 0., 0., 0., 0., 0., 0., 1.]], dtype=float32)"
            ]
          },
          "metadata": {},
          "execution_count": 20
        }
      ]
    },
    {
      "cell_type": "code",
      "source": [
        "# Reshaping part"
      ],
      "metadata": {
        "id": "Mf1JUny6cXxo"
      },
      "execution_count": null,
      "outputs": []
    },
    {
      "cell_type": "code",
      "source": [
        "image_size=x_train.shape[1]\n",
        "image_size"
      ],
      "metadata": {
        "id": "QtwCBruwcXz_",
        "colab": {
          "base_uri": "https://localhost:8080/"
        },
        "outputId": "3d61e696-2fd8-47f7-b6b9-290962efa692"
      },
      "execution_count": null,
      "outputs": [
        {
          "output_type": "execute_result",
          "data": {
            "text/plain": [
              "28"
            ]
          },
          "metadata": {},
          "execution_count": 24
        }
      ]
    },
    {
      "cell_type": "code",
      "source": [
        "print(f\"x_train boyutu: {x_train.shape}\")\n",
        "print(f\"x_test boyutu: {x_test.shape}\")"
      ],
      "metadata": {
        "colab": {
          "base_uri": "https://localhost:8080/"
        },
        "id": "aJHjNknyxyJr",
        "outputId": "3cec8bc8-33af-4b21-8d4f-ed79581b7ead"
      },
      "execution_count": null,
      "outputs": [
        {
          "output_type": "stream",
          "name": "stdout",
          "text": [
            "x_train boyutu: (60000, 28, 28)\n",
            "x_test boyutu: (10000, 28, 28)\n"
          ]
        }
      ]
    },
    {
      "cell_type": "code",
      "source": [
        "x_train=x_train.reshape(x_train.shape[0],28,28,1)\n",
        "x_test=x_test.reshape(x_test.shape[0],28,28,1)\n",
        "\n",
        "print(f\"x_train boyutu: {x_train.shape}\")\n",
        "print(f\"x_test boyutu: {x_test.shape}\")"
      ],
      "metadata": {
        "id": "jL6xxxipcX2D",
        "colab": {
          "base_uri": "https://localhost:8080/"
        },
        "outputId": "30e974a2-2b8c-46b1-8106-c8155d9c6efb"
      },
      "execution_count": null,
      "outputs": [
        {
          "output_type": "stream",
          "name": "stdout",
          "text": [
            "x_train boyutu: (60000, 28, 28, 1)\n",
            "x_test boyutu: (10000, 28, 28, 1)\n"
          ]
        }
      ]
    },
    {
      "cell_type": "code",
      "source": [
        "# Elimizdeki pixelleri 0 ile 1 arasına konumlandıracağız. Bunun nedeni ml modelinin hızlanması."
      ],
      "metadata": {
        "id": "1rr26lamcX4a"
      },
      "execution_count": null,
      "outputs": []
    },
    {
      "cell_type": "code",
      "source": [
        "# Standardization"
      ],
      "metadata": {
        "id": "-vYXK7tscX7S"
      },
      "execution_count": null,
      "outputs": []
    },
    {
      "cell_type": "code",
      "source": [
        "x_train=x_train.astype(\"float32\")/255\n",
        "x_test=x_test.astype(\"float32\")/255"
      ],
      "metadata": {
        "id": "E8UrRmLGcX9o"
      },
      "execution_count": null,
      "outputs": []
    },
    {
      "cell_type": "code",
      "source": [],
      "metadata": {
        "id": "38NUgEpgzhx8"
      },
      "execution_count": null,
      "outputs": []
    },
    {
      "cell_type": "code",
      "source": [
        "# Modellleme:"
      ],
      "metadata": {
        "id": "vH-1xGS9zoZ6"
      },
      "execution_count": null,
      "outputs": []
    },
    {
      "cell_type": "code",
      "source": [
        "model= tf.keras.Sequential([\n",
        "    Flatten(input_shape=(28,28,1)),\n",
        "    Dense(units=128, activation=\"relu\", name=\"layer1\"),\n",
        "    Dense(units=num_labels, activation=\"softmax\", name=\"otput_layer\")\n",
        "])\n",
        "\n",
        "model.compile(loss=\"categorical_crossentropy\",\n",
        "              optimizer=\"adam\",\n",
        "              metrics=[tf.keras.metrics.Precision(),tf.keras.metrics.Recall(),\"accuracy\"])\n"
      ],
      "metadata": {
        "id": "pw3WtZnszocN"
      },
      "execution_count": null,
      "outputs": []
    },
    {
      "cell_type": "code",
      "source": [
        "model.summary()"
      ],
      "metadata": {
        "colab": {
          "base_uri": "https://localhost:8080/"
        },
        "id": "UDgnQx16zoeS",
        "outputId": "a116941e-5018-4b78-af9c-ddf50d979f8a"
      },
      "execution_count": null,
      "outputs": [
        {
          "output_type": "stream",
          "name": "stdout",
          "text": [
            "Model: \"sequential\"\n",
            "_________________________________________________________________\n",
            " Layer (type)                Output Shape              Param #   \n",
            "=================================================================\n",
            " flatten (Flatten)           (None, 784)               0         \n",
            "                                                                 \n",
            " layer1 (Dense)              (None, 128)               100480    \n",
            "                                                                 \n",
            " otput_layer (Dense)         (None, 10)                1290      \n",
            "                                                                 \n",
            "=================================================================\n",
            "Total params: 101,770\n",
            "Trainable params: 101,770\n",
            "Non-trainable params: 0\n",
            "_________________________________________________________________\n"
          ]
        }
      ]
    },
    {
      "cell_type": "code",
      "source": [
        "model.fit(x_train,y_train,epochs=10,batch_size=128,validation_data=(x_test,y_test))"
      ],
      "metadata": {
        "colab": {
          "base_uri": "https://localhost:8080/"
        },
        "id": "-hCFZG3Yzogp",
        "outputId": "0aad9e2b-4f37-43f5-fd2f-614900a1bc83"
      },
      "execution_count": null,
      "outputs": [
        {
          "output_type": "stream",
          "name": "stdout",
          "text": [
            "Epoch 1/10\n",
            "469/469 [==============================] - 4s 9ms/step - loss: 0.0614 - precision: 0.9850 - recall: 0.9792 - accuracy: 0.9823 - val_loss: 0.0822 - val_precision: 0.9788 - val_recall: 0.9712 - val_accuracy: 0.9742\n",
            "Epoch 2/10\n",
            "469/469 [==============================] - 3s 6ms/step - loss: 0.0512 - precision: 0.9879 - recall: 0.9831 - accuracy: 0.9854 - val_loss: 0.0760 - val_precision: 0.9797 - val_recall: 0.9734 - val_accuracy: 0.9768\n",
            "Epoch 3/10\n",
            "469/469 [==============================] - 2s 4ms/step - loss: 0.0437 - precision: 0.9893 - recall: 0.9856 - accuracy: 0.9873 - val_loss: 0.0792 - val_precision: 0.9796 - val_recall: 0.9741 - val_accuracy: 0.9763\n",
            "Epoch 4/10\n",
            "469/469 [==============================] - 2s 5ms/step - loss: 0.0356 - precision: 0.9919 - recall: 0.9886 - accuracy: 0.9902 - val_loss: 0.0772 - val_precision: 0.9796 - val_recall: 0.9746 - val_accuracy: 0.9767\n",
            "Epoch 5/10\n",
            "469/469 [==============================] - 2s 5ms/step - loss: 0.0304 - precision: 0.9933 - recall: 0.9905 - accuracy: 0.9919 - val_loss: 0.0788 - val_precision: 0.9794 - val_recall: 0.9746 - val_accuracy: 0.9768\n",
            "Epoch 6/10\n",
            "469/469 [==============================] - 2s 5ms/step - loss: 0.0262 - precision: 0.9941 - recall: 0.9919 - accuracy: 0.9930 - val_loss: 0.0725 - val_precision: 0.9808 - val_recall: 0.9771 - val_accuracy: 0.9787\n",
            "Epoch 7/10\n",
            "469/469 [==============================] - 3s 7ms/step - loss: 0.0217 - precision: 0.9953 - recall: 0.9937 - accuracy: 0.9944 - val_loss: 0.0745 - val_precision: 0.9792 - val_recall: 0.9761 - val_accuracy: 0.9776\n",
            "Epoch 8/10\n",
            "469/469 [==============================] - 2s 5ms/step - loss: 0.0184 - precision: 0.9963 - recall: 0.9948 - accuracy: 0.9957 - val_loss: 0.0687 - val_precision: 0.9814 - val_recall: 0.9788 - val_accuracy: 0.9800\n",
            "Epoch 9/10\n",
            "469/469 [==============================] - 2s 5ms/step - loss: 0.0154 - precision: 0.9970 - recall: 0.9959 - accuracy: 0.9965 - val_loss: 0.0767 - val_precision: 0.9798 - val_recall: 0.9768 - val_accuracy: 0.9782\n",
            "Epoch 10/10\n",
            "469/469 [==============================] - 2s 4ms/step - loss: 0.0130 - precision: 0.9979 - recall: 0.9970 - accuracy: 0.9975 - val_loss: 0.0750 - val_precision: 0.9808 - val_recall: 0.9775 - val_accuracy: 0.9787\n"
          ]
        },
        {
          "output_type": "execute_result",
          "data": {
            "text/plain": [
              "<keras.callbacks.History at 0x7f2c940fff10>"
            ]
          },
          "metadata": {},
          "execution_count": 38
        }
      ]
    },
    {
      "cell_type": "code",
      "source": [],
      "metadata": {
        "id": "nXTxfakQzoi_"
      },
      "execution_count": null,
      "outputs": []
    },
    {
      "cell_type": "code",
      "source": [
        "# Model başarısı değerlendirme"
      ],
      "metadata": {
        "id": "v0c25XC6zolW"
      },
      "execution_count": null,
      "outputs": []
    },
    {
      "cell_type": "code",
      "source": [
        "history=model.fit(x_train,y_train,epochs=10,batch_size=128,validation_data=(x_test,y_test))"
      ],
      "metadata": {
        "colab": {
          "base_uri": "https://localhost:8080/"
        },
        "id": "WwUnR3wfzonr",
        "outputId": "af254449-963e-433f-d5a5-10ec5db3da2c"
      },
      "execution_count": null,
      "outputs": [
        {
          "output_type": "stream",
          "name": "stdout",
          "text": [
            "Epoch 1/10\n",
            "469/469 [==============================] - 5s 10ms/step - loss: 0.0115 - precision: 0.9979 - recall: 0.9973 - accuracy: 0.9976 - val_loss: 0.0778 - val_precision: 0.9809 - val_recall: 0.9776 - val_accuracy: 0.9791\n",
            "Epoch 2/10\n",
            "469/469 [==============================] - 2s 5ms/step - loss: 0.0102 - precision: 0.9982 - recall: 0.9976 - accuracy: 0.9979 - val_loss: 0.0782 - val_precision: 0.9803 - val_recall: 0.9782 - val_accuracy: 0.9792\n",
            "Epoch 3/10\n",
            "469/469 [==============================] - 2s 5ms/step - loss: 0.0093 - precision: 0.9983 - recall: 0.9979 - accuracy: 0.9981 - val_loss: 0.0784 - val_precision: 0.9804 - val_recall: 0.9786 - val_accuracy: 0.9790\n",
            "Epoch 4/10\n",
            "469/469 [==============================] - 2s 5ms/step - loss: 0.0067 - precision: 0.9991 - recall: 0.9989 - accuracy: 0.9990 - val_loss: 0.0779 - val_precision: 0.9813 - val_recall: 0.9793 - val_accuracy: 0.9801\n",
            "Epoch 5/10\n",
            "469/469 [==============================] - 3s 5ms/step - loss: 0.0063 - precision: 0.9989 - recall: 0.9987 - accuracy: 0.9988 - val_loss: 0.0881 - val_precision: 0.9787 - val_recall: 0.9764 - val_accuracy: 0.9771\n",
            "Epoch 6/10\n",
            "469/469 [==============================] - 4s 8ms/step - loss: 0.0071 - precision: 0.9985 - recall: 0.9983 - accuracy: 0.9985 - val_loss: 0.0803 - val_precision: 0.9808 - val_recall: 0.9794 - val_accuracy: 0.9798\n",
            "Epoch 7/10\n",
            "469/469 [==============================] - 3s 5ms/step - loss: 0.0051 - precision: 0.9992 - recall: 0.9991 - accuracy: 0.9991 - val_loss: 0.0792 - val_precision: 0.9808 - val_recall: 0.9789 - val_accuracy: 0.9796\n",
            "Epoch 8/10\n",
            "469/469 [==============================] - 2s 5ms/step - loss: 0.0029 - precision: 0.9998 - recall: 0.9998 - accuracy: 0.9998 - val_loss: 0.0835 - val_precision: 0.9801 - val_recall: 0.9784 - val_accuracy: 0.9790\n",
            "Epoch 9/10\n",
            "469/469 [==============================] - 2s 5ms/step - loss: 0.0027 - precision: 0.9998 - recall: 0.9998 - accuracy: 0.9998 - val_loss: 0.0889 - val_precision: 0.9793 - val_recall: 0.9778 - val_accuracy: 0.9785\n",
            "Epoch 10/10\n",
            "469/469 [==============================] - 3s 5ms/step - loss: 0.0072 - precision: 0.9981 - recall: 0.9979 - accuracy: 0.9980 - val_loss: 0.0929 - val_precision: 0.9793 - val_recall: 0.9774 - val_accuracy: 0.9780\n"
          ]
        }
      ]
    },
    {
      "cell_type": "code",
      "source": [
        "# Accuracy ve Loss Grafikleri\n",
        "\n",
        "# Grafik 1 Accuracy\n",
        "plt.figure(figsize=(20,5))\n",
        "plt.subplot(1,2,1)\n",
        "plt.plot(history.history[\"accuracy\"],color=\"b\", label=\"Training Accuracy\")\n",
        "plt.plot(history.history[\"val_accuracy\"],color=\"r\", label=\"Validation Accuracy\")\n",
        "plt.legend(loc=\"lower right\")\n",
        "plt.xlabel(\"Epoch\",fontsize=16)\n",
        "plt.ylabel(\"Accuracy\",fontsize=16)\n",
        "plt.ylim([min(plt.ylim()),1])\n",
        "plt.title(\"Eğitim ve Test Başarı Grafiği\")\n",
        "\n",
        "# Grafik 1 Loss\n",
        "\n",
        "plt.subplot(1,2,2)\n",
        "plt.plot(history.history[\"loss\"],color=\"b\", label=\"Training Loss\")\n",
        "plt.plot(history.history[\"val_loss\"],color=\"r\", label=\"Validation Loss\")\n",
        "plt.legend(loc=\"upper right\")\n",
        "plt.xlabel(\"Epoch\",fontsize=16)\n",
        "plt.ylabel(\"Loss\",fontsize=16)\n",
        "plt.ylim([0,max(plt.ylim())])\n",
        "plt.title(\"Eğitim ve Test Başarı Grafiği\")\n",
        "plt.show()"
      ],
      "metadata": {
        "colab": {
          "base_uri": "https://localhost:8080/",
          "height": 355
        },
        "id": "P-O3GRZAzoqB",
        "outputId": "59038758-1589-4e20-b061-c6ca3ef750ff"
      },
      "execution_count": null,
      "outputs": [
        {
          "output_type": "display_data",
          "data": {
            "text/plain": [
              "<Figure size 1440x360 with 2 Axes>"
            ],
            "image/png": "[encoded data removed]"
          },
          "metadata": {
            "needs_background": "light"
          }
        }
      ]
    },
    {
      "cell_type": "code",
      "source": [
        "# Bu grafiklerde epoch sayısıyla accuracy(başarılı sınıflandırma oranı) ve loss değerlerinin arasındaki bağlantıyı görüyoruz."
      ],
      "metadata": {
        "id": "weehipYtzosF"
      },
      "execution_count": null,
      "outputs": []
    },
    {
      "cell_type": "code",
      "source": [
        "loss, precision, recall, acc= model.evaluate(x_test, y_test, verbose=False)\n",
        "print(\"\\nTest Accuracy: %.lf%%\" % (100.0 * acc))\n",
        "print(\"\\nTest Loss: %.lf%%\" % (100.0 * loss))\n",
        "print(\"\\nTest Precision: %.lf%%\" % (100.0 * precision))\n",
        "print(\"\\nTest Recall: %.lf%%\" % (100.0 * recall))"
      ],
      "metadata": {
        "colab": {
          "base_uri": "https://localhost:8080/"
        },
        "id": "oehCWRjOzous",
        "outputId": "1c23a1d1-142a-43e9-95d6-fde234a42e30"
      },
      "execution_count": null,
      "outputs": [
        {
          "output_type": "stream",
          "name": "stdout",
          "text": [
            "\n",
            "Test Accuracy: 98%\n",
            "\n",
            "Test Loss: 9%\n",
            "\n",
            "Test Precision: 98%\n",
            "\n",
            "Test Recall: 98%\n"
          ]
        }
      ]
    },
    {
      "cell_type": "code",
      "source": [
        "# Modelin Kaydedilmesi ve Tahmin İçin Kullanılması"
      ],
      "metadata": {
        "id": "K9su3_VXzowy"
      },
      "execution_count": null,
      "outputs": []
    },
    {
      "cell_type": "code",
      "source": [
        "model.save(\"mnist_model.h5\")"
      ],
      "metadata": {
        "id": "wUTuO6zBGr_G"
      },
      "execution_count": null,
      "outputs": []
    },
    {
      "cell_type": "code",
      "source": [
        "import random\n",
        "\n",
        "random=random.randint(0,x_test.shape[0])"
      ],
      "metadata": {
        "id": "AtndskoFGsnj"
      },
      "execution_count": null,
      "outputs": []
    },
    {
      "cell_type": "code",
      "source": [
        "random"
      ],
      "metadata": {
        "colab": {
          "base_uri": "https://localhost:8080/"
        },
        "id": "D0ZQrF57GsqZ",
        "outputId": "d832c0df-e438-4817-9df1-d0415c4c5266"
      },
      "execution_count": null,
      "outputs": [
        {
          "output_type": "execute_result",
          "data": {
            "text/plain": [
              "4800"
            ]
          },
          "metadata": {},
          "execution_count": 47
        }
      ]
    },
    {
      "cell_type": "code",
      "source": [
        "test_image=x_test[random]"
      ],
      "metadata": {
        "id": "UgyOHZsjGssd"
      },
      "execution_count": null,
      "outputs": []
    },
    {
      "cell_type": "code",
      "source": [
        "y_test[random]"
      ],
      "metadata": {
        "colab": {
          "base_uri": "https://localhost:8080/"
        },
        "id": "qzkPBF-sGsvE",
        "outputId": "3df47975-347b-48f2-f77d-2518bdda5c32"
      },
      "execution_count": null,
      "outputs": [
        {
          "output_type": "execute_result",
          "data": {
            "text/plain": [
              "array([0., 0., 0., 0., 0., 0., 0., 1., 0., 0.], dtype=float32)"
            ]
          },
          "metadata": {},
          "execution_count": 49
        }
      ]
    },
    {
      "cell_type": "code",
      "source": [
        "plt.imshow(test_image.reshape(28,28),cmap=\"gray\");"
      ],
      "metadata": {
        "colab": {
          "base_uri": "https://localhost:8080/",
          "height": 265
        },
        "id": "s2vXCBB_Gsxb",
        "outputId": "7c0f704f-c66f-4847-b445-8f32ae6e579c"
      },
      "execution_count": null,
      "outputs": [
        {
          "output_type": "display_data",
          "data": {
            "text/plain": [
              "<Figure size 432x288 with 1 Axes>"
            ],
            "image/png": "[encoded data removed]"
          },
          "metadata": {
            "needs_background": "light"
          }
        }
      ]
    },
    {
      "cell_type": "code",
      "source": [
        "test_data=x_test[random].reshape(1,28,28,1)"
      ],
      "metadata": {
        "id": "IZV7dlaXGszg"
      },
      "execution_count": null,
      "outputs": []
    },
    {
      "cell_type": "code",
      "source": [
        "probability=model.predict(test_data)\n",
        "probability"
      ],
      "metadata": {
        "colab": {
          "base_uri": "https://localhost:8080/"
        },
        "id": "uZzJsLslGs12",
        "outputId": "86eabe25-f897-468f-f7c1-4e9d5b70cfad"
      },
      "execution_count": null,
      "outputs": [
        {
          "output_type": "stream",
          "name": "stdout",
          "text": [
            "1/1 [==============================] - 0s 89ms/step\n"
          ]
        },
        {
          "output_type": "execute_result",
          "data": {
            "text/plain": [
              "array([[5.3577351e-11, 4.3622836e-15, 7.2954129e-11, 3.0435757e-08,\n",
              "        1.0473520e-14, 2.2200446e-15, 1.6910545e-23, 1.0000000e+00,\n",
              "        7.2087881e-13, 3.1792901e-08]], dtype=float32)"
            ]
          },
          "metadata": {},
          "execution_count": 53
        }
      ]
    },
    {
      "cell_type": "code",
      "source": [
        "predicted_classes=np.argmax(probability)"
      ],
      "metadata": {
        "id": "ZIYa4wVgGs4N"
      },
      "execution_count": null,
      "outputs": []
    },
    {
      "cell_type": "code",
      "source": [
        "predicted_classes"
      ],
      "metadata": {
        "colab": {
          "base_uri": "https://localhost:8080/"
        },
        "id": "wQr91cfNH5aM",
        "outputId": "fc2a0207-1d1f-47c6-bffb-444cc6c06887"
      },
      "execution_count": null,
      "outputs": [
        {
          "output_type": "execute_result",
          "data": {
            "text/plain": [
              "7"
            ]
          },
          "metadata": {},
          "execution_count": 55
        }
      ]
    },
    {
      "cell_type": "code",
      "source": [],
      "metadata": {
        "id": "ai4G7nRhJadu"
      },
      "execution_count": null,
      "outputs": []
    },
    {
      "cell_type": "code",
      "source": [],
      "metadata": {
        "id": "dwPw2uSlJagx"
      },
      "execution_count": null,
      "outputs": []
    },
    {
      "cell_type": "code",
      "source": [],
      "metadata": {
        "id": "6oOOOE4kJaj5"
      },
      "execution_count": null,
      "outputs": []
    },
    {
      "cell_type": "markdown",
      "source": [
        "CNN"
      ],
      "metadata": {
        "id": "BKs5ea9YJQYn"
      }
    },
    {
      "cell_type": "code",
      "source": [
        "from google.colab import drive\n",
        "drive.mount('/content/drive')"
      ],
      "metadata": {
        "colab": {
          "base_uri": "https://localhost:8080/"
        },
        "id": "AEcYMNuEJMIf",
        "outputId": "872a67d5-b13e-4667-b1d2-99c803c747d9"
      },
      "execution_count": null,
      "outputs": [
        {
          "output_type": "stream",
          "name": "stdout",
          "text": [
            "Mounted at /content/drive\n"
          ]
        }
      ]
    },
    {
      "cell_type": "code",
      "source": [
        "# Üstte yaptığımız işlemle drivedaki dosyalarımızı artık colabte kullanabileceğiz."
      ],
      "metadata": {
        "id": "BeZ8KKFzJM5E"
      },
      "execution_count": null,
      "outputs": []
    },
    {
      "cell_type": "markdown",
      "source": [
        "CNN ile Katı Atık Tespiti\n",
        "1.   İş Problemleri (Business Problem)\n",
        "2.   Veriyi Anlamak (Data Understanding)\n",
        "3.   Veriyi Hazırlamak (Data Preparation)\n",
        "4.   Modelleme (Modeling)\n",
        "5.   Değerlendirme (Evaluation)\n"
      ],
      "metadata": {
        "id": "jYridIvSLtSA"
      }
    },
    {
      "cell_type": "code",
      "source": [],
      "metadata": {
        "id": "oj4SFWhaJNp9"
      },
      "execution_count": null,
      "outputs": []
    },
    {
      "cell_type": "markdown",
      "source": [
        "Gerekli kütüphanelerin import edilme işlemleri:"
      ],
      "metadata": {
        "id": "VTHQO2ndE-BX"
      }
    },
    {
      "cell_type": "code",
      "source": [
        "pip install imutils"
      ],
      "metadata": {
        "id": "6AF5WJCoJOi7",
        "colab": {
          "base_uri": "https://localhost:8080/"
        },
        "outputId": "e588681d-a680-4d8e-f822-b96d557f09dd"
      },
      "execution_count": null,
      "outputs": [
        {
          "output_type": "stream",
          "name": "stdout",
          "text": [
            "Looking in indexes: https://pypi.org/simple, https://us-python.pkg.dev/colab-wheels/public/simple/\n",
            "Requirement already satisfied: imutils in /usr/local/lib/python3.9/dist-packages (0.5.4)\n"
          ]
        }
      ]
    },
    {
      "cell_type": "code",
      "source": [
        "# Veriyi okuma ve işleme adımında kullanılacak olan kütüphaneler:\n",
        "import cv2\n",
        "import urllib\n",
        "import itertools\n",
        "import numpy as np\n",
        "import pandas as pd\n",
        "import seaborn as sns \n",
        "import random, os, glob\n",
        "from imutils import paths\n",
        "import matplotlib.pyplot as plt\n",
        "from sklearn.utils import shuffle \n",
        "from urllib.request import urlopen\n",
        "\n",
        "# Warningleri kapatma işlemi:\n",
        "import warnings\n",
        "warnings.filterwarnings(\"ignore\")\n",
        "\n",
        "# Model değerlendirme için kullanılacak olan kütüphaneler:\n",
        "from sklearn.metrics import confusion_matrix, classification_report\n",
        "\n",
        "# Model için kullanılacak olan kütüphaneler:\n",
        "import tensorflow as tf\n",
        "from tensorflow.keras.models import Sequential\n",
        "from tensorflow.keras.preprocessing import image \n",
        "from tensorflow.keras.utils import to_categorical\n",
        "from tensorflow.keras.callbacks import ModelCheckpoint, EarlyStopping\n",
        "from tensorflow.keras.layers import Conv2D, Flatten, MaxPooling2D, Dense, Dropout, SpatialDropout2D\n",
        "from tensorflow.keras.preprocessing.image import ImageDataGenerator, img_to_array, load_img, array_to_img"
      ],
      "metadata": {
        "id": "-VzHz-W9JOlO"
      },
      "execution_count": null,
      "outputs": []
    },
    {
      "cell_type": "markdown",
      "source": [
        "Veri Setining Okunması:"
      ],
      "metadata": {
        "id": "b8KMpIsQIkeu"
      }
    },
    {
      "cell_type": "markdown",
      "source": [
        "1- Google Colab Notebook ile Google Drive hesabının eşleştirilmesi."
      ],
      "metadata": {
        "id": "Tsj6JRGzItKa"
      }
    },
    {
      "cell_type": "markdown",
      "source": [
        "2- Veri setinin Google Drive a yüklenmesi ve adresinin Notebooka gösterilmesi."
      ],
      "metadata": {
        "id": "kWWNvdE0ItNA"
      }
    },
    {
      "cell_type": "markdown",
      "source": [
        "3-Veri setini okuyacak fonksiyonun tanımlanması."
      ],
      "metadata": {
        "id": "7ZbHoSgLItdK"
      }
    },
    {
      "cell_type": "code",
      "source": [
        "from google.colab import drive\n",
        "drive.mount('/content/drive')"
      ],
      "metadata": {
        "id": "LP5qfTMIJOsh",
        "colab": {
          "base_uri": "https://localhost:8080/"
        },
        "outputId": "3a07d940-3de3-409d-f492-2bb93951f195"
      },
      "execution_count": null,
      "outputs": [
        {
          "output_type": "stream",
          "name": "stdout",
          "text": [
            "Drive already mounted at /content/drive; to attempt to forcibly remount, call drive.mount(\"/content/drive\", force_remount=True).\n"
          ]
        }
      ]
    },
    {
      "cell_type": "code",
      "source": [
        "# Drive da bu veri setinde yer alan görüntülerin olduğu path bilgisinin tutulması:\n",
        "dir_path= \"/content/drive/MyDrive/Garbage classification\""
      ],
      "metadata": {
        "id": "UauOpqGMJOvH"
      },
      "execution_count": null,
      "outputs": []
    },
    {
      "cell_type": "code",
      "source": [
        "# Target size ve Label Etiket Değerlerinin Belirlenmesi:\n",
        "target_size=(224,224)\n",
        "\n",
        "waste_labels={\"cardboard\":0, \"glass\":1, \"metal\":2, \"paper\":3, \"plastic\":4,\"trash\":5}"
      ],
      "metadata": {
        "id": "OP-3EuABJOxe"
      },
      "execution_count": null,
      "outputs": []
    },
    {
      "cell_type": "code",
      "source": [
        "def load_datasets(path):\n",
        "  \"\"\"\n",
        "  Görsellerin bulunduğu dizindeki görüntüyü okuyup etiketlerini oluşturur.\n",
        "  Parametreler:\n",
        "  path: Görsellerin bulunduğu dizini ifade eder.\n",
        "  Return:\n",
        "  x: Görüntülere ait matris bilgilerini tutar.\n",
        "  labels: Görüntünün ait olduğu sınıf bilgisini tutan liste.\n",
        "\n",
        "  \"\"\"\n",
        "  \n",
        "  x=[]\n",
        "  labels=[]\n",
        "  #Gönderdiğimiz pathdeki görüntüleri listeleyip sıralamaktadır.\n",
        "  image_paths = sorted(list(paths.list_images(path)))\n",
        "\n",
        "  for image_path in image_paths:\n",
        "    # Belirtilen pathdeki görüntüler openCV kütüphanesi ile okunmaktadır.\n",
        "    img=cv2.imread(image_path)\n",
        "\n",
        "    # Okunan görüntüler başlangıçta belirlenen target_size a göre yeniden ölçeklendirilir.\n",
        "    img=cv2.resize(img,target_size)\n",
        "\n",
        "    # Ölçeklendirilen görüntüler x listesine eklenir.\n",
        "    x.append(img)\n",
        "\n",
        "    # Her bir path '/' ifadesi ile ayrıldığından dönen listenin sondan ikinci elemanı labelı temsil etmektedir.\n",
        "    label=image_path.split(os.path.sep)[-2]\n",
        "\n",
        "    # Yakalanan labelların sayısal değer karşılıklarının olduğu waste_labels sözlüğü içerisinden gönderilen key\n",
        "    # değerine karşılık value değeri alınarak label oluşturulur.\n",
        "    labels.append(waste_labels[label])\n",
        "\n",
        "  # Veri seti random bir şekilde karıştırılır.\n",
        "  x, labels=shuffle(x,labels, random_state=42)\n",
        "\n",
        "  # Boyut ve sınıf bilgisi raporlanmaktadır.\n",
        "  print(f\"X boyutu: {np.array(x).shape}\")\n",
        "  print(f\"Label sınıf sayısı: {len(np.unique(labels))} Gözlem sayısı: {len(labels)}\")\n",
        "\n",
        "  return x,labels"
      ],
      "metadata": {
        "id": "_CEzim9RJOz0"
      },
      "execution_count": null,
      "outputs": []
    },
    {
      "cell_type": "code",
      "source": [
        "x,labels=load_datasets(dir_path)"
      ],
      "metadata": {
        "id": "X0ZTmdy_JO2K",
        "colab": {
          "base_uri": "https://localhost:8080/"
        },
        "outputId": "f3e39cd3-f605-4387-e40a-694e233a9f6e"
      },
      "execution_count": null,
      "outputs": [
        {
          "output_type": "stream",
          "name": "stdout",
          "text": [
            "X boyutu: (2587, 224, 224, 3)\n",
            "Label sınıf sayısı: 6 Gözlem sayısı: 2587\n"
          ]
        }
      ]
    },
    {
      "cell_type": "code",
      "source": [
        "# Görüntü boyutlarının tutulması:\n",
        "input_shape = (np.array(x[0]).shape[1],np.array(x[0]).shape[1],3)\n",
        "print(input_shape)"
      ],
      "metadata": {
        "id": "J5N-ajLNJO4g",
        "colab": {
          "base_uri": "https://localhost:8080/"
        },
        "outputId": "4c8636c8-5165-4c76-b0d6-f5bd59b97ef0"
      },
      "execution_count": null,
      "outputs": [
        {
          "output_type": "stream",
          "name": "stdout",
          "text": [
            "(224, 224, 3)\n"
          ]
        }
      ]
    },
    {
      "cell_type": "markdown",
      "source": [
        "Veri Setinden Örnekler Görme:"
      ],
      "metadata": {
        "id": "rJ17ps9ty9j8"
      }
    },
    {
      "cell_type": "code",
      "source": [
        "def visualize_img(image_batch, label_batch):\n",
        "  \"\"\"\n",
        "  Veri seti içerisinden görüntü görselleştirir.\n",
        "\n",
        "  Parametreler:\n",
        "  \n",
        "  image_batch: Görüntülere ait matris bilgilerini tutar.\n",
        "\n",
        "  label_batch: Görüntünün ait olduğu sınıf bilgisini tutan liste.\n",
        "\n",
        "  \"\"\"\n",
        "\n",
        "  plt.figure(figsize=(10,10))\n",
        "  for n in range(10):\n",
        "    ax=plt.subplot(5,5,n+1)\n",
        "    plt.imshow(image_batch[n])\n",
        "    plt.title(np.array(list(waste_labels.keys()))[to_categorical(labels,num_classes=6)[n]==1][0].title())\n",
        "    plt.axis(\"off\")"
      ],
      "metadata": {
        "id": "IUSiXsxUJO7H"
      },
      "execution_count": null,
      "outputs": []
    },
    {
      "cell_type": "code",
      "source": [
        "visualize_img(x,labels)"
      ],
      "metadata": {
        "colab": {
          "base_uri": "https://localhost:8080/",
          "height": 351
        },
        "id": "Z7GCNLz2zCFv",
        "outputId": "dee82e1b-8d70-4aae-ced6-c018962787f8"
      },
      "execution_count": null,
      "outputs": [
        {
          "output_type": "display_data",
          "data": {
            "text/plain": [
              "<Figure size 1000x1000 with 10 Axes>"
            ],
            "image/png": "[encoded data removed]"
          },
          "metadata": {}
        }
      ]
    },
    {
      "cell_type": "code",
      "source": [],
      "metadata": {
        "id": "wskbj-s6zCH1"
      },
      "execution_count": null,
      "outputs": []
    },
    {
      "cell_type": "markdown",
      "source": [
        "Veriyi Hazırlama:"
      ],
      "metadata": {
        "id": "L-m-6gUf03sl"
      }
    },
    {
      "cell_type": "code",
      "source": [
        "# Train veri seti için bir generator tanımlıyoruz:\n",
        "train = ImageDataGenerator(horizontal_flip = True,\n",
        "                           vertical_flip=True,\n",
        "                           validation_split=0.1,\n",
        "                           rescale=1./255,\n",
        "                           shear_range=0.1,\n",
        "                           zoom_range=0.1,\n",
        "                           width_shift_range=0.1,\n",
        "                           height_shift_range=0.1\n",
        "                           )\n",
        "\n",
        "# Test veri seti için bir generator tanımlıyoruz.\n",
        "test=ImageDataGenerator(rescale=1/225,\n",
        "                        validation_split=0.1)"
      ],
      "metadata": {
        "id": "bLHZdVV8zCL_"
      },
      "execution_count": null,
      "outputs": []
    },
    {
      "cell_type": "code",
      "source": [
        "train_generator=train.flow_from_directory(directory=dir_path,\n",
        "                                          target_size=(target_size),\n",
        "                                          class_mode=\"categorical\",\n",
        "                                          subset=\"training\")\n",
        "test_generator=test.flow_from_directory(directory=dir_path,\n",
        "                                        target_size=(target_size),\n",
        "                                        batch_size=251,\n",
        "                                        class_mode=\"categorical\",\n",
        "                                        subset=\"validation\")"
      ],
      "metadata": {
        "colab": {
          "base_uri": "https://localhost:8080/"
        },
        "id": "mFtVZUmUzCOE",
        "outputId": "f4e74ee1-cdc4-40fc-ef5e-d7e7e3a84f79"
      },
      "execution_count": null,
      "outputs": [
        {
          "output_type": "stream",
          "name": "stdout",
          "text": [
            "Found 2330 images belonging to 6 classes.\n",
            "Found 257 images belonging to 6 classes.\n"
          ]
        }
      ]
    },
    {
      "cell_type": "code",
      "source": [],
      "metadata": {
        "id": "sdh2298kzCQK"
      },
      "execution_count": null,
      "outputs": []
    },
    {
      "cell_type": "markdown",
      "source": [
        "Modelleme"
      ],
      "metadata": {
        "id": "kQHkFX2k8otm"
      }
    },
    {
      "cell_type": "markdown",
      "source": [
        "Sıfırdan CNN Modeli Kurma:\n",
        "* Sequential \n",
        "* Evrişim Katmanı (Convolution Layer, Conv2D)\n",
        "* Havuzlama Katmanı(Pooling Layer)\n",
        "* Aktivasyon Fonksiyonu Katmanı (Avtivation Layer)\n",
        "* Flattenşng Katmanı\n",
        "* Dense Katmanı\n",
        "* Dropout Katmanı\n",
        "\n"
      ],
      "metadata": {
        "id": "YOM6Xxmg8rpi"
      }
    },
    {
      "cell_type": "code",
      "source": [
        "model=Sequential()\n",
        "model.add(Conv2D(filters=32, kernel_size=(3,3),padding=\"same\", input_shape=(input_shape),activation=\"relu\"))\n",
        "model.add(MaxPooling2D(pool_size=2,strides=(2,2)))\n",
        "\n",
        "model.add(Conv2D(filters=64,kernel_size=(3,3),padding=\"same\",activation=\"relu\"))\n",
        "model.add(MaxPooling2D(pool_size=2,strides=(2,2)))\n",
        "\n",
        "model.add(Conv2D(filters=32,kernel_size=(3,3),padding=\"same\",activation=\"relu\"))\n",
        "model.add(MaxPooling2D(pool_size=2,strides=(2,2)))\n",
        "\n",
        "model.add(Flatten())\n",
        "\n",
        "model.add(Dense(units=64,activation=\"relu\"))\n",
        "model.add(Dropout(rate=0.2))\n",
        "\n",
        "model.add(Dense(units=32,activation=\"relu\"))\n",
        "model.add(Dropout(rate=0.2))\n",
        "\n",
        "model.add(Dense(units=6, activation=\"softmax\"))"
      ],
      "metadata": {
        "id": "GMI_R9HTzCUk"
      },
      "execution_count": null,
      "outputs": []
    },
    {
      "cell_type": "markdown",
      "source": [
        "Model Özeti"
      ],
      "metadata": {
        "id": "qOrW5VdqF4P8"
      }
    },
    {
      "cell_type": "code",
      "source": [
        "model.summary()"
      ],
      "metadata": {
        "colab": {
          "base_uri": "https://localhost:8080/"
        },
        "id": "IbIGbLKbzCbI",
        "outputId": "30d3dea9-8782-4a8f-f750-9f0461dfe7a3"
      },
      "execution_count": null,
      "outputs": [
        {
          "output_type": "stream",
          "name": "stdout",
          "text": [
            "Model: \"sequential\"\n",
            "_________________________________________________________________\n",
            " Layer (type)                Output Shape              Param #   \n",
            "=================================================================\n",
            " conv2d (Conv2D)             (None, 224, 224, 32)      896       \n",
            "                                                                 \n",
            " max_pooling2d (MaxPooling2D  (None, 112, 112, 32)     0         \n",
            " )                                                               \n",
            "                                                                 \n",
            " conv2d_1 (Conv2D)           (None, 112, 112, 64)      18496     \n",
            "                                                                 \n",
            " max_pooling2d_1 (MaxPooling  (None, 56, 56, 64)       0         \n",
            " 2D)                                                             \n",
            "                                                                 \n",
            " conv2d_2 (Conv2D)           (None, 56, 56, 32)        18464     \n",
            "                                                                 \n",
            " max_pooling2d_2 (MaxPooling  (None, 28, 28, 32)       0         \n",
            " 2D)                                                             \n",
            "                                                                 \n",
            " flatten (Flatten)           (None, 25088)             0         \n",
            "                                                                 \n",
            " dense (Dense)               (None, 64)                1605696   \n",
            "                                                                 \n",
            " dropout (Dropout)           (None, 64)                0         \n",
            "                                                                 \n",
            " dense_1 (Dense)             (None, 32)                2080      \n",
            "                                                                 \n",
            " dropout_1 (Dropout)         (None, 32)                0         \n",
            "                                                                 \n",
            " dense_2 (Dense)             (None, 6)                 198       \n",
            "                                                                 \n",
            "=================================================================\n",
            "Total params: 1,645,830\n",
            "Trainable params: 1,645,830\n",
            "Non-trainable params: 0\n",
            "_________________________________________________________________\n"
          ]
        }
      ]
    },
    {
      "cell_type": "code",
      "source": [
        "# Evrişim katmanları görüntüden özellik çıkarmak için kullanılan katmanlar,\n",
        "# Pooling katmanları görüntüden özellik çıkarma işlemlerini destekleyen ara katmanlar,\n",
        "# Flatten ile klasik bir sinir ağı yapısına geçiş yapıyoruz,\n",
        "# Dropout ile de aşırı öğrenmenin önüne geçiyoruz,\n",
        "# softmax ile de çıkış katmanımızı oluşturduk."
      ],
      "metadata": {
        "id": "E4tnmnLjzCdc"
      },
      "execution_count": null,
      "outputs": []
    },
    {
      "cell_type": "markdown",
      "source": [
        "Optimizasyon ve Değerlendirme Metriklerinin Ayarlanması"
      ],
      "metadata": {
        "id": "zb2x5P2aJehV"
      }
    },
    {
      "cell_type": "code",
      "source": [
        "model.compile(loss=\"categorical_crossentropy\",\n",
        "              optimizer=\"adam\",\n",
        "              metrics=[tf.keras.metrics.Precision(),tf.keras.metrics.Recall(),\"acc\"])"
      ],
      "metadata": {
        "id": "CAWDvnhMzCfi"
      },
      "execution_count": null,
      "outputs": []
    },
    {
      "cell_type": "code",
      "source": [
        "# Aşırı öğrenmeyi engellemek için erken durdurma yöntemi:\n",
        "callbacks = [EarlyStopping(monitor=\"val_loss\",patience=50,verbose=1,mode=\"min\"),\n",
        "             ModelCheckpoint(filepath=\"mymodel.h5\",monitor=\"val_loss\", mode=\"min\",save_best_only=True, save_weights_only=False,verbose=1)]"
      ],
      "metadata": {
        "id": "KEII53h3zCjN"
      },
      "execution_count": null,
      "outputs": []
    },
    {
      "cell_type": "markdown",
      "source": [
        "Modelin Eğitilmesi"
      ],
      "metadata": {
        "id": "MsMrQJ6XRdwY"
      }
    },
    {
      "cell_type": "code",
      "source": [
        "history = model.fit_generator(generator=train_generator,\n",
        "                               epochs=100,\n",
        "                               validation_data=test_generator,\n",
        "                               callbacks=callbacks,\n",
        "                               workers=4,\n",
        "                               steps_per_epoch=2330//32,\n",
        "                               validation_steps=257//32)"
      ],
      "metadata": {
        "colab": {
          "base_uri": "https://localhost:8080/"
        },
        "id": "SbE_hADZzCoH",
        "outputId": "9ceedc13-d716-4fa3-d23d-fd5b498d0b51"
      },
      "execution_count": null,
      "outputs": [
        {
          "output_type": "stream",
          "name": "stdout",
          "text": [
            "Epoch 1/100\n",
            "72/72 [==============================] - ETA: 0s - loss: 1.7504 - precision: 0.3438 - recall: 0.0048 - acc: 0.2211\n",
            "Epoch 1: val_loss improved from inf to 1.62830, saving model to mymodel.h5\n",
            "72/72 [==============================] - 56s 571ms/step - loss: 1.7504 - precision: 0.3438 - recall: 0.0048 - acc: 0.2211 - val_loss: 1.6283 - val_precision: 0.7727 - val_recall: 0.0661 - val_acc: 0.1984\n",
            "Epoch 2/100\n",
            "72/72 [==============================] - ETA: 0s - loss: 1.5779 - precision: 0.6349 - recall: 0.0870 - acc: 0.3307\n",
            "Epoch 2: val_loss improved from 1.62830 to 1.41983, saving model to mymodel.h5\n",
            "72/72 [==============================] - 40s 539ms/step - loss: 1.5779 - precision: 0.6349 - recall: 0.0870 - acc: 0.3307 - val_loss: 1.4198 - val_precision: 0.7463 - val_recall: 0.1946 - val_acc: 0.3813\n",
            "Epoch 3/100\n",
            "72/72 [==============================] - ETA: 0s - loss: 1.4657 - precision: 0.6831 - recall: 0.1388 - acc: 0.3816\n",
            "Epoch 3: val_loss did not improve from 1.41983\n",
            "72/72 [==============================] - 39s 532ms/step - loss: 1.4657 - precision: 0.6831 - recall: 0.1388 - acc: 0.3816 - val_loss: 1.5032 - val_precision: 0.9000 - val_recall: 0.0700 - val_acc: 0.3580\n",
            "Epoch 4/100\n",
            "72/72 [==============================] - ETA: 0s - loss: 1.3924 - precision: 0.6855 - recall: 0.1849 - acc: 0.4317\n",
            "Epoch 4: val_loss improved from 1.41983 to 1.29563, saving model to mymodel.h5\n",
            "72/72 [==============================] - 40s 529ms/step - loss: 1.3924 - precision: 0.6855 - recall: 0.1849 - acc: 0.4317 - val_loss: 1.2956 - val_precision: 0.7547 - val_recall: 0.3113 - val_acc: 0.4358\n",
            "Epoch 5/100\n",
            "72/72 [==============================] - ETA: 0s - loss: 1.3303 - precision: 0.7056 - recall: 0.2315 - acc: 0.4761\n",
            "Epoch 5: val_loss did not improve from 1.29563\n",
            "72/72 [==============================] - 41s 539ms/step - loss: 1.3303 - precision: 0.7056 - recall: 0.2315 - acc: 0.4761 - val_loss: 1.3004 - val_precision: 0.6748 - val_recall: 0.3230 - val_acc: 0.4903\n",
            "Epoch 6/100\n",
            "72/72 [==============================] - ETA: 0s - loss: 1.2872 - precision: 0.6985 - recall: 0.2702 - acc: 0.4874\n",
            "Epoch 6: val_loss improved from 1.29563 to 1.26384, saving model to mymodel.h5\n",
            "72/72 [==============================] - 49s 672ms/step - loss: 1.2872 - precision: 0.6985 - recall: 0.2702 - acc: 0.4874 - val_loss: 1.2638 - val_precision: 0.7288 - val_recall: 0.3346 - val_acc: 0.4981\n",
            "Epoch 7/100\n",
            "72/72 [==============================] - ETA: 0s - loss: 1.3052 - precision: 0.7194 - recall: 0.2554 - acc: 0.4900\n",
            "Epoch 7: val_loss improved from 1.26384 to 1.20747, saving model to mymodel.h5\n",
            "72/72 [==============================] - 39s 527ms/step - loss: 1.3052 - precision: 0.7194 - recall: 0.2554 - acc: 0.4900 - val_loss: 1.2075 - val_precision: 0.7071 - val_recall: 0.2724 - val_acc: 0.5058\n",
            "Epoch 8/100\n",
            "72/72 [==============================] - ETA: 0s - loss: 1.2654 - precision: 0.7000 - recall: 0.2924 - acc: 0.5061\n",
            "Epoch 8: val_loss did not improve from 1.20747\n",
            "72/72 [==============================] - 49s 657ms/step - loss: 1.2654 - precision: 0.7000 - recall: 0.2924 - acc: 0.5061 - val_loss: 1.3751 - val_precision: 0.6167 - val_recall: 0.2879 - val_acc: 0.4475\n",
            "Epoch 9/100\n",
            "72/72 [==============================] - ETA: 0s - loss: 1.2218 - precision: 0.7111 - recall: 0.3085 - acc: 0.5161\n",
            "Epoch 9: val_loss did not improve from 1.20747\n",
            "72/72 [==============================] - 40s 539ms/step - loss: 1.2218 - precision: 0.7111 - recall: 0.3085 - acc: 0.5161 - val_loss: 1.2228 - val_precision: 0.6791 - val_recall: 0.3541 - val_acc: 0.5331\n",
            "Epoch 10/100\n",
            "72/72 [==============================] - ETA: 0s - loss: 1.1450 - precision: 0.7460 - recall: 0.3629 - acc: 0.5557\n",
            "Epoch 10: val_loss improved from 1.20747 to 1.12840, saving model to mymodel.h5\n",
            "72/72 [==============================] - 39s 535ms/step - loss: 1.1450 - precision: 0.7460 - recall: 0.3629 - acc: 0.5557 - val_loss: 1.1284 - val_precision: 0.7634 - val_recall: 0.3891 - val_acc: 0.5564\n",
            "Epoch 11/100\n",
            "72/72 [==============================] - ETA: 0s - loss: 1.1275 - precision: 0.7384 - recall: 0.3747 - acc: 0.5653\n",
            "Epoch 11: val_loss did not improve from 1.12840\n",
            "72/72 [==============================] - 40s 531ms/step - loss: 1.1275 - precision: 0.7384 - recall: 0.3747 - acc: 0.5653 - val_loss: 1.2122 - val_precision: 0.7222 - val_recall: 0.4047 - val_acc: 0.5097\n",
            "Epoch 12/100\n",
            "72/72 [==============================] - ETA: 0s - loss: 1.1813 - precision: 0.7364 - recall: 0.3429 - acc: 0.5479\n",
            "Epoch 12: val_loss did not improve from 1.12840\n",
            "72/72 [==============================] - 41s 539ms/step - loss: 1.1813 - precision: 0.7364 - recall: 0.3429 - acc: 0.5479 - val_loss: 1.1547 - val_precision: 0.7966 - val_recall: 0.3658 - val_acc: 0.5720\n",
            "Epoch 13/100\n",
            "72/72 [==============================] - ETA: 0s - loss: 1.1092 - precision: 0.7445 - recall: 0.3842 - acc: 0.5766\n",
            "Epoch 13: val_loss did not improve from 1.12840\n",
            "72/72 [==============================] - 41s 554ms/step - loss: 1.1092 - precision: 0.7445 - recall: 0.3842 - acc: 0.5766 - val_loss: 1.1935 - val_precision: 0.6923 - val_recall: 0.3852 - val_acc: 0.5447\n",
            "Epoch 14/100\n",
            "72/72 [==============================] - ETA: 0s - loss: 1.1006 - precision: 0.7615 - recall: 0.3973 - acc: 0.5766\n",
            "Epoch 14: val_loss did not improve from 1.12840\n",
            "72/72 [==============================] - 40s 550ms/step - loss: 1.1006 - precision: 0.7615 - recall: 0.3973 - acc: 0.5766 - val_loss: 1.1935 - val_precision: 0.6358 - val_recall: 0.4008 - val_acc: 0.5720\n",
            "Epoch 15/100\n",
            "72/72 [==============================] - ETA: 0s - loss: 1.0594 - precision: 0.7595 - recall: 0.4191 - acc: 0.6001\n",
            "Epoch 15: val_loss did not improve from 1.12840\n",
            "72/72 [==============================] - 49s 668ms/step - loss: 1.0594 - precision: 0.7595 - recall: 0.4191 - acc: 0.6001 - val_loss: 1.4777 - val_precision: 0.5614 - val_recall: 0.3735 - val_acc: 0.4669\n",
            "Epoch 16/100\n",
            "71/72 [============================>.] - ETA: 0s - loss: 1.0790 - precision: 0.7512 - recall: 0.4184 - acc: 0.5874\n",
            "Epoch 16: val_loss did not improve from 1.12840\n",
            "72/72 [==============================] - 41s 544ms/step - loss: 1.0762 - precision: 0.7529 - recall: 0.4204 - acc: 0.5879 - val_loss: 1.1609 - val_precision: 0.7442 - val_recall: 0.3735 - val_acc: 0.5759\n",
            "Epoch 17/100\n",
            "72/72 [==============================] - ETA: 0s - loss: 1.0486 - precision: 0.7821 - recall: 0.4265 - acc: 0.6153\n",
            "Epoch 17: val_loss improved from 1.12840 to 1.11211, saving model to mymodel.h5\n",
            "72/72 [==============================] - 49s 677ms/step - loss: 1.0486 - precision: 0.7821 - recall: 0.4265 - acc: 0.6153 - val_loss: 1.1121 - val_precision: 0.7820 - val_recall: 0.4047 - val_acc: 0.6031\n",
            "Epoch 18/100\n",
            "72/72 [==============================] - ETA: 0s - loss: 1.0134 - precision: 0.7818 - recall: 0.4460 - acc: 0.6266\n",
            "Epoch 18: val_loss did not improve from 1.11211\n",
            "72/72 [==============================] - 39s 535ms/step - loss: 1.0134 - precision: 0.7818 - recall: 0.4460 - acc: 0.6266 - val_loss: 1.1779 - val_precision: 0.6807 - val_recall: 0.4397 - val_acc: 0.5837\n",
            "Epoch 19/100\n",
            "72/72 [==============================] - ETA: 0s - loss: 1.0363 - precision: 0.7808 - recall: 0.4556 - acc: 0.6179\n",
            "Epoch 19: val_loss did not improve from 1.11211\n",
            "72/72 [==============================] - 39s 536ms/step - loss: 1.0363 - precision: 0.7808 - recall: 0.4556 - acc: 0.6179 - val_loss: 1.1488 - val_precision: 0.7333 - val_recall: 0.3852 - val_acc: 0.5486\n",
            "Epoch 20/100\n",
            "72/72 [==============================] - ETA: 0s - loss: 0.9614 - precision: 0.8028 - recall: 0.4817 - acc: 0.6527\n",
            "Epoch 20: val_loss did not improve from 1.11211\n",
            "72/72 [==============================] - 40s 530ms/step - loss: 0.9614 - precision: 0.8028 - recall: 0.4817 - acc: 0.6527 - val_loss: 1.1699 - val_precision: 0.6667 - val_recall: 0.4358 - val_acc: 0.5603\n",
            "Epoch 21/100\n",
            "72/72 [==============================] - ETA: 0s - loss: 0.9538 - precision: 0.7981 - recall: 0.4869 - acc: 0.6545\n",
            "Epoch 21: val_loss did not improve from 1.11211\n",
            "72/72 [==============================] - 40s 531ms/step - loss: 0.9538 - precision: 0.7981 - recall: 0.4869 - acc: 0.6545 - val_loss: 1.1274 - val_precision: 0.6686 - val_recall: 0.4475 - val_acc: 0.5720\n",
            "Epoch 22/100\n",
            "72/72 [==============================] - ETA: 0s - loss: 0.9642 - precision: 0.7906 - recall: 0.4848 - acc: 0.6475\n",
            "Epoch 22: val_loss improved from 1.11211 to 1.07802, saving model to mymodel.h5\n",
            "72/72 [==============================] - 41s 549ms/step - loss: 0.9642 - precision: 0.7906 - recall: 0.4848 - acc: 0.6475 - val_loss: 1.0780 - val_precision: 0.7285 - val_recall: 0.4280 - val_acc: 0.5525\n",
            "Epoch 23/100\n",
            "72/72 [==============================] - ETA: 0s - loss: 0.9379 - precision: 0.7993 - recall: 0.4939 - acc: 0.6588\n",
            "Epoch 23: val_loss improved from 1.07802 to 1.03469, saving model to mymodel.h5\n",
            "72/72 [==============================] - 41s 552ms/step - loss: 0.9379 - precision: 0.7993 - recall: 0.4939 - acc: 0.6588 - val_loss: 1.0347 - val_precision: 0.7355 - val_recall: 0.4436 - val_acc: 0.5953\n",
            "Epoch 24/100\n",
            "72/72 [==============================] - ETA: 0s - loss: 0.9451 - precision: 0.7924 - recall: 0.5148 - acc: 0.6571\n",
            "Epoch 24: val_loss did not improve from 1.03469\n",
            "72/72 [==============================] - 49s 668ms/step - loss: 0.9451 - precision: 0.7924 - recall: 0.5148 - acc: 0.6571 - val_loss: 1.0927 - val_precision: 0.7971 - val_recall: 0.4280 - val_acc: 0.5953\n",
            "Epoch 25/100\n",
            "72/72 [==============================] - ETA: 0s - loss: 0.9639 - precision: 0.7833 - recall: 0.4861 - acc: 0.6440\n",
            "Epoch 25: val_loss did not improve from 1.03469\n",
            "72/72 [==============================] - 39s 528ms/step - loss: 0.9639 - precision: 0.7833 - recall: 0.4861 - acc: 0.6440 - val_loss: 1.0538 - val_precision: 0.7396 - val_recall: 0.4864 - val_acc: 0.6031\n",
            "Epoch 26/100\n",
            "72/72 [==============================] - ETA: 0s - loss: 0.9085 - precision: 0.8101 - recall: 0.5292 - acc: 0.6780\n",
            "Epoch 26: val_loss did not improve from 1.03469\n",
            "72/72 [==============================] - 38s 524ms/step - loss: 0.9085 - precision: 0.8101 - recall: 0.5292 - acc: 0.6780 - val_loss: 1.0813 - val_precision: 0.7032 - val_recall: 0.4241 - val_acc: 0.5720\n",
            "Epoch 27/100\n",
            "72/72 [==============================] - ETA: 0s - loss: 0.8648 - precision: 0.8008 - recall: 0.5544 - acc: 0.6902\n",
            "Epoch 27: val_loss did not improve from 1.03469\n",
            "72/72 [==============================] - 40s 533ms/step - loss: 0.8648 - precision: 0.8008 - recall: 0.5544 - acc: 0.6902 - val_loss: 1.1190 - val_precision: 0.7101 - val_recall: 0.4669 - val_acc: 0.5837\n",
            "Epoch 28/100\n",
            "72/72 [==============================] - ETA: 0s - loss: 0.9450 - precision: 0.7975 - recall: 0.5226 - acc: 0.6658\n",
            "Epoch 28: val_loss did not improve from 1.03469\n",
            "72/72 [==============================] - 49s 665ms/step - loss: 0.9450 - precision: 0.7975 - recall: 0.5226 - acc: 0.6658 - val_loss: 1.1201 - val_precision: 0.7006 - val_recall: 0.4825 - val_acc: 0.6109\n",
            "Epoch 29/100\n",
            "72/72 [==============================] - ETA: 0s - loss: 0.9129 - precision: 0.8071 - recall: 0.5444 - acc: 0.6754\n",
            "Epoch 29: val_loss improved from 1.03469 to 0.98949, saving model to mymodel.h5\n",
            "72/72 [==============================] - 39s 532ms/step - loss: 0.9129 - precision: 0.8071 - recall: 0.5444 - acc: 0.6754 - val_loss: 0.9895 - val_precision: 0.7965 - val_recall: 0.5331 - val_acc: 0.6459\n",
            "Epoch 30/100\n",
            "72/72 [==============================] - ETA: 0s - loss: 0.8633 - precision: 0.8046 - recall: 0.5609 - acc: 0.6963\n",
            "Epoch 30: val_loss did not improve from 0.98949\n",
            "72/72 [==============================] - 39s 537ms/step - loss: 0.8633 - precision: 0.8046 - recall: 0.5609 - acc: 0.6963 - val_loss: 1.0815 - val_precision: 0.6954 - val_recall: 0.4708 - val_acc: 0.5875\n",
            "Epoch 31/100\n",
            "72/72 [==============================] - ETA: 0s - loss: 0.8412 - precision: 0.8197 - recall: 0.5757 - acc: 0.7023\n",
            "Epoch 31: val_loss did not improve from 0.98949\n",
            "72/72 [==============================] - 39s 533ms/step - loss: 0.8412 - precision: 0.8197 - recall: 0.5757 - acc: 0.7023 - val_loss: 1.0073 - val_precision: 0.7198 - val_recall: 0.5097 - val_acc: 0.6304\n",
            "Epoch 32/100\n",
            "72/72 [==============================] - ETA: 0s - loss: 0.8320 - precision: 0.8159 - recall: 0.5822 - acc: 0.6993\n",
            "Epoch 32: val_loss did not improve from 0.98949\n",
            "72/72 [==============================] - 40s 526ms/step - loss: 0.8320 - precision: 0.8159 - recall: 0.5822 - acc: 0.6993 - val_loss: 1.0469 - val_precision: 0.7588 - val_recall: 0.5019 - val_acc: 0.6265\n",
            "Epoch 33/100\n",
            "72/72 [==============================] - ETA: 0s - loss: 0.8273 - precision: 0.8134 - recall: 0.5844 - acc: 0.6993\n",
            "Epoch 33: val_loss did not improve from 0.98949\n",
            "72/72 [==============================] - 49s 657ms/step - loss: 0.8273 - precision: 0.8134 - recall: 0.5844 - acc: 0.6993 - val_loss: 1.0031 - val_precision: 0.7514 - val_recall: 0.5175 - val_acc: 0.6265\n",
            "Epoch 34/100\n",
            "72/72 [==============================] - ETA: 0s - loss: 0.8134 - precision: 0.8205 - recall: 0.5927 - acc: 0.7023\n",
            "Epoch 34: val_loss did not improve from 0.98949\n",
            "72/72 [==============================] - 39s 536ms/step - loss: 0.8134 - precision: 0.8205 - recall: 0.5927 - acc: 0.7023 - val_loss: 1.0941 - val_precision: 0.6872 - val_recall: 0.4786 - val_acc: 0.5914\n",
            "Epoch 35/100\n",
            "72/72 [==============================] - ETA: 0s - loss: 0.8567 - precision: 0.8005 - recall: 0.5744 - acc: 0.6958\n",
            "Epoch 35: val_loss did not improve from 0.98949\n",
            "72/72 [==============================] - 39s 520ms/step - loss: 0.8567 - precision: 0.8005 - recall: 0.5744 - acc: 0.6958 - val_loss: 1.0927 - val_precision: 0.7515 - val_recall: 0.4825 - val_acc: 0.6265\n",
            "Epoch 36/100\n",
            "72/72 [==============================] - ETA: 0s - loss: 0.8277 - precision: 0.8239 - recall: 0.5966 - acc: 0.7171\n",
            "Epoch 36: val_loss did not improve from 0.98949\n",
            "72/72 [==============================] - 39s 523ms/step - loss: 0.8277 - precision: 0.8239 - recall: 0.5966 - acc: 0.7171 - val_loss: 1.0637 - val_precision: 0.7143 - val_recall: 0.5253 - val_acc: 0.6109\n",
            "Epoch 37/100\n",
            "72/72 [==============================] - ETA: 0s - loss: 0.8166 - precision: 0.8202 - recall: 0.5975 - acc: 0.7198\n",
            "Epoch 37: val_loss did not improve from 0.98949\n",
            "72/72 [==============================] - 40s 545ms/step - loss: 0.8166 - precision: 0.8202 - recall: 0.5975 - acc: 0.7198 - val_loss: 1.0159 - val_precision: 0.7722 - val_recall: 0.5409 - val_acc: 0.6226\n",
            "Epoch 38/100\n",
            "72/72 [==============================] - ETA: 0s - loss: 0.8377 - precision: 0.8112 - recall: 0.5944 - acc: 0.7102\n",
            "Epoch 38: val_loss did not improve from 0.98949\n",
            "72/72 [==============================] - 41s 550ms/step - loss: 0.8377 - precision: 0.8112 - recall: 0.5944 - acc: 0.7102 - val_loss: 1.1305 - val_precision: 0.7616 - val_recall: 0.4475 - val_acc: 0.5953\n",
            "Epoch 39/100\n",
            "72/72 [==============================] - ETA: 0s - loss: 0.7882 - precision: 0.8350 - recall: 0.6014 - acc: 0.7206\n",
            "Epoch 39: val_loss did not improve from 0.98949\n",
            "72/72 [==============================] - 40s 549ms/step - loss: 0.7882 - precision: 0.8350 - recall: 0.6014 - acc: 0.7206 - val_loss: 1.0363 - val_precision: 0.7322 - val_recall: 0.5214 - val_acc: 0.6226\n",
            "Epoch 40/100\n",
            "72/72 [==============================] - ETA: 0s - loss: 0.8144 - precision: 0.8200 - recall: 0.6027 - acc: 0.7089\n",
            "Epoch 40: val_loss did not improve from 0.98949\n",
            "72/72 [==============================] - 49s 668ms/step - loss: 0.8144 - precision: 0.8200 - recall: 0.6027 - acc: 0.7089 - val_loss: 1.1266 - val_precision: 0.7744 - val_recall: 0.4942 - val_acc: 0.6265\n",
            "Epoch 41/100\n",
            "72/72 [==============================] - ETA: 0s - loss: 0.7840 - precision: 0.8219 - recall: 0.6084 - acc: 0.7276\n",
            "Epoch 41: val_loss did not improve from 0.98949\n",
            "72/72 [==============================] - 39s 530ms/step - loss: 0.7840 - precision: 0.8219 - recall: 0.6084 - acc: 0.7276 - val_loss: 1.0752 - val_precision: 0.7041 - val_recall: 0.5370 - val_acc: 0.6342\n",
            "Epoch 42/100\n",
            "72/72 [==============================] - ETA: 0s - loss: 0.8156 - precision: 0.8123 - recall: 0.6084 - acc: 0.7124\n",
            "Epoch 42: val_loss did not improve from 0.98949\n",
            "72/72 [==============================] - 39s 525ms/step - loss: 0.8156 - precision: 0.8123 - recall: 0.6084 - acc: 0.7124 - val_loss: 1.0230 - val_precision: 0.7472 - val_recall: 0.5175 - val_acc: 0.6031\n",
            "Epoch 43/100\n",
            "72/72 [==============================] - ETA: 0s - loss: 0.8046 - precision: 0.8090 - recall: 0.6027 - acc: 0.7115\n",
            "Epoch 43: val_loss improved from 0.98949 to 0.95176, saving model to mymodel.h5\n",
            "72/72 [==============================] - 40s 537ms/step - loss: 0.8046 - precision: 0.8090 - recall: 0.6027 - acc: 0.7115 - val_loss: 0.9518 - val_precision: 0.7784 - val_recall: 0.5331 - val_acc: 0.6459\n",
            "Epoch 44/100\n",
            "72/72 [==============================] - ETA: 0s - loss: 0.7856 - precision: 0.8392 - recall: 0.6179 - acc: 0.7206\n",
            "Epoch 44: val_loss did not improve from 0.95176\n",
            "72/72 [==============================] - 40s 526ms/step - loss: 0.7856 - precision: 0.8392 - recall: 0.6179 - acc: 0.7206 - val_loss: 1.1969 - val_precision: 0.7006 - val_recall: 0.4825 - val_acc: 0.5798\n",
            "Epoch 45/100\n",
            "72/72 [==============================] - ETA: 0s - loss: 0.7759 - precision: 0.8314 - recall: 0.6288 - acc: 0.7241\n",
            "Epoch 45: val_loss did not improve from 0.95176\n",
            "72/72 [==============================] - 49s 657ms/step - loss: 0.7759 - precision: 0.8314 - recall: 0.6288 - acc: 0.7241 - val_loss: 0.9753 - val_precision: 0.7877 - val_recall: 0.5486 - val_acc: 0.6615\n",
            "Epoch 46/100\n",
            "72/72 [==============================] - ETA: 0s - loss: 0.7530 - precision: 0.8268 - recall: 0.6397 - acc: 0.7385\n",
            "Epoch 46: val_loss did not improve from 0.95176\n",
            "72/72 [==============================] - 40s 546ms/step - loss: 0.7530 - precision: 0.8268 - recall: 0.6397 - acc: 0.7385 - val_loss: 0.9828 - val_precision: 0.7486 - val_recall: 0.5097 - val_acc: 0.6459\n",
            "Epoch 47/100\n",
            "72/72 [==============================] - ETA: 0s - loss: 0.7497 - precision: 0.8361 - recall: 0.6393 - acc: 0.7367\n",
            "Epoch 47: val_loss did not improve from 0.95176\n",
            "72/72 [==============================] - 40s 541ms/step - loss: 0.7497 - precision: 0.8361 - recall: 0.6393 - acc: 0.7367 - val_loss: 0.9673 - val_precision: 0.7833 - val_recall: 0.5486 - val_acc: 0.6381\n",
            "Epoch 48/100\n",
            "72/72 [==============================] - ETA: 0s - loss: 0.7658 - precision: 0.8339 - recall: 0.6358 - acc: 0.7406\n",
            "Epoch 48: val_loss did not improve from 0.95176\n",
            "72/72 [==============================] - 39s 533ms/step - loss: 0.7658 - precision: 0.8339 - recall: 0.6358 - acc: 0.7406 - val_loss: 0.9644 - val_precision: 0.7816 - val_recall: 0.5292 - val_acc: 0.6615\n",
            "Epoch 49/100\n",
            "72/72 [==============================] - ETA: 0s - loss: 0.7205 - precision: 0.8465 - recall: 0.6575 - acc: 0.7489\n",
            "Epoch 49: val_loss did not improve from 0.95176\n",
            "72/72 [==============================] - 40s 540ms/step - loss: 0.7205 - precision: 0.8465 - recall: 0.6575 - acc: 0.7489 - val_loss: 1.0732 - val_precision: 0.7306 - val_recall: 0.5486 - val_acc: 0.6148\n",
            "Epoch 50/100\n",
            "72/72 [==============================] - ETA: 0s - loss: 0.6831 - precision: 0.8474 - recall: 0.6645 - acc: 0.7524\n",
            "Epoch 50: val_loss did not improve from 0.95176\n",
            "72/72 [==============================] - 39s 534ms/step - loss: 0.6831 - precision: 0.8474 - recall: 0.6645 - acc: 0.7524 - val_loss: 1.0059 - val_precision: 0.7394 - val_recall: 0.5409 - val_acc: 0.6381\n",
            "Epoch 51/100\n",
            "72/72 [==============================] - ETA: 0s - loss: 0.7335 - precision: 0.8427 - recall: 0.6458 - acc: 0.7433\n",
            "Epoch 51: val_loss did not improve from 0.95176\n",
            "72/72 [==============================] - 39s 531ms/step - loss: 0.7335 - precision: 0.8427 - recall: 0.6458 - acc: 0.7433 - val_loss: 0.9567 - val_precision: 0.7668 - val_recall: 0.5759 - val_acc: 0.6809\n",
            "Epoch 52/100\n",
            "72/72 [==============================] - ETA: 0s - loss: 0.7299 - precision: 0.8457 - recall: 0.6440 - acc: 0.7476\n",
            "Epoch 52: val_loss did not improve from 0.95176\n",
            "72/72 [==============================] - 39s 530ms/step - loss: 0.7299 - precision: 0.8457 - recall: 0.6440 - acc: 0.7476 - val_loss: 1.0566 - val_precision: 0.7059 - val_recall: 0.5603 - val_acc: 0.6109\n",
            "Epoch 53/100\n",
            "72/72 [==============================] - ETA: 0s - loss: 0.7291 - precision: 0.8356 - recall: 0.6549 - acc: 0.7498\n",
            "Epoch 53: val_loss did not improve from 0.95176\n",
            "72/72 [==============================] - 39s 530ms/step - loss: 0.7291 - precision: 0.8356 - recall: 0.6549 - acc: 0.7498 - val_loss: 1.0118 - val_precision: 0.7385 - val_recall: 0.5603 - val_acc: 0.6537\n",
            "Epoch 54/100\n",
            "72/72 [==============================] - ETA: 0s - loss: 0.7182 - precision: 0.8402 - recall: 0.6588 - acc: 0.7459\n",
            "Epoch 54: val_loss did not improve from 0.95176\n",
            "72/72 [==============================] - 39s 536ms/step - loss: 0.7182 - precision: 0.8402 - recall: 0.6588 - acc: 0.7459 - val_loss: 1.0024 - val_precision: 0.7400 - val_recall: 0.5759 - val_acc: 0.6498\n",
            "Epoch 55/100\n",
            "72/72 [==============================] - ETA: 0s - loss: 0.7130 - precision: 0.8451 - recall: 0.6693 - acc: 0.7585\n",
            "Epoch 55: val_loss improved from 0.95176 to 0.94022, saving model to mymodel.h5\n",
            "72/72 [==============================] - 39s 532ms/step - loss: 0.7130 - precision: 0.8451 - recall: 0.6693 - acc: 0.7585 - val_loss: 0.9402 - val_precision: 0.7884 - val_recall: 0.5798 - val_acc: 0.6615\n",
            "Epoch 56/100\n",
            "72/72 [==============================] - ETA: 0s - loss: 0.7091 - precision: 0.8323 - recall: 0.6523 - acc: 0.7459\n",
            "Epoch 56: val_loss did not improve from 0.94022\n",
            "72/72 [==============================] - 40s 524ms/step - loss: 0.7091 - precision: 0.8323 - recall: 0.6523 - acc: 0.7459 - val_loss: 1.1538 - val_precision: 0.6766 - val_recall: 0.5292 - val_acc: 0.5914\n",
            "Epoch 57/100\n",
            "72/72 [==============================] - ETA: 0s - loss: 0.7238 - precision: 0.8410 - recall: 0.6558 - acc: 0.7489\n",
            "Epoch 57: val_loss improved from 0.94022 to 0.92951, saving model to mymodel.h5\n",
            "72/72 [==============================] - 41s 535ms/step - loss: 0.7238 - precision: 0.8410 - recall: 0.6558 - acc: 0.7489 - val_loss: 0.9295 - val_precision: 0.8054 - val_recall: 0.5798 - val_acc: 0.6615\n",
            "Epoch 58/100\n",
            "72/72 [==============================] - ETA: 0s - loss: 0.6836 - precision: 0.8411 - recall: 0.6680 - acc: 0.7546\n",
            "Epoch 58: val_loss did not improve from 0.92951\n",
            "72/72 [==============================] - 40s 546ms/step - loss: 0.6836 - precision: 0.8411 - recall: 0.6680 - acc: 0.7546 - val_loss: 0.9805 - val_precision: 0.7488 - val_recall: 0.5914 - val_acc: 0.6615\n",
            "Epoch 59/100\n",
            "72/72 [==============================] - ETA: 0s - loss: 0.7133 - precision: 0.8339 - recall: 0.6684 - acc: 0.7493\n",
            "Epoch 59: val_loss did not improve from 0.92951\n",
            "72/72 [==============================] - 41s 555ms/step - loss: 0.7133 - precision: 0.8339 - recall: 0.6684 - acc: 0.7493 - val_loss: 0.9441 - val_precision: 0.7853 - val_recall: 0.5837 - val_acc: 0.6498\n",
            "Epoch 60/100\n",
            "72/72 [==============================] - ETA: 0s - loss: 0.6863 - precision: 0.8523 - recall: 0.6754 - acc: 0.7650\n",
            "Epoch 60: val_loss improved from 0.92951 to 0.91007, saving model to mymodel.h5\n",
            "72/72 [==============================] - 49s 674ms/step - loss: 0.6863 - precision: 0.8523 - recall: 0.6754 - acc: 0.7650 - val_loss: 0.9101 - val_precision: 0.7800 - val_recall: 0.6070 - val_acc: 0.6615\n",
            "Epoch 61/100\n",
            "72/72 [==============================] - ETA: 0s - loss: 0.6635 - precision: 0.8492 - recall: 0.6862 - acc: 0.7654\n",
            "Epoch 61: val_loss did not improve from 0.91007\n",
            "72/72 [==============================] - 39s 535ms/step - loss: 0.6635 - precision: 0.8492 - recall: 0.6862 - acc: 0.7654 - val_loss: 0.9619 - val_precision: 0.7725 - val_recall: 0.5681 - val_acc: 0.6459\n",
            "Epoch 62/100\n",
            "72/72 [==============================] - ETA: 0s - loss: 0.7227 - precision: 0.8446 - recall: 0.6527 - acc: 0.7467\n",
            "Epoch 62: val_loss did not improve from 0.91007\n",
            "72/72 [==============================] - 39s 533ms/step - loss: 0.7227 - precision: 0.8446 - recall: 0.6527 - acc: 0.7467 - val_loss: 1.0182 - val_precision: 0.7640 - val_recall: 0.5292 - val_acc: 0.6381\n",
            "Epoch 63/100\n",
            "72/72 [==============================] - ETA: 0s - loss: 0.7134 - precision: 0.8436 - recall: 0.6645 - acc: 0.7524\n",
            "Epoch 63: val_loss did not improve from 0.91007\n",
            "72/72 [==============================] - 39s 529ms/step - loss: 0.7134 - precision: 0.8436 - recall: 0.6645 - acc: 0.7524 - val_loss: 0.9330 - val_precision: 0.7525 - val_recall: 0.5798 - val_acc: 0.6498\n",
            "Epoch 64/100\n",
            "72/72 [==============================] - ETA: 0s - loss: 0.6411 - precision: 0.8623 - recall: 0.6950 - acc: 0.7794\n",
            "Epoch 64: val_loss improved from 0.91007 to 0.86427, saving model to mymodel.h5\n",
            "72/72 [==============================] - 40s 527ms/step - loss: 0.6411 - precision: 0.8623 - recall: 0.6950 - acc: 0.7794 - val_loss: 0.8643 - val_precision: 0.7887 - val_recall: 0.5953 - val_acc: 0.6770\n",
            "Epoch 65/100\n",
            "72/72 [==============================] - ETA: 0s - loss: 0.6064 - precision: 0.8615 - recall: 0.7171 - acc: 0.7850\n",
            "Epoch 65: val_loss did not improve from 0.86427\n",
            "72/72 [==============================] - 49s 665ms/step - loss: 0.6064 - precision: 0.8615 - recall: 0.7171 - acc: 0.7850 - val_loss: 0.9353 - val_precision: 0.7895 - val_recall: 0.5837 - val_acc: 0.6576\n",
            "Epoch 66/100\n",
            "72/72 [==============================] - ETA: 0s - loss: 0.6319 - precision: 0.8569 - recall: 0.7063 - acc: 0.7776\n",
            "Epoch 66: val_loss did not improve from 0.86427\n",
            "72/72 [==============================] - 39s 534ms/step - loss: 0.6319 - precision: 0.8569 - recall: 0.7063 - acc: 0.7776 - val_loss: 0.9006 - val_precision: 0.7711 - val_recall: 0.6031 - val_acc: 0.7004\n",
            "Epoch 67/100\n",
            "72/72 [==============================] - ETA: 0s - loss: 0.6272 - precision: 0.8496 - recall: 0.7028 - acc: 0.7807\n",
            "Epoch 67: val_loss did not improve from 0.86427\n",
            "72/72 [==============================] - 39s 528ms/step - loss: 0.6272 - precision: 0.8496 - recall: 0.7028 - acc: 0.7807 - val_loss: 0.9406 - val_precision: 0.8187 - val_recall: 0.5798 - val_acc: 0.6732\n",
            "Epoch 68/100\n",
            "72/72 [==============================] - ETA: 0s - loss: 0.6588 - precision: 0.8570 - recall: 0.6910 - acc: 0.7694\n",
            "Epoch 68: val_loss improved from 0.86427 to 0.86312, saving model to mymodel.h5\n",
            "72/72 [==============================] - 39s 533ms/step - loss: 0.6588 - precision: 0.8570 - recall: 0.6910 - acc: 0.7694 - val_loss: 0.8631 - val_precision: 0.7772 - val_recall: 0.5837 - val_acc: 0.6732\n",
            "Epoch 69/100\n",
            "72/72 [==============================] - ETA: 0s - loss: 0.6196 - precision: 0.8586 - recall: 0.7106 - acc: 0.7911\n",
            "Epoch 69: val_loss improved from 0.86312 to 0.83195, saving model to mymodel.h5\n",
            "72/72 [==============================] - 40s 523ms/step - loss: 0.6196 - precision: 0.8586 - recall: 0.7106 - acc: 0.7911 - val_loss: 0.8319 - val_precision: 0.8009 - val_recall: 0.6576 - val_acc: 0.7276\n",
            "Epoch 70/100\n",
            "72/72 [==============================] - ETA: 0s - loss: 0.6264 - precision: 0.8574 - recall: 0.7145 - acc: 0.7807\n",
            "Epoch 70: val_loss did not improve from 0.83195\n",
            "72/72 [==============================] - 49s 665ms/step - loss: 0.6264 - precision: 0.8574 - recall: 0.7145 - acc: 0.7807 - val_loss: 0.9717 - val_precision: 0.7462 - val_recall: 0.5720 - val_acc: 0.6732\n",
            "Epoch 71/100\n",
            "72/72 [==============================] - ETA: 0s - loss: 0.6392 - precision: 0.8606 - recall: 0.7093 - acc: 0.7863\n",
            "Epoch 71: val_loss did not improve from 0.83195\n",
            "72/72 [==============================] - 39s 535ms/step - loss: 0.6392 - precision: 0.8606 - recall: 0.7093 - acc: 0.7863 - val_loss: 0.9732 - val_precision: 0.7829 - val_recall: 0.5331 - val_acc: 0.6770\n",
            "Epoch 72/100\n",
            "72/72 [==============================] - ETA: 0s - loss: 0.6331 - precision: 0.8496 - recall: 0.6958 - acc: 0.7746\n",
            "Epoch 72: val_loss did not improve from 0.83195\n",
            "72/72 [==============================] - 40s 526ms/step - loss: 0.6331 - precision: 0.8496 - recall: 0.6958 - acc: 0.7746 - val_loss: 0.9554 - val_precision: 0.7688 - val_recall: 0.5564 - val_acc: 0.6381\n",
            "Epoch 73/100\n",
            "72/72 [==============================] - ETA: 0s - loss: 0.6380 - precision: 0.8612 - recall: 0.6941 - acc: 0.7876\n",
            "Epoch 73: val_loss did not improve from 0.83195\n",
            "72/72 [==============================] - 49s 666ms/step - loss: 0.6380 - precision: 0.8612 - recall: 0.6941 - acc: 0.7876 - val_loss: 0.8945 - val_precision: 0.7835 - val_recall: 0.5914 - val_acc: 0.6965\n",
            "Epoch 74/100\n",
            "72/72 [==============================] - ETA: 0s - loss: 0.6386 - precision: 0.8551 - recall: 0.7089 - acc: 0.7789\n",
            "Epoch 74: val_loss did not improve from 0.83195\n",
            "72/72 [==============================] - 39s 532ms/step - loss: 0.6386 - precision: 0.8551 - recall: 0.7089 - acc: 0.7789 - val_loss: 0.9399 - val_precision: 0.7800 - val_recall: 0.6070 - val_acc: 0.6654\n",
            "Epoch 75/100\n",
            "72/72 [==============================] - ETA: 0s - loss: 0.6139 - precision: 0.8640 - recall: 0.7158 - acc: 0.7837\n",
            "Epoch 75: val_loss improved from 0.83195 to 0.81174, saving model to mymodel.h5\n",
            "72/72 [==============================] - 39s 530ms/step - loss: 0.6139 - precision: 0.8640 - recall: 0.7158 - acc: 0.7837 - val_loss: 0.8117 - val_precision: 0.7941 - val_recall: 0.6304 - val_acc: 0.6809\n",
            "Epoch 76/100\n",
            "72/72 [==============================] - ETA: 0s - loss: 0.5824 - precision: 0.8585 - recall: 0.7211 - acc: 0.7977\n",
            "Epoch 76: val_loss did not improve from 0.81174\n",
            "72/72 [==============================] - 39s 532ms/step - loss: 0.5824 - precision: 0.8585 - recall: 0.7211 - acc: 0.7977 - val_loss: 0.9647 - val_precision: 0.7727 - val_recall: 0.5953 - val_acc: 0.6887\n",
            "Epoch 77/100\n",
            "72/72 [==============================] - ETA: 0s - loss: 0.5909 - precision: 0.8651 - recall: 0.7285 - acc: 0.7876\n",
            "Epoch 77: val_loss did not improve from 0.81174\n",
            "72/72 [==============================] - 38s 525ms/step - loss: 0.5909 - precision: 0.8651 - recall: 0.7285 - acc: 0.7876 - val_loss: 0.9215 - val_precision: 0.8030 - val_recall: 0.6187 - val_acc: 0.7121\n",
            "Epoch 78/100\n",
            "72/72 [==============================] - ETA: 0s - loss: 0.6046 - precision: 0.8647 - recall: 0.7202 - acc: 0.7894\n",
            "Epoch 78: val_loss did not improve from 0.81174\n",
            "72/72 [==============================] - 38s 515ms/step - loss: 0.6046 - precision: 0.8647 - recall: 0.7202 - acc: 0.7894 - val_loss: 0.8729 - val_precision: 0.7871 - val_recall: 0.6187 - val_acc: 0.6965\n",
            "Epoch 79/100\n",
            "72/72 [==============================] - ETA: 0s - loss: 0.5766 - precision: 0.8721 - recall: 0.7211 - acc: 0.7963\n",
            "Epoch 79: val_loss did not improve from 0.81174\n",
            "72/72 [==============================] - 39s 536ms/step - loss: 0.5766 - precision: 0.8721 - recall: 0.7211 - acc: 0.7963 - val_loss: 0.9668 - val_precision: 0.7659 - val_recall: 0.6109 - val_acc: 0.6809\n",
            "Epoch 80/100\n",
            "72/72 [==============================] - ETA: 0s - loss: 0.6062 - precision: 0.8617 - recall: 0.7185 - acc: 0.7850\n",
            "Epoch 80: val_loss did not improve from 0.81174\n",
            "72/72 [==============================] - 40s 538ms/step - loss: 0.6062 - precision: 0.8617 - recall: 0.7185 - acc: 0.7850 - val_loss: 0.8625 - val_precision: 0.8031 - val_recall: 0.6031 - val_acc: 0.7082\n",
            "Epoch 81/100\n",
            "72/72 [==============================] - ETA: 0s - loss: 0.5917 - precision: 0.8646 - recall: 0.7311 - acc: 0.7963\n",
            "Epoch 81: val_loss did not improve from 0.81174\n",
            "72/72 [==============================] - 39s 526ms/step - loss: 0.5917 - precision: 0.8646 - recall: 0.7311 - acc: 0.7963 - val_loss: 0.9338 - val_precision: 0.7391 - val_recall: 0.5953 - val_acc: 0.6965\n",
            "Epoch 82/100\n",
            "72/72 [==============================] - ETA: 0s - loss: 0.6445 - precision: 0.8503 - recall: 0.6919 - acc: 0.7633\n",
            "Epoch 82: val_loss did not improve from 0.81174\n",
            "72/72 [==============================] - 41s 548ms/step - loss: 0.6445 - precision: 0.8503 - recall: 0.6919 - acc: 0.7633 - val_loss: 0.9048 - val_precision: 0.7624 - val_recall: 0.5992 - val_acc: 0.6770\n",
            "Epoch 83/100\n",
            "72/72 [==============================] - ETA: 0s - loss: 0.6008 - precision: 0.8557 - recall: 0.7202 - acc: 0.7846\n",
            "Epoch 83: val_loss did not improve from 0.81174\n",
            "72/72 [==============================] - 40s 548ms/step - loss: 0.6008 - precision: 0.8557 - recall: 0.7202 - acc: 0.7846 - val_loss: 0.9723 - val_precision: 0.7286 - val_recall: 0.5953 - val_acc: 0.6498\n",
            "Epoch 84/100\n",
            "72/72 [==============================] - ETA: 0s - loss: 0.5628 - precision: 0.8702 - recall: 0.7437 - acc: 0.8094\n",
            "Epoch 84: val_loss did not improve from 0.81174\n",
            "72/72 [==============================] - 49s 666ms/step - loss: 0.5628 - precision: 0.8702 - recall: 0.7437 - acc: 0.8094 - val_loss: 0.9572 - val_precision: 0.7750 - val_recall: 0.6031 - val_acc: 0.6615\n",
            "Epoch 85/100\n",
            "72/72 [==============================] - ETA: 0s - loss: 0.5663 - precision: 0.8637 - recall: 0.7472 - acc: 0.8020\n",
            "Epoch 85: val_loss did not improve from 0.81174\n",
            "72/72 [==============================] - 39s 529ms/step - loss: 0.5663 - precision: 0.8637 - recall: 0.7472 - acc: 0.8020 - val_loss: 0.9824 - val_precision: 0.7512 - val_recall: 0.5875 - val_acc: 0.6732\n",
            "Epoch 86/100\n",
            "72/72 [==============================] - ETA: 0s - loss: 0.5965 - precision: 0.8653 - recall: 0.7293 - acc: 0.8050\n",
            "Epoch 86: val_loss did not improve from 0.81174\n",
            "72/72 [==============================] - 40s 533ms/step - loss: 0.5965 - precision: 0.8653 - recall: 0.7293 - acc: 0.8050 - val_loss: 0.8579 - val_precision: 0.7805 - val_recall: 0.6226 - val_acc: 0.6965\n",
            "Epoch 87/100\n",
            "72/72 [==============================] - ETA: 0s - loss: 0.5940 - precision: 0.8623 - recall: 0.7250 - acc: 0.7946\n",
            "Epoch 87: val_loss did not improve from 0.81174\n",
            "72/72 [==============================] - 49s 654ms/step - loss: 0.5940 - precision: 0.8623 - recall: 0.7250 - acc: 0.7946 - val_loss: 0.8548 - val_precision: 0.7659 - val_recall: 0.6109 - val_acc: 0.6809\n",
            "Epoch 88/100\n",
            "72/72 [==============================] - ETA: 0s - loss: 0.5303 - precision: 0.8796 - recall: 0.7563 - acc: 0.8159\n",
            "Epoch 88: val_loss did not improve from 0.81174\n",
            "72/72 [==============================] - 40s 537ms/step - loss: 0.5303 - precision: 0.8796 - recall: 0.7563 - acc: 0.8159 - val_loss: 0.8949 - val_precision: 0.7714 - val_recall: 0.6304 - val_acc: 0.7043\n",
            "Epoch 89/100\n",
            "72/72 [==============================] - ETA: 0s - loss: 0.6005 - precision: 0.8568 - recall: 0.7163 - acc: 0.7842\n",
            "Epoch 89: val_loss did not improve from 0.81174\n",
            "72/72 [==============================] - 39s 527ms/step - loss: 0.6005 - precision: 0.8568 - recall: 0.7163 - acc: 0.7842 - val_loss: 0.9086 - val_precision: 0.7811 - val_recall: 0.6109 - val_acc: 0.6732\n",
            "Epoch 90/100\n",
            "72/72 [==============================] - ETA: 0s - loss: 0.5689 - precision: 0.8706 - recall: 0.7406 - acc: 0.8094\n",
            "Epoch 90: val_loss did not improve from 0.81174\n",
            "72/72 [==============================] - 49s 662ms/step - loss: 0.5689 - precision: 0.8706 - recall: 0.7406 - acc: 0.8094 - val_loss: 0.9192 - val_precision: 0.7524 - val_recall: 0.6031 - val_acc: 0.6693\n",
            "Epoch 91/100\n",
            "72/72 [==============================] - ETA: 0s - loss: 0.5260 - precision: 0.8759 - recall: 0.7585 - acc: 0.8185\n",
            "Epoch 91: val_loss did not improve from 0.81174\n",
            "72/72 [==============================] - 39s 535ms/step - loss: 0.5260 - precision: 0.8759 - recall: 0.7585 - acc: 0.8185 - val_loss: 0.9478 - val_precision: 0.7277 - val_recall: 0.6342 - val_acc: 0.6887\n",
            "Epoch 92/100\n",
            "72/72 [==============================] - ETA: 0s - loss: 0.5591 - precision: 0.8665 - recall: 0.7454 - acc: 0.8111\n",
            "Epoch 92: val_loss did not improve from 0.81174\n",
            "72/72 [==============================] - 40s 543ms/step - loss: 0.5591 - precision: 0.8665 - recall: 0.7454 - acc: 0.8111 - val_loss: 0.8793 - val_precision: 0.7830 - val_recall: 0.6459 - val_acc: 0.7043\n",
            "Epoch 93/100\n",
            "72/72 [==============================] - ETA: 0s - loss: 0.5534 - precision: 0.8551 - recall: 0.7450 - acc: 0.8016\n",
            "Epoch 93: val_loss improved from 0.81174 to 0.80935, saving model to mymodel.h5\n",
            "72/72 [==============================] - 40s 541ms/step - loss: 0.5534 - precision: 0.8551 - recall: 0.7450 - acc: 0.8016 - val_loss: 0.8093 - val_precision: 0.7885 - val_recall: 0.6381 - val_acc: 0.7354\n",
            "Epoch 94/100\n",
            "72/72 [==============================] - ETA: 0s - loss: 0.5534 - precision: 0.8689 - recall: 0.7380 - acc: 0.8064\n",
            "Epoch 94: val_loss did not improve from 0.80935\n",
            "72/72 [==============================] - 39s 537ms/step - loss: 0.5534 - precision: 0.8689 - recall: 0.7380 - acc: 0.8064 - val_loss: 0.8730 - val_precision: 0.7854 - val_recall: 0.6265 - val_acc: 0.7121\n",
            "Epoch 95/100\n",
            "72/72 [==============================] - ETA: 0s - loss: 0.5208 - precision: 0.8795 - recall: 0.7524 - acc: 0.8155\n",
            "Epoch 95: val_loss did not improve from 0.80935\n",
            "72/72 [==============================] - 39s 534ms/step - loss: 0.5208 - precision: 0.8795 - recall: 0.7524 - acc: 0.8155 - val_loss: 0.9307 - val_precision: 0.7432 - val_recall: 0.6420 - val_acc: 0.6848\n",
            "Epoch 96/100\n",
            "72/72 [==============================] - ETA: 0s - loss: 0.5470 - precision: 0.8707 - recall: 0.7441 - acc: 0.8094\n",
            "Epoch 96: val_loss did not improve from 0.80935\n",
            "72/72 [==============================] - 40s 538ms/step - loss: 0.5470 - precision: 0.8707 - recall: 0.7441 - acc: 0.8094 - val_loss: 0.8354 - val_precision: 0.7783 - val_recall: 0.6693 - val_acc: 0.7121\n",
            "Epoch 97/100\n",
            "72/72 [==============================] - ETA: 0s - loss: 0.5602 - precision: 0.8686 - recall: 0.7511 - acc: 0.8029\n",
            "Epoch 97: val_loss did not improve from 0.80935\n",
            "72/72 [==============================] - 40s 525ms/step - loss: 0.5602 - precision: 0.8686 - recall: 0.7511 - acc: 0.8029 - val_loss: 0.9473 - val_precision: 0.7710 - val_recall: 0.6420 - val_acc: 0.7043\n",
            "Epoch 98/100\n",
            "72/72 [==============================] - ETA: 0s - loss: 0.5428 - precision: 0.8619 - recall: 0.7498 - acc: 0.8081\n",
            "Epoch 98: val_loss did not improve from 0.80935\n",
            "72/72 [==============================] - 40s 529ms/step - loss: 0.5428 - precision: 0.8619 - recall: 0.7498 - acc: 0.8081 - val_loss: 0.8734 - val_precision: 0.7830 - val_recall: 0.6459 - val_acc: 0.6926\n",
            "Epoch 99/100\n",
            "72/72 [==============================] - ETA: 0s - loss: 0.5473 - precision: 0.8785 - recall: 0.7520 - acc: 0.8164\n",
            "Epoch 99: val_loss did not improve from 0.80935\n",
            "72/72 [==============================] - 41s 552ms/step - loss: 0.5473 - precision: 0.8785 - recall: 0.7520 - acc: 0.8164 - val_loss: 0.8783 - val_precision: 0.7570 - val_recall: 0.6304 - val_acc: 0.6887\n",
            "Epoch 100/100\n",
            "72/72 [==============================] - ETA: 0s - loss: 0.5067 - precision: 0.8770 - recall: 0.7698 - acc: 0.8281\n",
            "Epoch 100: val_loss did not improve from 0.80935\n",
            "72/72 [==============================] - 41s 551ms/step - loss: 0.5067 - precision: 0.8770 - recall: 0.7698 - acc: 0.8281 - val_loss: 0.8491 - val_precision: 0.7742 - val_recall: 0.6537 - val_acc: 0.7121\n"
          ]
        }
      ]
    },
    {
      "cell_type": "code",
      "source": [],
      "metadata": {
        "id": "8K2r2_MAzCqf"
      },
      "execution_count": null,
      "outputs": []
    },
    {
      "cell_type": "markdown",
      "source": [
        "Değerlendirme(Evaluation)"
      ],
      "metadata": {
        "id": "PORNLxASkAk1"
      }
    },
    {
      "cell_type": "code",
      "source": [
        "loss,precision, recall, acc=model.evaluate(test_generator, batch_size=32)"
      ],
      "metadata": {
        "colab": {
          "base_uri": "https://localhost:8080/"
        },
        "id": "tpNsYdJszCtE",
        "outputId": "a01bb271-5d92-48d9-ddd9-2d12cc48d909"
      },
      "execution_count": null,
      "outputs": [
        {
          "output_type": "stream",
          "name": "stdout",
          "text": [
            "2/2 [==============================] - 2s 20ms/step - loss: 0.8491 - precision: 0.7742 - recall: 0.6537 - acc: 0.7121\n"
          ]
        }
      ]
    },
    {
      "cell_type": "code",
      "source": [
        "print(100*acc)\n",
        "print(100*loss)\n",
        "print(100*precision)\n",
        "print(100*recall)"
      ],
      "metadata": {
        "colab": {
          "base_uri": "https://localhost:8080/"
        },
        "id": "QUfLqwNVzCvr",
        "outputId": "b6091cbe-62c1-4378-9fc9-52832699920f"
      },
      "execution_count": null,
      "outputs": [
        {
          "output_type": "stream",
          "name": "stdout",
          "text": [
            "71.20622396469116\n",
            "84.91050601005554\n",
            "77.4193525314331\n",
            "65.36964774131775\n"
          ]
        }
      ]
    },
    {
      "cell_type": "code",
      "source": [],
      "metadata": {
        "id": "PV27eM9wJO9v"
      },
      "execution_count": null,
      "outputs": []
    },
    {
      "cell_type": "code",
      "source": [],
      "metadata": {
        "id": "XWCMdOhIJPAE"
      },
      "execution_count": null,
      "outputs": []
    },
    {
      "cell_type": "markdown",
      "source": [
        "RNN"
      ],
      "metadata": {
        "id": "C6HZyTx2OU_1"
      }
    },
    {
      "cell_type": "code",
      "source": [
        "# Veriyi okuma ve işleme adımında kullanılacak olan kütüphaneler:\n",
        "import numpy as np \n",
        "import pandas as pd\n",
        "import datetime as dt \n",
        "import tensorflow as tf \n",
        "import matplotlib.pyplot as plt \n",
        "\n",
        "# Model değerlendirme ve veriyi scale edebilmemiz için kullanılacak olan kütüphaneler:\n",
        "from sklearn.preprocessing import MinMaxScaler\n",
        "from sklearn.metrics import mean_squared_error\n",
        "\n",
        "# Model için kullanılacak olan kütüphaneler:\n",
        "from tensorflow.keras.models import Sequential\n",
        "from tensorflow.keras.layers import Dense, SimpleRNN, Dropout\n",
        "from tensorflow.keras.callbacks import ModelCheckpoint, EarlyStopping\n",
        "\n",
        "# Warningleri kapatmak için:\n",
        "import warnings\n",
        "warnings.filterwarnings('ignore')\n",
        "\n",
        "# Tensorflow Warning Engelleme\n",
        "import os\n",
        "os.environ[\"TF_CPP_MIN_LOG_LEVEL\"]=\"3\"\n",
        "tf.compat.v1.logging.set_verbosity(tf.compat.v1.logging.ERROR)"
      ],
      "metadata": {
        "id": "7WKOtA2mOUJg"
      },
      "execution_count": null,
      "outputs": []
    },
    {
      "cell_type": "code",
      "source": [
        "df=pd.read_csv(\"international-airline-passengers.csv\")  "
      ],
      "metadata": {
        "id": "wvxKnbWnSRZk"
      },
      "execution_count": null,
      "outputs": []
    },
    {
      "cell_type": "code",
      "source": [
        "df.head()"
      ],
      "metadata": {
        "colab": {
          "base_uri": "https://localhost:8080/",
          "height": 354
        },
        "id": "DTg_P6PPSkay",
        "outputId": "c33ae189-a580-4168-fa54-a950be4b0b1b"
      },
      "execution_count": null,
      "outputs": [
        {
          "output_type": "execute_result",
          "data": {
            "text/plain": [
              "     Month  \\\n",
              "0  1949-01   \n",
              "1  1949-02   \n",
              "2  1949-03   \n",
              "3  1949-04   \n",
              "4  1949-05   \n",
              "\n",
              "   International airline passengers: monthly totals in thousands. Jan 49 ? Dec 60  \n",
              "0                                              112.0                               \n",
              "1                                              118.0                               \n",
              "2                                              132.0                               \n",
              "3                                              129.0                               \n",
              "4                                              121.0                               "
            ],
            "text/html": [
              "\n",
              "  <div id=\"df-bb40d93d-7727-442a-9d2e-47a79ea6d4c6\">\n",
              "    <div class=\"colab-df-container\">\n",
              "      <div>\n",
              "<style scoped>\n",
              "    .dataframe tbody tr th:only-of-type {\n",
              "        vertical-align: middle;\n",
              "    }\n",
              "\n",
              "    .dataframe tbody tr th {\n",
              "        vertical-align: top;\n",
              "    }\n",
              "\n",
              "    .dataframe thead th {\n",
              "        text-align: right;\n",
              "    }\n",
              "</style>\n",
              "<table border=\"1\" class=\"dataframe\">\n",
              "  <thead>\n",
              "    <tr style=\"text-align: right;\">\n",
              "      <th></th>\n",
              "      <th>Month</th>\n",
              "      <th>International airline passengers: monthly totals in thousands. Jan 49 ? Dec 60</th>\n",
              "    </tr>\n",
              "  </thead>\n",
              "  <tbody>\n",
              "    <tr>\n",
              "      <th>0</th>\n",
              "      <td>1949-01</td>\n",
              "      <td>112.0</td>\n",
              "    </tr>\n",
              "    <tr>\n",
              "      <th>1</th>\n",
              "      <td>1949-02</td>\n",
              "      <td>118.0</td>\n",
              "    </tr>\n",
              "    <tr>\n",
              "      <th>2</th>\n",
              "      <td>1949-03</td>\n",
              "      <td>132.0</td>\n",
              "    </tr>\n",
              "    <tr>\n",
              "      <th>3</th>\n",
              "      <td>1949-04</td>\n",
              "      <td>129.0</td>\n",
              "    </tr>\n",
              "    <tr>\n",
              "      <th>4</th>\n",
              "      <td>1949-05</td>\n",
              "      <td>121.0</td>\n",
              "    </tr>\n",
              "  </tbody>\n",
              "</table>\n",
              "</div>\n",
              "      <button class=\"colab-df-convert\" onclick=\"convertToInteractive('df-bb40d93d-7727-442a-9d2e-47a79ea6d4c6')\"\n",
              "              title=\"Convert this dataframe to an interactive table.\"\n",
              "              style=\"display:none;\">\n",
              "        \n",
              "  <svg xmlns=\"http://www.w3.org/2000/svg\" height=\"24px\"viewBox=\"0 0 24 24\"\n",
              "       width=\"24px\">\n",
              "    <path d=\"M0 0h24v24H0V0z\" fill=\"none\"/>\n",
              "    <path d=\"M18.56 5.44l.94 2.06.94-2.06 2.06-.94-2.06-.94-.94-2.06-.94 2.06-2.06.94zm-11 1L8.5 8.5l.94-2.06 2.06-.94-2.06-.94L8.5 2.5l-.94 2.06-2.06.94zm10 10l.94 2.06.94-2.06 2.06-.94-2.06-.94-.94-2.06-.94 2.06-2.06.94z\"/><path d=\"M17.41 7.96l-1.37-1.37c-.4-.4-.92-.59-1.43-.59-.52 0-1.04.2-1.43.59L10.3 9.45l-7.72 7.72c-.78.78-.78 2.05 0 2.83L4 21.41c.39.39.9.59 1.41.59.51 0 1.02-.2 1.41-.59l7.78-7.78 2.81-2.81c.8-.78.8-2.07 0-2.86zM5.41 20L4 18.59l7.72-7.72 1.47 1.35L5.41 20z\"/>\n",
              "  </svg>\n",
              "      </button>\n",
              "      \n",
              "  <style>\n",
              "    .colab-df-container {\n",
              "      display:flex;\n",
              "      flex-wrap:wrap;\n",
              "      gap: 12px;\n",
              "    }\n",
              "\n",
              "    .colab-df-convert {\n",
              "      background-color: #E8F0FE;\n",
              "      border: none;\n",
              "      border-radius: 50%;\n",
              "      cursor: pointer;\n",
              "      display: none;\n",
              "      fill: #1967D2;\n",
              "      height: 32px;\n",
              "      padding: 0 0 0 0;\n",
              "      width: 32px;\n",
              "    }\n",
              "\n",
              "    .colab-df-convert:hover {\n",
              "      background-color: #E2EBFA;\n",
              "      box-shadow: 0px 1px 2px rgba(60, 64, 67, 0.3), 0px 1px 3px 1px rgba(60, 64, 67, 0.15);\n",
              "      fill: #174EA6;\n",
              "    }\n",
              "\n",
              "    [theme=dark] .colab-df-convert {\n",
              "      background-color: #3B4455;\n",
              "      fill: #D2E3FC;\n",
              "    }\n",
              "\n",
              "    [theme=dark] .colab-df-convert:hover {\n",
              "      background-color: #434B5C;\n",
              "      box-shadow: 0px 1px 3px 1px rgba(0, 0, 0, 0.15);\n",
              "      filter: drop-shadow(0px 1px 2px rgba(0, 0, 0, 0.3));\n",
              "      fill: #FFFFFF;\n",
              "    }\n",
              "  </style>\n",
              "\n",
              "      <script>\n",
              "        const buttonEl =\n",
              "          document.querySelector('#df-bb40d93d-7727-442a-9d2e-47a79ea6d4c6 button.colab-df-convert');\n",
              "        buttonEl.style.display =\n",
              "          google.colab.kernel.accessAllowed ? 'block' : 'none';\n",
              "\n",
              "        async function convertToInteractive(key) {\n",
              "          const element = document.querySelector('#df-bb40d93d-7727-442a-9d2e-47a79ea6d4c6');\n",
              "          const dataTable =\n",
              "            await google.colab.kernel.invokeFunction('convertToInteractive',\n",
              "                                                     [key], {});\n",
              "          if (!dataTable) return;\n",
              "\n",
              "          const docLinkHtml = 'Like what you see? Visit the ' +\n",
              "            '<a target=\"_blank\" href=https://colab.research.google.com/notebooks/data_table.ipynb>data table notebook</a>'\n",
              "            + ' to learn more about interactive tables.';\n",
              "          element.innerHTML = '';\n",
              "          dataTable['output_type'] = 'display_data';\n",
              "          await google.colab.output.renderOutput(dataTable, element);\n",
              "          const docLink = document.createElement('div');\n",
              "          docLink.innerHTML = docLinkHtml;\n",
              "          element.appendChild(docLink);\n",
              "        }\n",
              "      </script>\n",
              "    </div>\n",
              "  </div>\n",
              "  "
            ]
          },
          "metadata": {},
          "execution_count": 20
        }
      ]
    },
    {
      "cell_type": "code",
      "source": [
        "df.columns"
      ],
      "metadata": {
        "colab": {
          "base_uri": "https://localhost:8080/"
        },
        "id": "OpNhCouKSlRP",
        "outputId": "80e38c60-3e52-4b38-a16c-a74fc175a230"
      },
      "execution_count": null,
      "outputs": [
        {
          "output_type": "execute_result",
          "data": {
            "text/plain": [
              "Index(['Month', 'International airline passengers: monthly totals in thousands. Jan 49 ? Dec 60'], dtype='object')"
            ]
          },
          "metadata": {},
          "execution_count": 21
        }
      ]
    },
    {
      "cell_type": "code",
      "source": [
        "df.columns=[\"Month\",\"Passengers\"]"
      ],
      "metadata": {
        "id": "sUzmQ3StS7EB"
      },
      "execution_count": null,
      "outputs": []
    },
    {
      "cell_type": "code",
      "source": [
        "df.head()"
      ],
      "metadata": {
        "colab": {
          "base_uri": "https://localhost:8080/",
          "height": 206
        },
        "id": "E03SZZGCVDO-",
        "outputId": "cafac867-a789-42f1-b922-a74d72c9c510"
      },
      "execution_count": null,
      "outputs": [
        {
          "output_type": "execute_result",
          "data": {
            "text/plain": [
              "     Month  Passengers\n",
              "0  1949-01       112.0\n",
              "1  1949-02       118.0\n",
              "2  1949-03       132.0\n",
              "3  1949-04       129.0\n",
              "4  1949-05       121.0"
            ],
            "text/html": [
              "\n",
              "  <div id=\"df-bf225a09-2196-48f0-8cba-2b09011cd4bc\">\n",
              "    <div class=\"colab-df-container\">\n",
              "      <div>\n",
              "<style scoped>\n",
              "    .dataframe tbody tr th:only-of-type {\n",
              "        vertical-align: middle;\n",
              "    }\n",
              "\n",
              "    .dataframe tbody tr th {\n",
              "        vertical-align: top;\n",
              "    }\n",
              "\n",
              "    .dataframe thead th {\n",
              "        text-align: right;\n",
              "    }\n",
              "</style>\n",
              "<table border=\"1\" class=\"dataframe\">\n",
              "  <thead>\n",
              "    <tr style=\"text-align: right;\">\n",
              "      <th></th>\n",
              "      <th>Month</th>\n",
              "      <th>Passengers</th>\n",
              "    </tr>\n",
              "  </thead>\n",
              "  <tbody>\n",
              "    <tr>\n",
              "      <th>0</th>\n",
              "      <td>1949-01</td>\n",
              "      <td>112.0</td>\n",
              "    </tr>\n",
              "    <tr>\n",
              "      <th>1</th>\n",
              "      <td>1949-02</td>\n",
              "      <td>118.0</td>\n",
              "    </tr>\n",
              "    <tr>\n",
              "      <th>2</th>\n",
              "      <td>1949-03</td>\n",
              "      <td>132.0</td>\n",
              "    </tr>\n",
              "    <tr>\n",
              "      <th>3</th>\n",
              "      <td>1949-04</td>\n",
              "      <td>129.0</td>\n",
              "    </tr>\n",
              "    <tr>\n",
              "      <th>4</th>\n",
              "      <td>1949-05</td>\n",
              "      <td>121.0</td>\n",
              "    </tr>\n",
              "  </tbody>\n",
              "</table>\n",
              "</div>\n",
              "      <button class=\"colab-df-convert\" onclick=\"convertToInteractive('df-bf225a09-2196-48f0-8cba-2b09011cd4bc')\"\n",
              "              title=\"Convert this dataframe to an interactive table.\"\n",
              "              style=\"display:none;\">\n",
              "        \n",
              "  <svg xmlns=\"http://www.w3.org/2000/svg\" height=\"24px\"viewBox=\"0 0 24 24\"\n",
              "       width=\"24px\">\n",
              "    <path d=\"M0 0h24v24H0V0z\" fill=\"none\"/>\n",
              "    <path d=\"M18.56 5.44l.94 2.06.94-2.06 2.06-.94-2.06-.94-.94-2.06-.94 2.06-2.06.94zm-11 1L8.5 8.5l.94-2.06 2.06-.94-2.06-.94L8.5 2.5l-.94 2.06-2.06.94zm10 10l.94 2.06.94-2.06 2.06-.94-2.06-.94-.94-2.06-.94 2.06-2.06.94z\"/><path d=\"M17.41 7.96l-1.37-1.37c-.4-.4-.92-.59-1.43-.59-.52 0-1.04.2-1.43.59L10.3 9.45l-7.72 7.72c-.78.78-.78 2.05 0 2.83L4 21.41c.39.39.9.59 1.41.59.51 0 1.02-.2 1.41-.59l7.78-7.78 2.81-2.81c.8-.78.8-2.07 0-2.86zM5.41 20L4 18.59l7.72-7.72 1.47 1.35L5.41 20z\"/>\n",
              "  </svg>\n",
              "      </button>\n",
              "      \n",
              "  <style>\n",
              "    .colab-df-container {\n",
              "      display:flex;\n",
              "      flex-wrap:wrap;\n",
              "      gap: 12px;\n",
              "    }\n",
              "\n",
              "    .colab-df-convert {\n",
              "      background-color: #E8F0FE;\n",
              "      border: none;\n",
              "      border-radius: 50%;\n",
              "      cursor: pointer;\n",
              "      display: none;\n",
              "      fill: #1967D2;\n",
              "      height: 32px;\n",
              "      padding: 0 0 0 0;\n",
              "      width: 32px;\n",
              "    }\n",
              "\n",
              "    .colab-df-convert:hover {\n",
              "      background-color: #E2EBFA;\n",
              "      box-shadow: 0px 1px 2px rgba(60, 64, 67, 0.3), 0px 1px 3px 1px rgba(60, 64, 67, 0.15);\n",
              "      fill: #174EA6;\n",
              "    }\n",
              "\n",
              "    [theme=dark] .colab-df-convert {\n",
              "      background-color: #3B4455;\n",
              "      fill: #D2E3FC;\n",
              "    }\n",
              "\n",
              "    [theme=dark] .colab-df-convert:hover {\n",
              "      background-color: #434B5C;\n",
              "      box-shadow: 0px 1px 3px 1px rgba(0, 0, 0, 0.15);\n",
              "      filter: drop-shadow(0px 1px 2px rgba(0, 0, 0, 0.3));\n",
              "      fill: #FFFFFF;\n",
              "    }\n",
              "  </style>\n",
              "\n",
              "      <script>\n",
              "        const buttonEl =\n",
              "          document.querySelector('#df-bf225a09-2196-48f0-8cba-2b09011cd4bc button.colab-df-convert');\n",
              "        buttonEl.style.display =\n",
              "          google.colab.kernel.accessAllowed ? 'block' : 'none';\n",
              "\n",
              "        async function convertToInteractive(key) {\n",
              "          const element = document.querySelector('#df-bf225a09-2196-48f0-8cba-2b09011cd4bc');\n",
              "          const dataTable =\n",
              "            await google.colab.kernel.invokeFunction('convertToInteractive',\n",
              "                                                     [key], {});\n",
              "          if (!dataTable) return;\n",
              "\n",
              "          const docLinkHtml = 'Like what you see? Visit the ' +\n",
              "            '<a target=\"_blank\" href=https://colab.research.google.com/notebooks/data_table.ipynb>data table notebook</a>'\n",
              "            + ' to learn more about interactive tables.';\n",
              "          element.innerHTML = '';\n",
              "          dataTable['output_type'] = 'display_data';\n",
              "          await google.colab.output.renderOutput(dataTable, element);\n",
              "          const docLink = document.createElement('div');\n",
              "          docLink.innerHTML = docLinkHtml;\n",
              "          element.appendChild(docLink);\n",
              "        }\n",
              "      </script>\n",
              "    </div>\n",
              "  </div>\n",
              "  "
            ]
          },
          "metadata": {},
          "execution_count": 23
        }
      ]
    },
    {
      "cell_type": "code",
      "source": [
        "df.tail()"
      ],
      "metadata": {
        "colab": {
          "base_uri": "https://localhost:8080/",
          "height": 206
        },
        "id": "Yryn_5f2VD2J",
        "outputId": "d7fd2d15-4a67-4628-9184-05fa968b3dd4"
      },
      "execution_count": null,
      "outputs": [
        {
          "output_type": "execute_result",
          "data": {
            "text/plain": [
              "                                                 Month  Passengers\n",
              "140                                            1960-09       508.0\n",
              "141                                            1960-10       461.0\n",
              "142                                            1960-11       390.0\n",
              "143                                            1960-12       432.0\n",
              "144  International airline passengers: monthly tota...         NaN"
            ],
            "text/html": [
              "\n",
              "  <div id=\"df-488ac199-7100-4ee1-bbda-88ec2afdd349\">\n",
              "    <div class=\"colab-df-container\">\n",
              "      <div>\n",
              "<style scoped>\n",
              "    .dataframe tbody tr th:only-of-type {\n",
              "        vertical-align: middle;\n",
              "    }\n",
              "\n",
              "    .dataframe tbody tr th {\n",
              "        vertical-align: top;\n",
              "    }\n",
              "\n",
              "    .dataframe thead th {\n",
              "        text-align: right;\n",
              "    }\n",
              "</style>\n",
              "<table border=\"1\" class=\"dataframe\">\n",
              "  <thead>\n",
              "    <tr style=\"text-align: right;\">\n",
              "      <th></th>\n",
              "      <th>Month</th>\n",
              "      <th>Passengers</th>\n",
              "    </tr>\n",
              "  </thead>\n",
              "  <tbody>\n",
              "    <tr>\n",
              "      <th>140</th>\n",
              "      <td>1960-09</td>\n",
              "      <td>508.0</td>\n",
              "    </tr>\n",
              "    <tr>\n",
              "      <th>141</th>\n",
              "      <td>1960-10</td>\n",
              "      <td>461.0</td>\n",
              "    </tr>\n",
              "    <tr>\n",
              "      <th>142</th>\n",
              "      <td>1960-11</td>\n",
              "      <td>390.0</td>\n",
              "    </tr>\n",
              "    <tr>\n",
              "      <th>143</th>\n",
              "      <td>1960-12</td>\n",
              "      <td>432.0</td>\n",
              "    </tr>\n",
              "    <tr>\n",
              "      <th>144</th>\n",
              "      <td>International airline passengers: monthly tota...</td>\n",
              "      <td>NaN</td>\n",
              "    </tr>\n",
              "  </tbody>\n",
              "</table>\n",
              "</div>\n",
              "      <button class=\"colab-df-convert\" onclick=\"convertToInteractive('df-488ac199-7100-4ee1-bbda-88ec2afdd349')\"\n",
              "              title=\"Convert this dataframe to an interactive table.\"\n",
              "              style=\"display:none;\">\n",
              "        \n",
              "  <svg xmlns=\"http://www.w3.org/2000/svg\" height=\"24px\"viewBox=\"0 0 24 24\"\n",
              "       width=\"24px\">\n",
              "    <path d=\"M0 0h24v24H0V0z\" fill=\"none\"/>\n",
              "    <path d=\"M18.56 5.44l.94 2.06.94-2.06 2.06-.94-2.06-.94-.94-2.06-.94 2.06-2.06.94zm-11 1L8.5 8.5l.94-2.06 2.06-.94-2.06-.94L8.5 2.5l-.94 2.06-2.06.94zm10 10l.94 2.06.94-2.06 2.06-.94-2.06-.94-.94-2.06-.94 2.06-2.06.94z\"/><path d=\"M17.41 7.96l-1.37-1.37c-.4-.4-.92-.59-1.43-.59-.52 0-1.04.2-1.43.59L10.3 9.45l-7.72 7.72c-.78.78-.78 2.05 0 2.83L4 21.41c.39.39.9.59 1.41.59.51 0 1.02-.2 1.41-.59l7.78-7.78 2.81-2.81c.8-.78.8-2.07 0-2.86zM5.41 20L4 18.59l7.72-7.72 1.47 1.35L5.41 20z\"/>\n",
              "  </svg>\n",
              "      </button>\n",
              "      \n",
              "  <style>\n",
              "    .colab-df-container {\n",
              "      display:flex;\n",
              "      flex-wrap:wrap;\n",
              "      gap: 12px;\n",
              "    }\n",
              "\n",
              "    .colab-df-convert {\n",
              "      background-color: #E8F0FE;\n",
              "      border: none;\n",
              "      border-radius: 50%;\n",
              "      cursor: pointer;\n",
              "      display: none;\n",
              "      fill: #1967D2;\n",
              "      height: 32px;\n",
              "      padding: 0 0 0 0;\n",
              "      width: 32px;\n",
              "    }\n",
              "\n",
              "    .colab-df-convert:hover {\n",
              "      background-color: #E2EBFA;\n",
              "      box-shadow: 0px 1px 2px rgba(60, 64, 67, 0.3), 0px 1px 3px 1px rgba(60, 64, 67, 0.15);\n",
              "      fill: #174EA6;\n",
              "    }\n",
              "\n",
              "    [theme=dark] .colab-df-convert {\n",
              "      background-color: #3B4455;\n",
              "      fill: #D2E3FC;\n",
              "    }\n",
              "\n",
              "    [theme=dark] .colab-df-convert:hover {\n",
              "      background-color: #434B5C;\n",
              "      box-shadow: 0px 1px 3px 1px rgba(0, 0, 0, 0.15);\n",
              "      filter: drop-shadow(0px 1px 2px rgba(0, 0, 0, 0.3));\n",
              "      fill: #FFFFFF;\n",
              "    }\n",
              "  </style>\n",
              "\n",
              "      <script>\n",
              "        const buttonEl =\n",
              "          document.querySelector('#df-488ac199-7100-4ee1-bbda-88ec2afdd349 button.colab-df-convert');\n",
              "        buttonEl.style.display =\n",
              "          google.colab.kernel.accessAllowed ? 'block' : 'none';\n",
              "\n",
              "        async function convertToInteractive(key) {\n",
              "          const element = document.querySelector('#df-488ac199-7100-4ee1-bbda-88ec2afdd349');\n",
              "          const dataTable =\n",
              "            await google.colab.kernel.invokeFunction('convertToInteractive',\n",
              "                                                     [key], {});\n",
              "          if (!dataTable) return;\n",
              "\n",
              "          const docLinkHtml = 'Like what you see? Visit the ' +\n",
              "            '<a target=\"_blank\" href=https://colab.research.google.com/notebooks/data_table.ipynb>data table notebook</a>'\n",
              "            + ' to learn more about interactive tables.';\n",
              "          element.innerHTML = '';\n",
              "          dataTable['output_type'] = 'display_data';\n",
              "          await google.colab.output.renderOutput(dataTable, element);\n",
              "          const docLink = document.createElement('div');\n",
              "          docLink.innerHTML = docLinkHtml;\n",
              "          element.appendChild(docLink);\n",
              "        }\n",
              "      </script>\n",
              "    </div>\n",
              "  </div>\n",
              "  "
            ]
          },
          "metadata": {},
          "execution_count": 24
        }
      ]
    },
    {
      "cell_type": "code",
      "source": [
        "df.shape"
      ],
      "metadata": {
        "colab": {
          "base_uri": "https://localhost:8080/"
        },
        "id": "lzfN64auVQBy",
        "outputId": "24d275e2-54c6-415d-ffbb-d8d520fe1e51"
      },
      "execution_count": null,
      "outputs": [
        {
          "output_type": "execute_result",
          "data": {
            "text/plain": [
              "(145, 2)"
            ]
          },
          "metadata": {},
          "execution_count": 25
        }
      ]
    },
    {
      "cell_type": "code",
      "source": [
        "df.dtypes"
      ],
      "metadata": {
        "colab": {
          "base_uri": "https://localhost:8080/"
        },
        "id": "B01Ir3p1VSoq",
        "outputId": "49d79222-3a8c-4a66-909b-60839d9e74ca"
      },
      "execution_count": null,
      "outputs": [
        {
          "output_type": "execute_result",
          "data": {
            "text/plain": [
              "Month          object\n",
              "Passengers    float64\n",
              "dtype: object"
            ]
          },
          "metadata": {},
          "execution_count": 26
        }
      ]
    },
    {
      "cell_type": "code",
      "source": [
        "df.isnull().sum()"
      ],
      "metadata": {
        "colab": {
          "base_uri": "https://localhost:8080/"
        },
        "id": "d9imKafvVVJq",
        "outputId": "e9d58373-0734-44ac-ebb1-405f65fca05c"
      },
      "execution_count": null,
      "outputs": [
        {
          "output_type": "execute_result",
          "data": {
            "text/plain": [
              "Month         0\n",
              "Passengers    1\n",
              "dtype: int64"
            ]
          },
          "metadata": {},
          "execution_count": 27
        }
      ]
    },
    {
      "cell_type": "code",
      "source": [
        "df.describe().T"
      ],
      "metadata": {
        "colab": {
          "base_uri": "https://localhost:8080/",
          "height": 81
        },
        "id": "_r67sP03Vfcn",
        "outputId": "e6d1e944-be1a-47b9-d1ce-7381b092b261"
      },
      "execution_count": null,
      "outputs": [
        {
          "output_type": "execute_result",
          "data": {
            "text/plain": [
              "            count        mean         std    min    25%    50%    75%    max\n",
              "Passengers  144.0  280.298611  119.966317  104.0  180.0  265.5  360.5  622.0"
            ],
            "text/html": [
              "\n",
              "  <div id=\"df-b9d95809-1acf-4c15-9e44-da4ad521ff0e\">\n",
              "    <div class=\"colab-df-container\">\n",
              "      <div>\n",
              "<style scoped>\n",
              "    .dataframe tbody tr th:only-of-type {\n",
              "        vertical-align: middle;\n",
              "    }\n",
              "\n",
              "    .dataframe tbody tr th {\n",
              "        vertical-align: top;\n",
              "    }\n",
              "\n",
              "    .dataframe thead th {\n",
              "        text-align: right;\n",
              "    }\n",
              "</style>\n",
              "<table border=\"1\" class=\"dataframe\">\n",
              "  <thead>\n",
              "    <tr style=\"text-align: right;\">\n",
              "      <th></th>\n",
              "      <th>count</th>\n",
              "      <th>mean</th>\n",
              "      <th>std</th>\n",
              "      <th>min</th>\n",
              "      <th>25%</th>\n",
              "      <th>50%</th>\n",
              "      <th>75%</th>\n",
              "      <th>max</th>\n",
              "    </tr>\n",
              "  </thead>\n",
              "  <tbody>\n",
              "    <tr>\n",
              "      <th>Passengers</th>\n",
              "      <td>144.0</td>\n",
              "      <td>280.298611</td>\n",
              "      <td>119.966317</td>\n",
              "      <td>104.0</td>\n",
              "      <td>180.0</td>\n",
              "      <td>265.5</td>\n",
              "      <td>360.5</td>\n",
              "      <td>622.0</td>\n",
              "    </tr>\n",
              "  </tbody>\n",
              "</table>\n",
              "</div>\n",
              "      <button class=\"colab-df-convert\" onclick=\"convertToInteractive('df-b9d95809-1acf-4c15-9e44-da4ad521ff0e')\"\n",
              "              title=\"Convert this dataframe to an interactive table.\"\n",
              "              style=\"display:none;\">\n",
              "        \n",
              "  <svg xmlns=\"http://www.w3.org/2000/svg\" height=\"24px\"viewBox=\"0 0 24 24\"\n",
              "       width=\"24px\">\n",
              "    <path d=\"M0 0h24v24H0V0z\" fill=\"none\"/>\n",
              "    <path d=\"M18.56 5.44l.94 2.06.94-2.06 2.06-.94-2.06-.94-.94-2.06-.94 2.06-2.06.94zm-11 1L8.5 8.5l.94-2.06 2.06-.94-2.06-.94L8.5 2.5l-.94 2.06-2.06.94zm10 10l.94 2.06.94-2.06 2.06-.94-2.06-.94-.94-2.06-.94 2.06-2.06.94z\"/><path d=\"M17.41 7.96l-1.37-1.37c-.4-.4-.92-.59-1.43-.59-.52 0-1.04.2-1.43.59L10.3 9.45l-7.72 7.72c-.78.78-.78 2.05 0 2.83L4 21.41c.39.39.9.59 1.41.59.51 0 1.02-.2 1.41-.59l7.78-7.78 2.81-2.81c.8-.78.8-2.07 0-2.86zM5.41 20L4 18.59l7.72-7.72 1.47 1.35L5.41 20z\"/>\n",
              "  </svg>\n",
              "      </button>\n",
              "      \n",
              "  <style>\n",
              "    .colab-df-container {\n",
              "      display:flex;\n",
              "      flex-wrap:wrap;\n",
              "      gap: 12px;\n",
              "    }\n",
              "\n",
              "    .colab-df-convert {\n",
              "      background-color: #E8F0FE;\n",
              "      border: none;\n",
              "      border-radius: 50%;\n",
              "      cursor: pointer;\n",
              "      display: none;\n",
              "      fill: #1967D2;\n",
              "      height: 32px;\n",
              "      padding: 0 0 0 0;\n",
              "      width: 32px;\n",
              "    }\n",
              "\n",
              "    .colab-df-convert:hover {\n",
              "      background-color: #E2EBFA;\n",
              "      box-shadow: 0px 1px 2px rgba(60, 64, 67, 0.3), 0px 1px 3px 1px rgba(60, 64, 67, 0.15);\n",
              "      fill: #174EA6;\n",
              "    }\n",
              "\n",
              "    [theme=dark] .colab-df-convert {\n",
              "      background-color: #3B4455;\n",
              "      fill: #D2E3FC;\n",
              "    }\n",
              "\n",
              "    [theme=dark] .colab-df-convert:hover {\n",
              "      background-color: #434B5C;\n",
              "      box-shadow: 0px 1px 3px 1px rgba(0, 0, 0, 0.15);\n",
              "      filter: drop-shadow(0px 1px 2px rgba(0, 0, 0, 0.3));\n",
              "      fill: #FFFFFF;\n",
              "    }\n",
              "  </style>\n",
              "\n",
              "      <script>\n",
              "        const buttonEl =\n",
              "          document.querySelector('#df-b9d95809-1acf-4c15-9e44-da4ad521ff0e button.colab-df-convert');\n",
              "        buttonEl.style.display =\n",
              "          google.colab.kernel.accessAllowed ? 'block' : 'none';\n",
              "\n",
              "        async function convertToInteractive(key) {\n",
              "          const element = document.querySelector('#df-b9d95809-1acf-4c15-9e44-da4ad521ff0e');\n",
              "          const dataTable =\n",
              "            await google.colab.kernel.invokeFunction('convertToInteractive',\n",
              "                                                     [key], {});\n",
              "          if (!dataTable) return;\n",
              "\n",
              "          const docLinkHtml = 'Like what you see? Visit the ' +\n",
              "            '<a target=\"_blank\" href=https://colab.research.google.com/notebooks/data_table.ipynb>data table notebook</a>'\n",
              "            + ' to learn more about interactive tables.';\n",
              "          element.innerHTML = '';\n",
              "          dataTable['output_type'] = 'display_data';\n",
              "          await google.colab.output.renderOutput(dataTable, element);\n",
              "          const docLink = document.createElement('div');\n",
              "          docLink.innerHTML = docLinkHtml;\n",
              "          element.appendChild(docLink);\n",
              "        }\n",
              "      </script>\n",
              "    </div>\n",
              "  </div>\n",
              "  "
            ]
          },
          "metadata": {},
          "execution_count": 28
        }
      ]
    },
    {
      "cell_type": "markdown",
      "source": [
        "Veriyi Hazırlama"
      ],
      "metadata": {
        "id": "4X2usYCjWKv9"
      }
    },
    {
      "cell_type": "code",
      "source": [
        "df=df[:144]"
      ],
      "metadata": {
        "id": "MAELX9A1VzcT"
      },
      "execution_count": null,
      "outputs": []
    },
    {
      "cell_type": "code",
      "source": [
        "df.tail()"
      ],
      "metadata": {
        "colab": {
          "base_uri": "https://localhost:8080/",
          "height": 206
        },
        "id": "B601fIiYVze3",
        "outputId": "6d98ed58-ec50-4a46-ac01-2c6fe90348d3"
      },
      "execution_count": null,
      "outputs": [
        {
          "output_type": "execute_result",
          "data": {
            "text/plain": [
              "       Month  Passengers\n",
              "139  1960-08       606.0\n",
              "140  1960-09       508.0\n",
              "141  1960-10       461.0\n",
              "142  1960-11       390.0\n",
              "143  1960-12       432.0"
            ],
            "text/html": [
              "\n",
              "  <div id=\"df-7e70c75b-5599-448b-869a-b83b7f106a55\">\n",
              "    <div class=\"colab-df-container\">\n",
              "      <div>\n",
              "<style scoped>\n",
              "    .dataframe tbody tr th:only-of-type {\n",
              "        vertical-align: middle;\n",
              "    }\n",
              "\n",
              "    .dataframe tbody tr th {\n",
              "        vertical-align: top;\n",
              "    }\n",
              "\n",
              "    .dataframe thead th {\n",
              "        text-align: right;\n",
              "    }\n",
              "</style>\n",
              "<table border=\"1\" class=\"dataframe\">\n",
              "  <thead>\n",
              "    <tr style=\"text-align: right;\">\n",
              "      <th></th>\n",
              "      <th>Month</th>\n",
              "      <th>Passengers</th>\n",
              "    </tr>\n",
              "  </thead>\n",
              "  <tbody>\n",
              "    <tr>\n",
              "      <th>139</th>\n",
              "      <td>1960-08</td>\n",
              "      <td>606.0</td>\n",
              "    </tr>\n",
              "    <tr>\n",
              "      <th>140</th>\n",
              "      <td>1960-09</td>\n",
              "      <td>508.0</td>\n",
              "    </tr>\n",
              "    <tr>\n",
              "      <th>141</th>\n",
              "      <td>1960-10</td>\n",
              "      <td>461.0</td>\n",
              "    </tr>\n",
              "    <tr>\n",
              "      <th>142</th>\n",
              "      <td>1960-11</td>\n",
              "      <td>390.0</td>\n",
              "    </tr>\n",
              "    <tr>\n",
              "      <th>143</th>\n",
              "      <td>1960-12</td>\n",
              "      <td>432.0</td>\n",
              "    </tr>\n",
              "  </tbody>\n",
              "</table>\n",
              "</div>\n",
              "      <button class=\"colab-df-convert\" onclick=\"convertToInteractive('df-7e70c75b-5599-448b-869a-b83b7f106a55')\"\n",
              "              title=\"Convert this dataframe to an interactive table.\"\n",
              "              style=\"display:none;\">\n",
              "        \n",
              "  <svg xmlns=\"http://www.w3.org/2000/svg\" height=\"24px\"viewBox=\"0 0 24 24\"\n",
              "       width=\"24px\">\n",
              "    <path d=\"M0 0h24v24H0V0z\" fill=\"none\"/>\n",
              "    <path d=\"M18.56 5.44l.94 2.06.94-2.06 2.06-.94-2.06-.94-.94-2.06-.94 2.06-2.06.94zm-11 1L8.5 8.5l.94-2.06 2.06-.94-2.06-.94L8.5 2.5l-.94 2.06-2.06.94zm10 10l.94 2.06.94-2.06 2.06-.94-2.06-.94-.94-2.06-.94 2.06-2.06.94z\"/><path d=\"M17.41 7.96l-1.37-1.37c-.4-.4-.92-.59-1.43-.59-.52 0-1.04.2-1.43.59L10.3 9.45l-7.72 7.72c-.78.78-.78 2.05 0 2.83L4 21.41c.39.39.9.59 1.41.59.51 0 1.02-.2 1.41-.59l7.78-7.78 2.81-2.81c.8-.78.8-2.07 0-2.86zM5.41 20L4 18.59l7.72-7.72 1.47 1.35L5.41 20z\"/>\n",
              "  </svg>\n",
              "      </button>\n",
              "      \n",
              "  <style>\n",
              "    .colab-df-container {\n",
              "      display:flex;\n",
              "      flex-wrap:wrap;\n",
              "      gap: 12px;\n",
              "    }\n",
              "\n",
              "    .colab-df-convert {\n",
              "      background-color: #E8F0FE;\n",
              "      border: none;\n",
              "      border-radius: 50%;\n",
              "      cursor: pointer;\n",
              "      display: none;\n",
              "      fill: #1967D2;\n",
              "      height: 32px;\n",
              "      padding: 0 0 0 0;\n",
              "      width: 32px;\n",
              "    }\n",
              "\n",
              "    .colab-df-convert:hover {\n",
              "      background-color: #E2EBFA;\n",
              "      box-shadow: 0px 1px 2px rgba(60, 64, 67, 0.3), 0px 1px 3px 1px rgba(60, 64, 67, 0.15);\n",
              "      fill: #174EA6;\n",
              "    }\n",
              "\n",
              "    [theme=dark] .colab-df-convert {\n",
              "      background-color: #3B4455;\n",
              "      fill: #D2E3FC;\n",
              "    }\n",
              "\n",
              "    [theme=dark] .colab-df-convert:hover {\n",
              "      background-color: #434B5C;\n",
              "      box-shadow: 0px 1px 3px 1px rgba(0, 0, 0, 0.15);\n",
              "      filter: drop-shadow(0px 1px 2px rgba(0, 0, 0, 0.3));\n",
              "      fill: #FFFFFF;\n",
              "    }\n",
              "  </style>\n",
              "\n",
              "      <script>\n",
              "        const buttonEl =\n",
              "          document.querySelector('#df-7e70c75b-5599-448b-869a-b83b7f106a55 button.colab-df-convert');\n",
              "        buttonEl.style.display =\n",
              "          google.colab.kernel.accessAllowed ? 'block' : 'none';\n",
              "\n",
              "        async function convertToInteractive(key) {\n",
              "          const element = document.querySelector('#df-7e70c75b-5599-448b-869a-b83b7f106a55');\n",
              "          const dataTable =\n",
              "            await google.colab.kernel.invokeFunction('convertToInteractive',\n",
              "                                                     [key], {});\n",
              "          if (!dataTable) return;\n",
              "\n",
              "          const docLinkHtml = 'Like what you see? Visit the ' +\n",
              "            '<a target=\"_blank\" href=https://colab.research.google.com/notebooks/data_table.ipynb>data table notebook</a>'\n",
              "            + ' to learn more about interactive tables.';\n",
              "          element.innerHTML = '';\n",
              "          dataTable['output_type'] = 'display_data';\n",
              "          await google.colab.output.renderOutput(dataTable, element);\n",
              "          const docLink = document.createElement('div');\n",
              "          docLink.innerHTML = docLinkHtml;\n",
              "          element.appendChild(docLink);\n",
              "        }\n",
              "      </script>\n",
              "    </div>\n",
              "  </div>\n",
              "  "
            ]
          },
          "metadata": {},
          "execution_count": 30
        }
      ]
    },
    {
      "cell_type": "code",
      "source": [
        "df.info()"
      ],
      "metadata": {
        "colab": {
          "base_uri": "https://localhost:8080/"
        },
        "id": "KuMRAsyKVzhg",
        "outputId": "1899b782-1459-4e42-be74-6c6b189bad1f"
      },
      "execution_count": null,
      "outputs": [
        {
          "output_type": "stream",
          "name": "stdout",
          "text": [
            "<class 'pandas.core.frame.DataFrame'>\n",
            "RangeIndex: 144 entries, 0 to 143\n",
            "Data columns (total 2 columns):\n",
            " #   Column      Non-Null Count  Dtype  \n",
            "---  ------      --------------  -----  \n",
            " 0   Month       144 non-null    object \n",
            " 1   Passengers  144 non-null    float64\n",
            "dtypes: float64(1), object(1)\n",
            "memory usage: 2.4+ KB\n"
          ]
        }
      ]
    },
    {
      "cell_type": "code",
      "source": [
        "df[\"Month\"]=pd.to_datetime(df[\"Month\"])"
      ],
      "metadata": {
        "id": "uohRRkR-VzkU"
      },
      "execution_count": null,
      "outputs": []
    },
    {
      "cell_type": "code",
      "source": [
        "df.info()"
      ],
      "metadata": {
        "colab": {
          "base_uri": "https://localhost:8080/"
        },
        "id": "kc1LOQRiVzm7",
        "outputId": "8f4ce632-4f3a-4fb7-d3a0-a294a05a8582"
      },
      "execution_count": null,
      "outputs": [
        {
          "output_type": "stream",
          "name": "stdout",
          "text": [
            "<class 'pandas.core.frame.DataFrame'>\n",
            "RangeIndex: 144 entries, 0 to 143\n",
            "Data columns (total 2 columns):\n",
            " #   Column      Non-Null Count  Dtype         \n",
            "---  ------      --------------  -----         \n",
            " 0   Month       144 non-null    datetime64[ns]\n",
            " 1   Passengers  144 non-null    float64       \n",
            "dtypes: datetime64[ns](1), float64(1)\n",
            "memory usage: 2.4 KB\n"
          ]
        }
      ]
    },
    {
      "cell_type": "code",
      "source": [
        "df.index=df[\"Month\"]"
      ],
      "metadata": {
        "id": "Saldli91Vzpz"
      },
      "execution_count": null,
      "outputs": []
    },
    {
      "cell_type": "code",
      "source": [
        "df.head()"
      ],
      "metadata": {
        "colab": {
          "base_uri": "https://localhost:8080/",
          "height": 238
        },
        "id": "DRGeOI8BVzsp",
        "outputId": "c921bf60-8b28-402b-f90c-d956c4750e7f"
      },
      "execution_count": null,
      "outputs": [
        {
          "output_type": "execute_result",
          "data": {
            "text/plain": [
              "                Month  Passengers\n",
              "Month                            \n",
              "1949-01-01 1949-01-01       112.0\n",
              "1949-02-01 1949-02-01       118.0\n",
              "1949-03-01 1949-03-01       132.0\n",
              "1949-04-01 1949-04-01       129.0\n",
              "1949-05-01 1949-05-01       121.0"
            ],
            "text/html": [
              "\n",
              "  <div id=\"df-9244bd27-3bdd-4a1b-b069-4c764aefa64c\">\n",
              "    <div class=\"colab-df-container\">\n",
              "      <div>\n",
              "<style scoped>\n",
              "    .dataframe tbody tr th:only-of-type {\n",
              "        vertical-align: middle;\n",
              "    }\n",
              "\n",
              "    .dataframe tbody tr th {\n",
              "        vertical-align: top;\n",
              "    }\n",
              "\n",
              "    .dataframe thead th {\n",
              "        text-align: right;\n",
              "    }\n",
              "</style>\n",
              "<table border=\"1\" class=\"dataframe\">\n",
              "  <thead>\n",
              "    <tr style=\"text-align: right;\">\n",
              "      <th></th>\n",
              "      <th>Month</th>\n",
              "      <th>Passengers</th>\n",
              "    </tr>\n",
              "    <tr>\n",
              "      <th>Month</th>\n",
              "      <th></th>\n",
              "      <th></th>\n",
              "    </tr>\n",
              "  </thead>\n",
              "  <tbody>\n",
              "    <tr>\n",
              "      <th>1949-01-01</th>\n",
              "      <td>1949-01-01</td>\n",
              "      <td>112.0</td>\n",
              "    </tr>\n",
              "    <tr>\n",
              "      <th>1949-02-01</th>\n",
              "      <td>1949-02-01</td>\n",
              "      <td>118.0</td>\n",
              "    </tr>\n",
              "    <tr>\n",
              "      <th>1949-03-01</th>\n",
              "      <td>1949-03-01</td>\n",
              "      <td>132.0</td>\n",
              "    </tr>\n",
              "    <tr>\n",
              "      <th>1949-04-01</th>\n",
              "      <td>1949-04-01</td>\n",
              "      <td>129.0</td>\n",
              "    </tr>\n",
              "    <tr>\n",
              "      <th>1949-05-01</th>\n",
              "      <td>1949-05-01</td>\n",
              "      <td>121.0</td>\n",
              "    </tr>\n",
              "  </tbody>\n",
              "</table>\n",
              "</div>\n",
              "      <button class=\"colab-df-convert\" onclick=\"convertToInteractive('df-9244bd27-3bdd-4a1b-b069-4c764aefa64c')\"\n",
              "              title=\"Convert this dataframe to an interactive table.\"\n",
              "              style=\"display:none;\">\n",
              "        \n",
              "  <svg xmlns=\"http://www.w3.org/2000/svg\" height=\"24px\"viewBox=\"0 0 24 24\"\n",
              "       width=\"24px\">\n",
              "    <path d=\"M0 0h24v24H0V0z\" fill=\"none\"/>\n",
              "    <path d=\"M18.56 5.44l.94 2.06.94-2.06 2.06-.94-2.06-.94-.94-2.06-.94 2.06-2.06.94zm-11 1L8.5 8.5l.94-2.06 2.06-.94-2.06-.94L8.5 2.5l-.94 2.06-2.06.94zm10 10l.94 2.06.94-2.06 2.06-.94-2.06-.94-.94-2.06-.94 2.06-2.06.94z\"/><path d=\"M17.41 7.96l-1.37-1.37c-.4-.4-.92-.59-1.43-.59-.52 0-1.04.2-1.43.59L10.3 9.45l-7.72 7.72c-.78.78-.78 2.05 0 2.83L4 21.41c.39.39.9.59 1.41.59.51 0 1.02-.2 1.41-.59l7.78-7.78 2.81-2.81c.8-.78.8-2.07 0-2.86zM5.41 20L4 18.59l7.72-7.72 1.47 1.35L5.41 20z\"/>\n",
              "  </svg>\n",
              "      </button>\n",
              "      \n",
              "  <style>\n",
              "    .colab-df-container {\n",
              "      display:flex;\n",
              "      flex-wrap:wrap;\n",
              "      gap: 12px;\n",
              "    }\n",
              "\n",
              "    .colab-df-convert {\n",
              "      background-color: #E8F0FE;\n",
              "      border: none;\n",
              "      border-radius: 50%;\n",
              "      cursor: pointer;\n",
              "      display: none;\n",
              "      fill: #1967D2;\n",
              "      height: 32px;\n",
              "      padding: 0 0 0 0;\n",
              "      width: 32px;\n",
              "    }\n",
              "\n",
              "    .colab-df-convert:hover {\n",
              "      background-color: #E2EBFA;\n",
              "      box-shadow: 0px 1px 2px rgba(60, 64, 67, 0.3), 0px 1px 3px 1px rgba(60, 64, 67, 0.15);\n",
              "      fill: #174EA6;\n",
              "    }\n",
              "\n",
              "    [theme=dark] .colab-df-convert {\n",
              "      background-color: #3B4455;\n",
              "      fill: #D2E3FC;\n",
              "    }\n",
              "\n",
              "    [theme=dark] .colab-df-convert:hover {\n",
              "      background-color: #434B5C;\n",
              "      box-shadow: 0px 1px 3px 1px rgba(0, 0, 0, 0.15);\n",
              "      filter: drop-shadow(0px 1px 2px rgba(0, 0, 0, 0.3));\n",
              "      fill: #FFFFFF;\n",
              "    }\n",
              "  </style>\n",
              "\n",
              "      <script>\n",
              "        const buttonEl =\n",
              "          document.querySelector('#df-9244bd27-3bdd-4a1b-b069-4c764aefa64c button.colab-df-convert');\n",
              "        buttonEl.style.display =\n",
              "          google.colab.kernel.accessAllowed ? 'block' : 'none';\n",
              "\n",
              "        async function convertToInteractive(key) {\n",
              "          const element = document.querySelector('#df-9244bd27-3bdd-4a1b-b069-4c764aefa64c');\n",
              "          const dataTable =\n",
              "            await google.colab.kernel.invokeFunction('convertToInteractive',\n",
              "                                                     [key], {});\n",
              "          if (!dataTable) return;\n",
              "\n",
              "          const docLinkHtml = 'Like what you see? Visit the ' +\n",
              "            '<a target=\"_blank\" href=https://colab.research.google.com/notebooks/data_table.ipynb>data table notebook</a>'\n",
              "            + ' to learn more about interactive tables.';\n",
              "          element.innerHTML = '';\n",
              "          dataTable['output_type'] = 'display_data';\n",
              "          await google.colab.output.renderOutput(dataTable, element);\n",
              "          const docLink = document.createElement('div');\n",
              "          docLink.innerHTML = docLinkHtml;\n",
              "          element.appendChild(docLink);\n",
              "        }\n",
              "      </script>\n",
              "    </div>\n",
              "  </div>\n",
              "  "
            ]
          },
          "metadata": {},
          "execution_count": 35
        }
      ]
    },
    {
      "cell_type": "code",
      "source": [
        "df.drop(\"Month\",axis=1,inplace=True)"
      ],
      "metadata": {
        "colab": {
          "base_uri": "https://localhost:8080/",
          "height": 204
        },
        "id": "TISjC8LUVzvi",
        "outputId": "789ea6bd-ccaf-4933-c2c4-1f0e2e30fd9d"
      },
      "execution_count": null,
      "outputs": [
        {
          "output_type": "error",
          "ename": "NameError",
          "evalue": "ignored",
          "traceback": [
            "\u001b[0;31m---------------------------------------------------------------------------\u001b[0m",
            "\u001b[0;31mNameError\u001b[0m                                 Traceback (most recent call last)",
            "\u001b[0;32m<ipython-input-1-7cff1003e97e>\u001b[0m in \u001b[0;36m<cell line: 1>\u001b[0;34m()\u001b[0m\n\u001b[0;32m----> 1\u001b[0;31m \u001b[0mdf\u001b[0m\u001b[0;34m.\u001b[0m\u001b[0mdrop\u001b[0m\u001b[0;34m(\u001b[0m\u001b[0;34m\"Month\"\u001b[0m\u001b[0;34m,\u001b[0m\u001b[0maxis\u001b[0m\u001b[0;34m=\u001b[0m\u001b[0;36m1\u001b[0m\u001b[0;34m,\u001b[0m\u001b[0minplace\u001b[0m\u001b[0;34m=\u001b[0m\u001b[0;32mTrue\u001b[0m\u001b[0;34m)\u001b[0m\u001b[0;34m\u001b[0m\u001b[0;34m\u001b[0m\u001b[0m\n\u001b[0m",
            "\u001b[0;31mNameError\u001b[0m: name 'df' is not defined"
          ]
        }
      ]
    },
    {
      "cell_type": "code",
      "source": [
        "df.head()"
      ],
      "metadata": {
        "id": "UPcaZjToVzyY"
      },
      "execution_count": null,
      "outputs": []
    },
    {
      "cell_type": "code",
      "source": [
        "result_df=df.copy()"
      ],
      "metadata": {
        "id": "D4Dl95qmW86m"
      },
      "execution_count": null,
      "outputs": []
    },
    {
      "cell_type": "code",
      "source": [
        "df.plot(figsize=(14,8),title=\"Monthly Airline Passengers\");"
      ],
      "metadata": {
        "colab": {
          "base_uri": "https://localhost:8080/",
          "height": 403
        },
        "id": "60jHIaHrXOHa",
        "outputId": "60fafcba-0024-48a0-a102-6ed80a3c969e"
      },
      "execution_count": null,
      "outputs": [
        {
          "output_type": "display_data",
          "data": {
            "text/plain": [
              "<Figure size 1400x800 with 1 Axes>"
            ],
            "image/png": "[encoded data removed]"
          },
          "metadata": {}
        }
      ]
    },
    {
      "cell_type": "code",
      "source": [
        "data=df[\"Passengers\"].values"
      ],
      "metadata": {
        "id": "gN_ZS42iXahM"
      },
      "execution_count": null,
      "outputs": []
    },
    {
      "cell_type": "code",
      "source": [
        "data[0:5]"
      ],
      "metadata": {
        "colab": {
          "base_uri": "https://localhost:8080/"
        },
        "id": "qGEuJbvDX1AG",
        "outputId": "c840767d-e464-4a19-fe7d-64ec6c35faae"
      },
      "execution_count": null,
      "outputs": [
        {
          "output_type": "execute_result",
          "data": {
            "text/plain": [
              "array([112., 118., 132., 129., 121.])"
            ]
          },
          "metadata": {},
          "execution_count": 41
        }
      ]
    },
    {
      "cell_type": "code",
      "source": [
        "type(data[0:5])"
      ],
      "metadata": {
        "colab": {
          "base_uri": "https://localhost:8080/"
        },
        "id": "M3oVjfcqX22P",
        "outputId": "06a36353-c1a8-4856-a8f8-b730d88c2287"
      },
      "execution_count": null,
      "outputs": [
        {
          "output_type": "execute_result",
          "data": {
            "text/plain": [
              "numpy.ndarray"
            ]
          },
          "metadata": {},
          "execution_count": 42
        }
      ]
    },
    {
      "cell_type": "code",
      "source": [
        "type(data[0])"
      ],
      "metadata": {
        "colab": {
          "base_uri": "https://localhost:8080/"
        },
        "id": "PfIe-lUuX8hq",
        "outputId": "2aa492f1-d343-4bda-b219-332728178c77"
      },
      "execution_count": null,
      "outputs": [
        {
          "output_type": "execute_result",
          "data": {
            "text/plain": [
              "numpy.float64"
            ]
          },
          "metadata": {},
          "execution_count": 43
        }
      ]
    },
    {
      "cell_type": "code",
      "source": [
        "data=data.astype(\"float32\")"
      ],
      "metadata": {
        "id": "9lcNu_TnYFMQ"
      },
      "execution_count": null,
      "outputs": []
    },
    {
      "cell_type": "code",
      "source": [
        "type(data[0])"
      ],
      "metadata": {
        "colab": {
          "base_uri": "https://localhost:8080/"
        },
        "id": "jcqda8TBYJHZ",
        "outputId": "68a6c21d-55bb-432b-8216-5870e875d87a"
      },
      "execution_count": null,
      "outputs": [
        {
          "output_type": "execute_result",
          "data": {
            "text/plain": [
              "numpy.float32"
            ]
          },
          "metadata": {},
          "execution_count": 45
        }
      ]
    },
    {
      "cell_type": "code",
      "source": [
        "data.shape"
      ],
      "metadata": {
        "colab": {
          "base_uri": "https://localhost:8080/"
        },
        "id": "SuWTvummYLOS",
        "outputId": "01648f15-cd18-4edc-aa2f-3ea8200dc035"
      },
      "execution_count": null,
      "outputs": [
        {
          "output_type": "execute_result",
          "data": {
            "text/plain": [
              "(144,)"
            ]
          },
          "metadata": {},
          "execution_count": 46
        }
      ]
    },
    {
      "cell_type": "code",
      "source": [
        "data=data.reshape(-1,1)"
      ],
      "metadata": {
        "id": "WHpLl2kOYTLp"
      },
      "execution_count": null,
      "outputs": []
    },
    {
      "cell_type": "code",
      "source": [
        "data.shape"
      ],
      "metadata": {
        "colab": {
          "base_uri": "https://localhost:8080/"
        },
        "id": "fWmi1vQRYWTo",
        "outputId": "5e464bed-69a1-4ce7-a07a-f474b6aaa7a1"
      },
      "execution_count": null,
      "outputs": [
        {
          "output_type": "execute_result",
          "data": {
            "text/plain": [
              "(144, 1)"
            ]
          },
          "metadata": {},
          "execution_count": 48
        }
      ]
    },
    {
      "cell_type": "code",
      "source": [
        "# Train tes setlerimizi zamana bağlı olarak kontrollü ayırıyoruz:\n",
        "\n",
        "def split_data(dataframe,test_size):\n",
        "  position=int(round(len(dataframe)*(1-test_size)))\n",
        "  train=dataframe[:position]\n",
        "  test=dataframe[position:]\n",
        "  return train,test,position"
      ],
      "metadata": {
        "id": "KeM_ytzlYW8s"
      },
      "execution_count": null,
      "outputs": []
    },
    {
      "cell_type": "code",
      "source": [
        "train,test,position=split_data(data,0.33)"
      ],
      "metadata": {
        "id": "FjZZ7815YiDd"
      },
      "execution_count": null,
      "outputs": []
    },
    {
      "cell_type": "code",
      "source": [
        "print(train.shape,test.shape)"
      ],
      "metadata": {
        "colab": {
          "base_uri": "https://localhost:8080/"
        },
        "id": "6C6zfTTfYiGi",
        "outputId": "a8bf0dfc-5e51-4e5f-a624-c8460cef31f4"
      },
      "execution_count": null,
      "outputs": [
        {
          "output_type": "stream",
          "name": "stdout",
          "text": [
            "(96, 1) (48, 1)\n"
          ]
        }
      ]
    },
    {
      "cell_type": "code",
      "source": [
        "scaler_train=MinMaxScaler(feature_range=(0,1))"
      ],
      "metadata": {
        "id": "dntUW9W-YiJa"
      },
      "execution_count": null,
      "outputs": []
    },
    {
      "cell_type": "code",
      "source": [
        "train=scaler_train.fit_transform(train)"
      ],
      "metadata": {
        "id": "pk5Te_GaYiMR"
      },
      "execution_count": null,
      "outputs": []
    },
    {
      "cell_type": "code",
      "source": [
        "test=scaler_train.fit_transform(test)"
      ],
      "metadata": {
        "id": "WGx85u42YiSx"
      },
      "execution_count": null,
      "outputs": []
    },
    {
      "cell_type": "code",
      "source": [
        "train[0:5]"
      ],
      "metadata": {
        "colab": {
          "base_uri": "https://localhost:8080/"
        },
        "id": "8Pt3y34ZYiVY",
        "outputId": "e470ba3e-3bf1-4920-ee1e-e86ebb7f4747"
      },
      "execution_count": null,
      "outputs": [
        {
          "output_type": "execute_result",
          "data": {
            "text/plain": [
              "array([[0.02588999],\n",
              "       [0.04530746],\n",
              "       [0.09061491],\n",
              "       [0.08090615],\n",
              "       [0.05501619]], dtype=float32)"
            ]
          },
          "metadata": {},
          "execution_count": 55
        }
      ]
    },
    {
      "cell_type": "code",
      "source": [
        "test[0:5]"
      ],
      "metadata": {
        "colab": {
          "base_uri": "https://localhost:8080/"
        },
        "id": "a7sv3gZhYiYP",
        "outputId": "7bfdae2e-bff6-49bf-ecc7-212327e2db9e"
      },
      "execution_count": null,
      "outputs": [
        {
          "output_type": "execute_result",
          "data": {
            "text/plain": [
              "array([[0.04361373],\n",
              "       [0.        ],\n",
              "       [0.17133951],\n",
              "       [0.1464175 ],\n",
              "       [0.16822433]], dtype=float32)"
            ]
          },
          "metadata": {},
          "execution_count": 56
        }
      ]
    },
    {
      "cell_type": "code",
      "source": [
        "def create_features(data, lookback):\n",
        "  X, Y=[], []\n",
        "  for i in range(lookback,len(data)):\n",
        "    X.append(data[i-lookback:i,0])\n",
        "    Y.append(data[i,0])\n",
        "\n",
        "  return np.array(X),np.array(Y)"
      ],
      "metadata": {
        "id": "nQLjjSZXYibH"
      },
      "execution_count": null,
      "outputs": []
    },
    {
      "cell_type": "code",
      "source": [
        "# Train Veri Seti\n",
        "X_train, y_train=create_features(train,1)"
      ],
      "metadata": {
        "id": "V2689BktYieP"
      },
      "execution_count": null,
      "outputs": []
    },
    {
      "cell_type": "code",
      "source": [
        "# Test Veri Seti\n",
        "X_test, y_test=create_features(test,1)"
      ],
      "metadata": {
        "id": "zwP-z6NGYihX"
      },
      "execution_count": null,
      "outputs": []
    },
    {
      "cell_type": "code",
      "source": [
        "# RNN e gönderilecek yapı 3 boyutlu bir yapıda olması gerekiyor.\n",
        "# reshape ile 3 boyutlu bir hale getireceğiz.\n",
        "\n",
        "X_train=np.reshape(X_train,(X_train.shape[0],1,X_train.shape[1]))\n",
        "X_test=np.reshape(X_test,(X_test.shape[0],1,X_test.shape[1]))\n",
        "y_train=y_train.reshape(-1,1)\n",
        "y_test=y_test.reshape(-1,1)"
      ],
      "metadata": {
        "id": "KdfufB4WYike"
      },
      "execution_count": null,
      "outputs": []
    },
    {
      "cell_type": "code",
      "source": [
        "print(X_train.shape,y_train.shape,X_test.shape,y_test.shape)"
      ],
      "metadata": {
        "colab": {
          "base_uri": "https://localhost:8080/"
        },
        "id": "fcvDMcI1Yin6",
        "outputId": "3ff8833b-b90a-455a-863d-424e29416590"
      },
      "execution_count": null,
      "outputs": [
        {
          "output_type": "stream",
          "name": "stdout",
          "text": [
            "(95, 1, 1) (95, 1) (47, 1, 1) (47, 1)\n"
          ]
        }
      ]
    },
    {
      "cell_type": "markdown",
      "source": [
        "Modelleme"
      ],
      "metadata": {
        "id": "Gyl2cMsxh2og"
      }
    },
    {
      "cell_type": "code",
      "source": [
        "lookback=1\n",
        "model=Sequential()\n",
        "\n",
        "model.add(SimpleRNN(units=50,\n",
        "                    activation=\"relu\",\n",
        "                    input_shape=(X_train.shape[1],lookback)))\n",
        "\n",
        "model.add(Dropout(0.2))\n",
        "\n",
        "model.add(Dense(1))"
      ],
      "metadata": {
        "id": "UZdlmIgxYiz2"
      },
      "execution_count": null,
      "outputs": []
    },
    {
      "cell_type": "code",
      "source": [
        "model.summary()"
      ],
      "metadata": {
        "colab": {
          "base_uri": "https://localhost:8080/"
        },
        "id": "3dB4tfOMh5nJ",
        "outputId": "a3cc499a-eec6-4815-cc16-4c6d1f059802"
      },
      "execution_count": null,
      "outputs": [
        {
          "output_type": "stream",
          "name": "stdout",
          "text": [
            "Model: \"sequential_1\"\n",
            "_________________________________________________________________\n",
            " Layer (type)                Output Shape              Param #   \n",
            "=================================================================\n",
            " simple_rnn (SimpleRNN)      (None, 50)                2600      \n",
            "                                                                 \n",
            " dropout (Dropout)           (None, 50)                0         \n",
            "                                                                 \n",
            " dense (Dense)               (None, 1)                 51        \n",
            "                                                                 \n",
            "=================================================================\n",
            "Total params: 2,651\n",
            "Trainable params: 2,651\n",
            "Non-trainable params: 0\n",
            "_________________________________________________________________\n"
          ]
        }
      ]
    },
    {
      "cell_type": "code",
      "source": [
        "# Optimizasyon ve Değerlendirme Metrikleri Ayarlanması\n",
        "\n",
        "model.compile(loss=\"mean_squared_error\",optimizer=\"adam\")"
      ],
      "metadata": {
        "id": "2RtF0Z04h5pY"
      },
      "execution_count": null,
      "outputs": []
    },
    {
      "cell_type": "code",
      "source": [
        "callbacks=[EarlyStopping(monitor=\"val_loss\",patience=3,verbose=1,mode=\"min\"),\n",
        "           ModelCheckpoint(filepath=\"mymodel.h5\",monitor=\"val_loss\",mode=\"min\",\n",
        "                           save_best_only=True,save_weights_only=False,verbose=1)]"
      ],
      "metadata": {
        "id": "0FTOexfsh5rw"
      },
      "execution_count": null,
      "outputs": []
    },
    {
      "cell_type": "code",
      "source": [
        "history=model.fit(x=X_train,\n",
        "                  y=y_train,\n",
        "                  epochs=50,\n",
        "                  batch_size=1,\n",
        "                  validation_data=(X_test,y_test),\n",
        "                  callbacks=callbacks,\n",
        "                  shuffle=False)"
      ],
      "metadata": {
        "colab": {
          "base_uri": "https://localhost:8080/"
        },
        "id": "cN0LkeWCAPaY",
        "outputId": "e3a32bbd-b8cb-4e65-b054-f6b447a45df0"
      },
      "execution_count": null,
      "outputs": [
        {
          "output_type": "stream",
          "name": "stdout",
          "text": [
            "Epoch 1/50\n",
            "92/95 [============================>.] - ETA: 0s - loss: 0.0113\n",
            "Epoch 1: val_loss improved from inf to 0.03521, saving model to mymodel.h5\n",
            "95/95 [==============================] - 6s 7ms/step - loss: 0.0113 - val_loss: 0.0352\n",
            "Epoch 2/50\n",
            "86/95 [==========================>...] - ETA: 0s - loss: 0.0149\n",
            "Epoch 2: val_loss improved from 0.03521 to 0.02454, saving model to mymodel.h5\n",
            "95/95 [==============================] - 1s 6ms/step - loss: 0.0152 - val_loss: 0.0245\n",
            "Epoch 3/50\n",
            "92/95 [============================>.] - ETA: 0s - loss: 0.0105\n",
            "Epoch 3: val_loss improved from 0.02454 to 0.02165, saving model to mymodel.h5\n",
            "95/95 [==============================] - 1s 6ms/step - loss: 0.0104 - val_loss: 0.0216\n",
            "Epoch 4/50\n",
            "88/95 [==========================>...] - ETA: 0s - loss: 0.0097\n",
            "Epoch 4: val_loss improved from 0.02165 to 0.02059, saving model to mymodel.h5\n",
            "95/95 [==============================] - 1s 6ms/step - loss: 0.0099 - val_loss: 0.0206\n",
            "Epoch 5/50\n",
            "93/95 [============================>.] - ETA: 0s - loss: 0.0077\n",
            "Epoch 5: val_loss did not improve from 0.02059\n",
            "95/95 [==============================] - 1s 6ms/step - loss: 0.0076 - val_loss: 0.0221\n",
            "Epoch 6/50\n",
            "91/95 [===========================>..] - ETA: 0s - loss: 0.0076\n",
            "Epoch 6: val_loss did not improve from 0.02059\n",
            "95/95 [==============================] - 0s 5ms/step - loss: 0.0081 - val_loss: 0.0226\n",
            "Epoch 7/50\n",
            "91/95 [===========================>..] - ETA: 0s - loss: 0.0078\n",
            "Epoch 7: val_loss did not improve from 0.02059\n",
            "95/95 [==============================] - 0s 4ms/step - loss: 0.0078 - val_loss: 0.0208\n",
            "Epoch 7: early stopping\n"
          ]
        }
      ]
    },
    {
      "cell_type": "code",
      "source": [],
      "metadata": {
        "id": "fImTMo6IAlwl"
      },
      "execution_count": null,
      "outputs": []
    },
    {
      "cell_type": "markdown",
      "source": [
        "Değerlendirme"
      ],
      "metadata": {
        "id": "L8nl676oBelH"
      }
    },
    {
      "cell_type": "code",
      "source": [
        "loss=model.evaluate(X_test,y_test,batch_size=1)\n",
        "print(100*loss)"
      ],
      "metadata": {
        "colab": {
          "base_uri": "https://localhost:8080/"
        },
        "id": "kl_fkue7Bgfx",
        "outputId": "e869dc62-75f8-40dc-fb81-7be0937f69f0"
      },
      "execution_count": null,
      "outputs": [
        {
          "output_type": "stream",
          "name": "stdout",
          "text": [
            "47/47 [==============================] - 0s 2ms/step - loss: 0.0208\n",
            "2.084982208907604\n"
          ]
        }
      ]
    },
    {
      "cell_type": "code",
      "source": [
        "train_predict=model.predict(X_train)"
      ],
      "metadata": {
        "colab": {
          "base_uri": "https://localhost:8080/"
        },
        "id": "Sl-9N1m9BhhJ",
        "outputId": "c9826d65-3aac-425c-c126-a8d0e885d506"
      },
      "execution_count": null,
      "outputs": [
        {
          "output_type": "stream",
          "name": "stdout",
          "text": [
            "3/3 [==============================] - 1s 4ms/step\n"
          ]
        }
      ]
    },
    {
      "cell_type": "code",
      "source": [
        "test_predict=model.predict(X_test)"
      ],
      "metadata": {
        "colab": {
          "base_uri": "https://localhost:8080/"
        },
        "id": "RbGgJ0hvBhjb",
        "outputId": "4603fdcb-26d7-4ecc-f644-d8ad01825088"
      },
      "execution_count": null,
      "outputs": [
        {
          "output_type": "stream",
          "name": "stdout",
          "text": [
            "2/2 [==============================] - 0s 7ms/step\n"
          ]
        }
      ]
    },
    {
      "cell_type": "code",
      "source": [
        "train_predict=scaler_train.inverse_transform(train_predict)\n",
        "test_predict=scaler_train.inverse_transform(test_predict)"
      ],
      "metadata": {
        "id": "0vwSe_xrBhlz"
      },
      "execution_count": null,
      "outputs": []
    },
    {
      "cell_type": "code",
      "source": [
        "y_train=scaler_train.inverse_transform(y_train)\n",
        "y_test=scaler_train.inverse_transform(y_test)"
      ],
      "metadata": {
        "id": "ePkjxp_bBhoL"
      },
      "execution_count": null,
      "outputs": []
    },
    {
      "cell_type": "code",
      "source": [
        "train_rmse=np.sqrt(mean_squared_error(y_train,train_predict))"
      ],
      "metadata": {
        "id": "ZuvEdzt8BhrB"
      },
      "execution_count": null,
      "outputs": []
    },
    {
      "cell_type": "code",
      "source": [
        "test_rmse=np.sqrt(mean_squared_error(y_test,test_predict))"
      ],
      "metadata": {
        "id": "8MpLYH4QBhto"
      },
      "execution_count": null,
      "outputs": []
    },
    {
      "cell_type": "code",
      "source": [
        "print(f\"Train RMSE: {train_rmse}\")\n",
        "print(f\"Test RMSE: {test_rmse}\")"
      ],
      "metadata": {
        "colab": {
          "base_uri": "https://localhost:8080/"
        },
        "id": "qn5UbdhXBhwj",
        "outputId": "fa3ec200-05c8-4ef4-bd34-a184296e8fbb"
      },
      "execution_count": null,
      "outputs": [
        {
          "output_type": "stream",
          "name": "stdout",
          "text": [
            "Train RMSE: 14030370816.0\n",
            "Test RMSE: 46.35068893432617\n"
          ]
        }
      ]
    },
    {
      "cell_type": "code",
      "source": [
        "# Bir hata var."
      ],
      "metadata": {
        "id": "wMDL456ZBhzF"
      },
      "execution_count": null,
      "outputs": []
    },
    {
      "cell_type": "code",
      "source": [],
      "metadata": {
        "id": "GmYQxb_eBh2L"
      },
      "execution_count": null,
      "outputs": []
    },
    {
      "cell_type": "code",
      "source": [],
      "metadata": {
        "id": "9KBg36dbBh40"
      },
      "execution_count": null,
      "outputs": []
    },
    {
      "cell_type": "code",
      "source": [],
      "metadata": {
        "id": "HW_7JHzPBh7c"
      },
      "execution_count": null,
      "outputs": []
    },
    {
      "cell_type": "code",
      "source": [],
      "metadata": {
        "id": "50go49qBBh-S"
      },
      "execution_count": null,
      "outputs": []
    },
    {
      "cell_type": "markdown",
      "source": [
        "LSTM"
      ],
      "metadata": {
        "id": "AERPyYzwOBG6"
      }
    },
    {
      "cell_type": "markdown",
      "source": [
        "Hisse Senedi Fiyat Tahminlemesi"
      ],
      "metadata": {
        "id": "N_7028KhTl4v"
      }
    },
    {
      "cell_type": "code",
      "source": [
        "# Veriyi okuma ve işleme adımında kullanılacak olan kütüphaneler:\n",
        "import numpy as np \n",
        "import pandas as pd\n",
        "import datetime as dt \n",
        "import tensorflow as tf \n",
        "import matplotlib.pyplot as plt \n",
        "\n",
        "# Model değerlendirme ve veriyi scale edebilmemiz için kullanılacak olan kütüphaneler:\n",
        "from sklearn.preprocessing import MinMaxScaler\n",
        "from sklearn.metrics import mean_squared_error\n",
        "\n",
        "# Model için kullanılacak olan kütüphaneler:\n",
        "from tensorflow.keras.models import Sequential\n",
        "from tensorflow.keras.layers import Dense, LSTM, Dropout\n",
        "from tensorflow.keras.callbacks import ModelCheckpoint, EarlyStopping\n",
        "\n",
        "# Warningleri kapatmak için:\n",
        "import warnings\n",
        "warnings.filterwarnings('ignore')\n",
        "\n",
        "# Tensorflow Warning Engelleme\n",
        "import os\n",
        "os.environ[\"TF_CPP_MIN_LOG_LEVEL\"]=\"3\"\n",
        "tf.compat.v1.logging.set_verbosity(tf.compat.v1.logging.ERROR)"
      ],
      "metadata": {
        "id": "SKKfM6KKBiA4"
      },
      "execution_count": null,
      "outputs": []
    },
    {
      "cell_type": "code",
      "source": [
        "df=pd.read_csv(\"TSLA.csv\")"
      ],
      "metadata": {
        "id": "DaECjyZ1OFZG"
      },
      "execution_count": null,
      "outputs": []
    },
    {
      "cell_type": "code",
      "source": [
        "df.head()"
      ],
      "metadata": {
        "colab": {
          "base_uri": "https://localhost:8080/",
          "height": 206
        },
        "id": "URXeBZixOFaK",
        "outputId": "b66ff2a5-7d8b-46a2-e327-f742f047006f"
      },
      "execution_count": null,
      "outputs": [
        {
          "output_type": "execute_result",
          "data": {
            "text/plain": [
              "         Date       Open   High        Low      Close  Adj Close    Volume\n",
              "0  2010-06-29  19.000000  25.00  17.540001  23.889999  23.889999  18766300\n",
              "1  2010-06-30  25.790001  30.42  23.299999  23.830000  23.830000  17187100\n",
              "2  2010-07-01  25.000000  25.92  20.270000  21.959999  21.959999   8218800\n",
              "3  2010-07-02  23.000000  23.10  18.709999  19.200001  19.200001   5139800\n",
              "4  2010-07-06  20.000000  20.00  15.830000  16.110001  16.110001   6866900"
            ],
            "text/html": [
              "\n",
              "  <div id=\"df-f3372279-ffca-43bf-a69e-6e1276e5d2da\">\n",
              "    <div class=\"colab-df-container\">\n",
              "      <div>\n",
              "<style scoped>\n",
              "    .dataframe tbody tr th:only-of-type {\n",
              "        vertical-align: middle;\n",
              "    }\n",
              "\n",
              "    .dataframe tbody tr th {\n",
              "        vertical-align: top;\n",
              "    }\n",
              "\n",
              "    .dataframe thead th {\n",
              "        text-align: right;\n",
              "    }\n",
              "</style>\n",
              "<table border=\"1\" class=\"dataframe\">\n",
              "  <thead>\n",
              "    <tr style=\"text-align: right;\">\n",
              "      <th></th>\n",
              "      <th>Date</th>\n",
              "      <th>Open</th>\n",
              "      <th>High</th>\n",
              "      <th>Low</th>\n",
              "      <th>Close</th>\n",
              "      <th>Adj Close</th>\n",
              "      <th>Volume</th>\n",
              "    </tr>\n",
              "  </thead>\n",
              "  <tbody>\n",
              "    <tr>\n",
              "      <th>0</th>\n",
              "      <td>2010-06-29</td>\n",
              "      <td>19.000000</td>\n",
              "      <td>25.00</td>\n",
              "      <td>17.540001</td>\n",
              "      <td>23.889999</td>\n",
              "      <td>23.889999</td>\n",
              "      <td>18766300</td>\n",
              "    </tr>\n",
              "    <tr>\n",
              "      <th>1</th>\n",
              "      <td>2010-06-30</td>\n",
              "      <td>25.790001</td>\n",
              "      <td>30.42</td>\n",
              "      <td>23.299999</td>\n",
              "      <td>23.830000</td>\n",
              "      <td>23.830000</td>\n",
              "      <td>17187100</td>\n",
              "    </tr>\n",
              "    <tr>\n",
              "      <th>2</th>\n",
              "      <td>2010-07-01</td>\n",
              "      <td>25.000000</td>\n",
              "      <td>25.92</td>\n",
              "      <td>20.270000</td>\n",
              "      <td>21.959999</td>\n",
              "      <td>21.959999</td>\n",
              "      <td>8218800</td>\n",
              "    </tr>\n",
              "    <tr>\n",
              "      <th>3</th>\n",
              "      <td>2010-07-02</td>\n",
              "      <td>23.000000</td>\n",
              "      <td>23.10</td>\n",
              "      <td>18.709999</td>\n",
              "      <td>19.200001</td>\n",
              "      <td>19.200001</td>\n",
              "      <td>5139800</td>\n",
              "    </tr>\n",
              "    <tr>\n",
              "      <th>4</th>\n",
              "      <td>2010-07-06</td>\n",
              "      <td>20.000000</td>\n",
              "      <td>20.00</td>\n",
              "      <td>15.830000</td>\n",
              "      <td>16.110001</td>\n",
              "      <td>16.110001</td>\n",
              "      <td>6866900</td>\n",
              "    </tr>\n",
              "  </tbody>\n",
              "</table>\n",
              "</div>\n",
              "      <button class=\"colab-df-convert\" onclick=\"convertToInteractive('df-f3372279-ffca-43bf-a69e-6e1276e5d2da')\"\n",
              "              title=\"Convert this dataframe to an interactive table.\"\n",
              "              style=\"display:none;\">\n",
              "        \n",
              "  <svg xmlns=\"http://www.w3.org/2000/svg\" height=\"24px\"viewBox=\"0 0 24 24\"\n",
              "       width=\"24px\">\n",
              "    <path d=\"M0 0h24v24H0V0z\" fill=\"none\"/>\n",
              "    <path d=\"M18.56 5.44l.94 2.06.94-2.06 2.06-.94-2.06-.94-.94-2.06-.94 2.06-2.06.94zm-11 1L8.5 8.5l.94-2.06 2.06-.94-2.06-.94L8.5 2.5l-.94 2.06-2.06.94zm10 10l.94 2.06.94-2.06 2.06-.94-2.06-.94-.94-2.06-.94 2.06-2.06.94z\"/><path d=\"M17.41 7.96l-1.37-1.37c-.4-.4-.92-.59-1.43-.59-.52 0-1.04.2-1.43.59L10.3 9.45l-7.72 7.72c-.78.78-.78 2.05 0 2.83L4 21.41c.39.39.9.59 1.41.59.51 0 1.02-.2 1.41-.59l7.78-7.78 2.81-2.81c.8-.78.8-2.07 0-2.86zM5.41 20L4 18.59l7.72-7.72 1.47 1.35L5.41 20z\"/>\n",
              "  </svg>\n",
              "      </button>\n",
              "      \n",
              "  <style>\n",
              "    .colab-df-container {\n",
              "      display:flex;\n",
              "      flex-wrap:wrap;\n",
              "      gap: 12px;\n",
              "    }\n",
              "\n",
              "    .colab-df-convert {\n",
              "      background-color: #E8F0FE;\n",
              "      border: none;\n",
              "      border-radius: 50%;\n",
              "      cursor: pointer;\n",
              "      display: none;\n",
              "      fill: #1967D2;\n",
              "      height: 32px;\n",
              "      padding: 0 0 0 0;\n",
              "      width: 32px;\n",
              "    }\n",
              "\n",
              "    .colab-df-convert:hover {\n",
              "      background-color: #E2EBFA;\n",
              "      box-shadow: 0px 1px 2px rgba(60, 64, 67, 0.3), 0px 1px 3px 1px rgba(60, 64, 67, 0.15);\n",
              "      fill: #174EA6;\n",
              "    }\n",
              "\n",
              "    [theme=dark] .colab-df-convert {\n",
              "      background-color: #3B4455;\n",
              "      fill: #D2E3FC;\n",
              "    }\n",
              "\n",
              "    [theme=dark] .colab-df-convert:hover {\n",
              "      background-color: #434B5C;\n",
              "      box-shadow: 0px 1px 3px 1px rgba(0, 0, 0, 0.15);\n",
              "      filter: drop-shadow(0px 1px 2px rgba(0, 0, 0, 0.3));\n",
              "      fill: #FFFFFF;\n",
              "    }\n",
              "  </style>\n",
              "\n",
              "      <script>\n",
              "        const buttonEl =\n",
              "          document.querySelector('#df-f3372279-ffca-43bf-a69e-6e1276e5d2da button.colab-df-convert');\n",
              "        buttonEl.style.display =\n",
              "          google.colab.kernel.accessAllowed ? 'block' : 'none';\n",
              "\n",
              "        async function convertToInteractive(key) {\n",
              "          const element = document.querySelector('#df-f3372279-ffca-43bf-a69e-6e1276e5d2da');\n",
              "          const dataTable =\n",
              "            await google.colab.kernel.invokeFunction('convertToInteractive',\n",
              "                                                     [key], {});\n",
              "          if (!dataTable) return;\n",
              "\n",
              "          const docLinkHtml = 'Like what you see? Visit the ' +\n",
              "            '<a target=\"_blank\" href=https://colab.research.google.com/notebooks/data_table.ipynb>data table notebook</a>'\n",
              "            + ' to learn more about interactive tables.';\n",
              "          element.innerHTML = '';\n",
              "          dataTable['output_type'] = 'display_data';\n",
              "          await google.colab.output.renderOutput(dataTable, element);\n",
              "          const docLink = document.createElement('div');\n",
              "          docLink.innerHTML = docLinkHtml;\n",
              "          element.appendChild(docLink);\n",
              "        }\n",
              "      </script>\n",
              "    </div>\n",
              "  </div>\n",
              "  "
            ]
          },
          "metadata": {},
          "execution_count": 15
        }
      ]
    },
    {
      "cell_type": "code",
      "source": [
        "def check_df(dataframe, head=5):\n",
        "  print(\"############### Shape ###############\")\n",
        "  print(dataframe.shape)\n",
        "  print(\"############### Types ###############\")\n",
        "  print(dataframe.dtypes)\n",
        "  print(\"############### Head ###############\")\n",
        "  print(dataframe.head(head))\n",
        "  print(\"############### NA ###############\")\n",
        "  print(dataframe.isnull().sum())\n",
        "  print(\"############### Quantiles ###############\")\n",
        "  print(dataframe.quantile([0,0.05,0.50,0.95,0.99,1]).T)"
      ],
      "metadata": {
        "id": "ZISpkfExOFdS"
      },
      "execution_count": null,
      "outputs": []
    },
    {
      "cell_type": "code",
      "source": [
        "check_df(df)"
      ],
      "metadata": {
        "colab": {
          "base_uri": "https://localhost:8080/"
        },
        "id": "jTk_iAdUOFgM",
        "outputId": "8d9b63cc-f7dc-40e9-de4f-df263868d372"
      },
      "execution_count": null,
      "outputs": [
        {
          "output_type": "stream",
          "name": "stdout",
          "text": [
            "############### Shape ###############\n",
            "(2416, 7)\n",
            "############### Types ###############\n",
            "Date          object\n",
            "Open         float64\n",
            "High         float64\n",
            "Low          float64\n",
            "Close        float64\n",
            "Adj Close    float64\n",
            "Volume         int64\n",
            "dtype: object\n",
            "############### Head ###############\n",
            "         Date       Open   High        Low      Close  Adj Close    Volume\n",
            "0  2010-06-29  19.000000  25.00  17.540001  23.889999  23.889999  18766300\n",
            "1  2010-06-30  25.790001  30.42  23.299999  23.830000  23.830000  17187100\n",
            "2  2010-07-01  25.000000  25.92  20.270000  21.959999  21.959999   8218800\n",
            "3  2010-07-02  23.000000  23.10  18.709999  19.200001  19.200001   5139800\n",
            "4  2010-07-06  20.000000  20.00  15.830000  16.110001  16.110001   6866900\n",
            "############### NA ###############\n",
            "Date         0\n",
            "Open         0\n",
            "High         0\n",
            "Low          0\n",
            "Close        0\n",
            "Adj Close    0\n",
            "Volume       0\n",
            "dtype: int64\n",
            "############### Quantiles ###############\n",
            "                    0.00           0.05          0.50          0.95  \\\n",
            "Open           16.139999      23.384999  2.130350e+02  3.519100e+02   \n",
            "High           16.629999      24.022501  2.167450e+02  3.567500e+02   \n",
            "Low            14.980000      22.867499  2.088700e+02  3.460250e+02   \n",
            "Close          15.800000      23.565000  2.129600e+02  3.511675e+02   \n",
            "Adj Close      15.800000      23.565000  2.129600e+02  3.511675e+02   \n",
            "Volume     118500.000000  633825.000000  4.578400e+06  1.476090e+07   \n",
            "\n",
            "                   0.99          1.00  \n",
            "Open       4.235790e+02  6.736900e+02  \n",
            "High       4.284705e+02  7.861400e+02  \n",
            "Low        4.122865e+02  6.735200e+02  \n",
            "Close      4.243455e+02  7.800000e+02  \n",
            "Adj Close  4.243455e+02  7.800000e+02  \n",
            "Volume     2.459959e+07  4.706500e+07  \n"
          ]
        }
      ]
    },
    {
      "cell_type": "code",
      "source": [
        "df[\"Date\"]=pd.to_datetime(df[\"Date\"])"
      ],
      "metadata": {
        "id": "W2kCBxpNOFjS"
      },
      "execution_count": null,
      "outputs": []
    },
    {
      "cell_type": "code",
      "source": [
        "df.head()"
      ],
      "metadata": {
        "colab": {
          "base_uri": "https://localhost:8080/",
          "height": 206
        },
        "id": "mqFfo6vzOFmJ",
        "outputId": "cf4665b9-6f8d-46d9-ae1d-e0545a184f03"
      },
      "execution_count": null,
      "outputs": [
        {
          "output_type": "execute_result",
          "data": {
            "text/plain": [
              "        Date       Open   High        Low      Close  Adj Close    Volume\n",
              "0 2010-06-29  19.000000  25.00  17.540001  23.889999  23.889999  18766300\n",
              "1 2010-06-30  25.790001  30.42  23.299999  23.830000  23.830000  17187100\n",
              "2 2010-07-01  25.000000  25.92  20.270000  21.959999  21.959999   8218800\n",
              "3 2010-07-02  23.000000  23.10  18.709999  19.200001  19.200001   5139800\n",
              "4 2010-07-06  20.000000  20.00  15.830000  16.110001  16.110001   6866900"
            ],
            "text/html": [
              "\n",
              "  <div id=\"df-1c56e965-736d-45ce-887d-15917317b3df\">\n",
              "    <div class=\"colab-df-container\">\n",
              "      <div>\n",
              "<style scoped>\n",
              "    .dataframe tbody tr th:only-of-type {\n",
              "        vertical-align: middle;\n",
              "    }\n",
              "\n",
              "    .dataframe tbody tr th {\n",
              "        vertical-align: top;\n",
              "    }\n",
              "\n",
              "    .dataframe thead th {\n",
              "        text-align: right;\n",
              "    }\n",
              "</style>\n",
              "<table border=\"1\" class=\"dataframe\">\n",
              "  <thead>\n",
              "    <tr style=\"text-align: right;\">\n",
              "      <th></th>\n",
              "      <th>Date</th>\n",
              "      <th>Open</th>\n",
              "      <th>High</th>\n",
              "      <th>Low</th>\n",
              "      <th>Close</th>\n",
              "      <th>Adj Close</th>\n",
              "      <th>Volume</th>\n",
              "    </tr>\n",
              "  </thead>\n",
              "  <tbody>\n",
              "    <tr>\n",
              "      <th>0</th>\n",
              "      <td>2010-06-29</td>\n",
              "      <td>19.000000</td>\n",
              "      <td>25.00</td>\n",
              "      <td>17.540001</td>\n",
              "      <td>23.889999</td>\n",
              "      <td>23.889999</td>\n",
              "      <td>18766300</td>\n",
              "    </tr>\n",
              "    <tr>\n",
              "      <th>1</th>\n",
              "      <td>2010-06-30</td>\n",
              "      <td>25.790001</td>\n",
              "      <td>30.42</td>\n",
              "      <td>23.299999</td>\n",
              "      <td>23.830000</td>\n",
              "      <td>23.830000</td>\n",
              "      <td>17187100</td>\n",
              "    </tr>\n",
              "    <tr>\n",
              "      <th>2</th>\n",
              "      <td>2010-07-01</td>\n",
              "      <td>25.000000</td>\n",
              "      <td>25.92</td>\n",
              "      <td>20.270000</td>\n",
              "      <td>21.959999</td>\n",
              "      <td>21.959999</td>\n",
              "      <td>8218800</td>\n",
              "    </tr>\n",
              "    <tr>\n",
              "      <th>3</th>\n",
              "      <td>2010-07-02</td>\n",
              "      <td>23.000000</td>\n",
              "      <td>23.10</td>\n",
              "      <td>18.709999</td>\n",
              "      <td>19.200001</td>\n",
              "      <td>19.200001</td>\n",
              "      <td>5139800</td>\n",
              "    </tr>\n",
              "    <tr>\n",
              "      <th>4</th>\n",
              "      <td>2010-07-06</td>\n",
              "      <td>20.000000</td>\n",
              "      <td>20.00</td>\n",
              "      <td>15.830000</td>\n",
              "      <td>16.110001</td>\n",
              "      <td>16.110001</td>\n",
              "      <td>6866900</td>\n",
              "    </tr>\n",
              "  </tbody>\n",
              "</table>\n",
              "</div>\n",
              "      <button class=\"colab-df-convert\" onclick=\"convertToInteractive('df-1c56e965-736d-45ce-887d-15917317b3df')\"\n",
              "              title=\"Convert this dataframe to an interactive table.\"\n",
              "              style=\"display:none;\">\n",
              "        \n",
              "  <svg xmlns=\"http://www.w3.org/2000/svg\" height=\"24px\"viewBox=\"0 0 24 24\"\n",
              "       width=\"24px\">\n",
              "    <path d=\"M0 0h24v24H0V0z\" fill=\"none\"/>\n",
              "    <path d=\"M18.56 5.44l.94 2.06.94-2.06 2.06-.94-2.06-.94-.94-2.06-.94 2.06-2.06.94zm-11 1L8.5 8.5l.94-2.06 2.06-.94-2.06-.94L8.5 2.5l-.94 2.06-2.06.94zm10 10l.94 2.06.94-2.06 2.06-.94-2.06-.94-.94-2.06-.94 2.06-2.06.94z\"/><path d=\"M17.41 7.96l-1.37-1.37c-.4-.4-.92-.59-1.43-.59-.52 0-1.04.2-1.43.59L10.3 9.45l-7.72 7.72c-.78.78-.78 2.05 0 2.83L4 21.41c.39.39.9.59 1.41.59.51 0 1.02-.2 1.41-.59l7.78-7.78 2.81-2.81c.8-.78.8-2.07 0-2.86zM5.41 20L4 18.59l7.72-7.72 1.47 1.35L5.41 20z\"/>\n",
              "  </svg>\n",
              "      </button>\n",
              "      \n",
              "  <style>\n",
              "    .colab-df-container {\n",
              "      display:flex;\n",
              "      flex-wrap:wrap;\n",
              "      gap: 12px;\n",
              "    }\n",
              "\n",
              "    .colab-df-convert {\n",
              "      background-color: #E8F0FE;\n",
              "      border: none;\n",
              "      border-radius: 50%;\n",
              "      cursor: pointer;\n",
              "      display: none;\n",
              "      fill: #1967D2;\n",
              "      height: 32px;\n",
              "      padding: 0 0 0 0;\n",
              "      width: 32px;\n",
              "    }\n",
              "\n",
              "    .colab-df-convert:hover {\n",
              "      background-color: #E2EBFA;\n",
              "      box-shadow: 0px 1px 2px rgba(60, 64, 67, 0.3), 0px 1px 3px 1px rgba(60, 64, 67, 0.15);\n",
              "      fill: #174EA6;\n",
              "    }\n",
              "\n",
              "    [theme=dark] .colab-df-convert {\n",
              "      background-color: #3B4455;\n",
              "      fill: #D2E3FC;\n",
              "    }\n",
              "\n",
              "    [theme=dark] .colab-df-convert:hover {\n",
              "      background-color: #434B5C;\n",
              "      box-shadow: 0px 1px 3px 1px rgba(0, 0, 0, 0.15);\n",
              "      filter: drop-shadow(0px 1px 2px rgba(0, 0, 0, 0.3));\n",
              "      fill: #FFFFFF;\n",
              "    }\n",
              "  </style>\n",
              "\n",
              "      <script>\n",
              "        const buttonEl =\n",
              "          document.querySelector('#df-1c56e965-736d-45ce-887d-15917317b3df button.colab-df-convert');\n",
              "        buttonEl.style.display =\n",
              "          google.colab.kernel.accessAllowed ? 'block' : 'none';\n",
              "\n",
              "        async function convertToInteractive(key) {\n",
              "          const element = document.querySelector('#df-1c56e965-736d-45ce-887d-15917317b3df');\n",
              "          const dataTable =\n",
              "            await google.colab.kernel.invokeFunction('convertToInteractive',\n",
              "                                                     [key], {});\n",
              "          if (!dataTable) return;\n",
              "\n",
              "          const docLinkHtml = 'Like what you see? Visit the ' +\n",
              "            '<a target=\"_blank\" href=https://colab.research.google.com/notebooks/data_table.ipynb>data table notebook</a>'\n",
              "            + ' to learn more about interactive tables.';\n",
              "          element.innerHTML = '';\n",
              "          dataTable['output_type'] = 'display_data';\n",
              "          await google.colab.output.renderOutput(dataTable, element);\n",
              "          const docLink = document.createElement('div');\n",
              "          docLink.innerHTML = docLinkHtml;\n",
              "          element.appendChild(docLink);\n",
              "        }\n",
              "      </script>\n",
              "    </div>\n",
              "  </div>\n",
              "  "
            ]
          },
          "metadata": {},
          "execution_count": 19
        }
      ]
    },
    {
      "cell_type": "code",
      "source": [
        "tesla_df=df[[\"Date\",\"Close\"]]"
      ],
      "metadata": {
        "id": "Hgstjx4WOFpS"
      },
      "execution_count": null,
      "outputs": []
    },
    {
      "cell_type": "code",
      "source": [
        "tesla_df.head()"
      ],
      "metadata": {
        "colab": {
          "base_uri": "https://localhost:8080/",
          "height": 206
        },
        "id": "iya0_hC8OFr4",
        "outputId": "00a5fd4e-6604-4060-e178-417257bb23f2"
      },
      "execution_count": null,
      "outputs": [
        {
          "output_type": "execute_result",
          "data": {
            "text/plain": [
              "        Date      Close\n",
              "0 2010-06-29  23.889999\n",
              "1 2010-06-30  23.830000\n",
              "2 2010-07-01  21.959999\n",
              "3 2010-07-02  19.200001\n",
              "4 2010-07-06  16.110001"
            ],
            "text/html": [
              "\n",
              "  <div id=\"df-cd7604ec-8e2e-46fa-99e9-d45c2abe8957\">\n",
              "    <div class=\"colab-df-container\">\n",
              "      <div>\n",
              "<style scoped>\n",
              "    .dataframe tbody tr th:only-of-type {\n",
              "        vertical-align: middle;\n",
              "    }\n",
              "\n",
              "    .dataframe tbody tr th {\n",
              "        vertical-align: top;\n",
              "    }\n",
              "\n",
              "    .dataframe thead th {\n",
              "        text-align: right;\n",
              "    }\n",
              "</style>\n",
              "<table border=\"1\" class=\"dataframe\">\n",
              "  <thead>\n",
              "    <tr style=\"text-align: right;\">\n",
              "      <th></th>\n",
              "      <th>Date</th>\n",
              "      <th>Close</th>\n",
              "    </tr>\n",
              "  </thead>\n",
              "  <tbody>\n",
              "    <tr>\n",
              "      <th>0</th>\n",
              "      <td>2010-06-29</td>\n",
              "      <td>23.889999</td>\n",
              "    </tr>\n",
              "    <tr>\n",
              "      <th>1</th>\n",
              "      <td>2010-06-30</td>\n",
              "      <td>23.830000</td>\n",
              "    </tr>\n",
              "    <tr>\n",
              "      <th>2</th>\n",
              "      <td>2010-07-01</td>\n",
              "      <td>21.959999</td>\n",
              "    </tr>\n",
              "    <tr>\n",
              "      <th>3</th>\n",
              "      <td>2010-07-02</td>\n",
              "      <td>19.200001</td>\n",
              "    </tr>\n",
              "    <tr>\n",
              "      <th>4</th>\n",
              "      <td>2010-07-06</td>\n",
              "      <td>16.110001</td>\n",
              "    </tr>\n",
              "  </tbody>\n",
              "</table>\n",
              "</div>\n",
              "      <button class=\"colab-df-convert\" onclick=\"convertToInteractive('df-cd7604ec-8e2e-46fa-99e9-d45c2abe8957')\"\n",
              "              title=\"Convert this dataframe to an interactive table.\"\n",
              "              style=\"display:none;\">\n",
              "        \n",
              "  <svg xmlns=\"http://www.w3.org/2000/svg\" height=\"24px\"viewBox=\"0 0 24 24\"\n",
              "       width=\"24px\">\n",
              "    <path d=\"M0 0h24v24H0V0z\" fill=\"none\"/>\n",
              "    <path d=\"M18.56 5.44l.94 2.06.94-2.06 2.06-.94-2.06-.94-.94-2.06-.94 2.06-2.06.94zm-11 1L8.5 8.5l.94-2.06 2.06-.94-2.06-.94L8.5 2.5l-.94 2.06-2.06.94zm10 10l.94 2.06.94-2.06 2.06-.94-2.06-.94-.94-2.06-.94 2.06-2.06.94z\"/><path d=\"M17.41 7.96l-1.37-1.37c-.4-.4-.92-.59-1.43-.59-.52 0-1.04.2-1.43.59L10.3 9.45l-7.72 7.72c-.78.78-.78 2.05 0 2.83L4 21.41c.39.39.9.59 1.41.59.51 0 1.02-.2 1.41-.59l7.78-7.78 2.81-2.81c.8-.78.8-2.07 0-2.86zM5.41 20L4 18.59l7.72-7.72 1.47 1.35L5.41 20z\"/>\n",
              "  </svg>\n",
              "      </button>\n",
              "      \n",
              "  <style>\n",
              "    .colab-df-container {\n",
              "      display:flex;\n",
              "      flex-wrap:wrap;\n",
              "      gap: 12px;\n",
              "    }\n",
              "\n",
              "    .colab-df-convert {\n",
              "      background-color: #E8F0FE;\n",
              "      border: none;\n",
              "      border-radius: 50%;\n",
              "      cursor: pointer;\n",
              "      display: none;\n",
              "      fill: #1967D2;\n",
              "      height: 32px;\n",
              "      padding: 0 0 0 0;\n",
              "      width: 32px;\n",
              "    }\n",
              "\n",
              "    .colab-df-convert:hover {\n",
              "      background-color: #E2EBFA;\n",
              "      box-shadow: 0px 1px 2px rgba(60, 64, 67, 0.3), 0px 1px 3px 1px rgba(60, 64, 67, 0.15);\n",
              "      fill: #174EA6;\n",
              "    }\n",
              "\n",
              "    [theme=dark] .colab-df-convert {\n",
              "      background-color: #3B4455;\n",
              "      fill: #D2E3FC;\n",
              "    }\n",
              "\n",
              "    [theme=dark] .colab-df-convert:hover {\n",
              "      background-color: #434B5C;\n",
              "      box-shadow: 0px 1px 3px 1px rgba(0, 0, 0, 0.15);\n",
              "      filter: drop-shadow(0px 1px 2px rgba(0, 0, 0, 0.3));\n",
              "      fill: #FFFFFF;\n",
              "    }\n",
              "  </style>\n",
              "\n",
              "      <script>\n",
              "        const buttonEl =\n",
              "          document.querySelector('#df-cd7604ec-8e2e-46fa-99e9-d45c2abe8957 button.colab-df-convert');\n",
              "        buttonEl.style.display =\n",
              "          google.colab.kernel.accessAllowed ? 'block' : 'none';\n",
              "\n",
              "        async function convertToInteractive(key) {\n",
              "          const element = document.querySelector('#df-cd7604ec-8e2e-46fa-99e9-d45c2abe8957');\n",
              "          const dataTable =\n",
              "            await google.colab.kernel.invokeFunction('convertToInteractive',\n",
              "                                                     [key], {});\n",
              "          if (!dataTable) return;\n",
              "\n",
              "          const docLinkHtml = 'Like what you see? Visit the ' +\n",
              "            '<a target=\"_blank\" href=https://colab.research.google.com/notebooks/data_table.ipynb>data table notebook</a>'\n",
              "            + ' to learn more about interactive tables.';\n",
              "          element.innerHTML = '';\n",
              "          dataTable['output_type'] = 'display_data';\n",
              "          await google.colab.output.renderOutput(dataTable, element);\n",
              "          const docLink = document.createElement('div');\n",
              "          docLink.innerHTML = docLinkHtml;\n",
              "          element.appendChild(docLink);\n",
              "        }\n",
              "      </script>\n",
              "    </div>\n",
              "  </div>\n",
              "  "
            ]
          },
          "metadata": {},
          "execution_count": 21
        }
      ]
    },
    {
      "cell_type": "code",
      "source": [
        "tesla_df.index=tesla_df[\"Date\"]"
      ],
      "metadata": {
        "id": "CAonaLl_OFuv"
      },
      "execution_count": null,
      "outputs": []
    },
    {
      "cell_type": "code",
      "source": [
        "tesla_df.head()"
      ],
      "metadata": {
        "colab": {
          "base_uri": "https://localhost:8080/",
          "height": 238
        },
        "id": "DHV4EdhdOFxn",
        "outputId": "6deb5b7f-55d6-49b8-cea5-4efa3ad4c58c"
      },
      "execution_count": null,
      "outputs": [
        {
          "output_type": "execute_result",
          "data": {
            "text/plain": [
              "                 Date      Close\n",
              "Date                            \n",
              "2010-06-29 2010-06-29  23.889999\n",
              "2010-06-30 2010-06-30  23.830000\n",
              "2010-07-01 2010-07-01  21.959999\n",
              "2010-07-02 2010-07-02  19.200001\n",
              "2010-07-06 2010-07-06  16.110001"
            ],
            "text/html": [
              "\n",
              "  <div id=\"df-b0b864bf-fd85-45df-a1a5-7c1d77a5ebbe\">\n",
              "    <div class=\"colab-df-container\">\n",
              "      <div>\n",
              "<style scoped>\n",
              "    .dataframe tbody tr th:only-of-type {\n",
              "        vertical-align: middle;\n",
              "    }\n",
              "\n",
              "    .dataframe tbody tr th {\n",
              "        vertical-align: top;\n",
              "    }\n",
              "\n",
              "    .dataframe thead th {\n",
              "        text-align: right;\n",
              "    }\n",
              "</style>\n",
              "<table border=\"1\" class=\"dataframe\">\n",
              "  <thead>\n",
              "    <tr style=\"text-align: right;\">\n",
              "      <th></th>\n",
              "      <th>Date</th>\n",
              "      <th>Close</th>\n",
              "    </tr>\n",
              "    <tr>\n",
              "      <th>Date</th>\n",
              "      <th></th>\n",
              "      <th></th>\n",
              "    </tr>\n",
              "  </thead>\n",
              "  <tbody>\n",
              "    <tr>\n",
              "      <th>2010-06-29</th>\n",
              "      <td>2010-06-29</td>\n",
              "      <td>23.889999</td>\n",
              "    </tr>\n",
              "    <tr>\n",
              "      <th>2010-06-30</th>\n",
              "      <td>2010-06-30</td>\n",
              "      <td>23.830000</td>\n",
              "    </tr>\n",
              "    <tr>\n",
              "      <th>2010-07-01</th>\n",
              "      <td>2010-07-01</td>\n",
              "      <td>21.959999</td>\n",
              "    </tr>\n",
              "    <tr>\n",
              "      <th>2010-07-02</th>\n",
              "      <td>2010-07-02</td>\n",
              "      <td>19.200001</td>\n",
              "    </tr>\n",
              "    <tr>\n",
              "      <th>2010-07-06</th>\n",
              "      <td>2010-07-06</td>\n",
              "      <td>16.110001</td>\n",
              "    </tr>\n",
              "  </tbody>\n",
              "</table>\n",
              "</div>\n",
              "      <button class=\"colab-df-convert\" onclick=\"convertToInteractive('df-b0b864bf-fd85-45df-a1a5-7c1d77a5ebbe')\"\n",
              "              title=\"Convert this dataframe to an interactive table.\"\n",
              "              style=\"display:none;\">\n",
              "        \n",
              "  <svg xmlns=\"http://www.w3.org/2000/svg\" height=\"24px\"viewBox=\"0 0 24 24\"\n",
              "       width=\"24px\">\n",
              "    <path d=\"M0 0h24v24H0V0z\" fill=\"none\"/>\n",
              "    <path d=\"M18.56 5.44l.94 2.06.94-2.06 2.06-.94-2.06-.94-.94-2.06-.94 2.06-2.06.94zm-11 1L8.5 8.5l.94-2.06 2.06-.94-2.06-.94L8.5 2.5l-.94 2.06-2.06.94zm10 10l.94 2.06.94-2.06 2.06-.94-2.06-.94-.94-2.06-.94 2.06-2.06.94z\"/><path d=\"M17.41 7.96l-1.37-1.37c-.4-.4-.92-.59-1.43-.59-.52 0-1.04.2-1.43.59L10.3 9.45l-7.72 7.72c-.78.78-.78 2.05 0 2.83L4 21.41c.39.39.9.59 1.41.59.51 0 1.02-.2 1.41-.59l7.78-7.78 2.81-2.81c.8-.78.8-2.07 0-2.86zM5.41 20L4 18.59l7.72-7.72 1.47 1.35L5.41 20z\"/>\n",
              "  </svg>\n",
              "      </button>\n",
              "      \n",
              "  <style>\n",
              "    .colab-df-container {\n",
              "      display:flex;\n",
              "      flex-wrap:wrap;\n",
              "      gap: 12px;\n",
              "    }\n",
              "\n",
              "    .colab-df-convert {\n",
              "      background-color: #E8F0FE;\n",
              "      border: none;\n",
              "      border-radius: 50%;\n",
              "      cursor: pointer;\n",
              "      display: none;\n",
              "      fill: #1967D2;\n",
              "      height: 32px;\n",
              "      padding: 0 0 0 0;\n",
              "      width: 32px;\n",
              "    }\n",
              "\n",
              "    .colab-df-convert:hover {\n",
              "      background-color: #E2EBFA;\n",
              "      box-shadow: 0px 1px 2px rgba(60, 64, 67, 0.3), 0px 1px 3px 1px rgba(60, 64, 67, 0.15);\n",
              "      fill: #174EA6;\n",
              "    }\n",
              "\n",
              "    [theme=dark] .colab-df-convert {\n",
              "      background-color: #3B4455;\n",
              "      fill: #D2E3FC;\n",
              "    }\n",
              "\n",
              "    [theme=dark] .colab-df-convert:hover {\n",
              "      background-color: #434B5C;\n",
              "      box-shadow: 0px 1px 3px 1px rgba(0, 0, 0, 0.15);\n",
              "      filter: drop-shadow(0px 1px 2px rgba(0, 0, 0, 0.3));\n",
              "      fill: #FFFFFF;\n",
              "    }\n",
              "  </style>\n",
              "\n",
              "      <script>\n",
              "        const buttonEl =\n",
              "          document.querySelector('#df-b0b864bf-fd85-45df-a1a5-7c1d77a5ebbe button.colab-df-convert');\n",
              "        buttonEl.style.display =\n",
              "          google.colab.kernel.accessAllowed ? 'block' : 'none';\n",
              "\n",
              "        async function convertToInteractive(key) {\n",
              "          const element = document.querySelector('#df-b0b864bf-fd85-45df-a1a5-7c1d77a5ebbe');\n",
              "          const dataTable =\n",
              "            await google.colab.kernel.invokeFunction('convertToInteractive',\n",
              "                                                     [key], {});\n",
              "          if (!dataTable) return;\n",
              "\n",
              "          const docLinkHtml = 'Like what you see? Visit the ' +\n",
              "            '<a target=\"_blank\" href=https://colab.research.google.com/notebooks/data_table.ipynb>data table notebook</a>'\n",
              "            + ' to learn more about interactive tables.';\n",
              "          element.innerHTML = '';\n",
              "          dataTable['output_type'] = 'display_data';\n",
              "          await google.colab.output.renderOutput(dataTable, element);\n",
              "          const docLink = document.createElement('div');\n",
              "          docLink.innerHTML = docLinkHtml;\n",
              "          element.appendChild(docLink);\n",
              "        }\n",
              "      </script>\n",
              "    </div>\n",
              "  </div>\n",
              "  "
            ]
          },
          "metadata": {},
          "execution_count": 23
        }
      ]
    },
    {
      "cell_type": "code",
      "source": [
        "tesla_df.drop(\"Date\",axis=1,inplace=True)"
      ],
      "metadata": {
        "id": "tiQZpF_lOF0d"
      },
      "execution_count": null,
      "outputs": []
    },
    {
      "cell_type": "code",
      "source": [
        "tesla_df"
      ],
      "metadata": {
        "colab": {
          "base_uri": "https://localhost:8080/",
          "height": 455
        },
        "id": "jJpKMC6VOF3m",
        "outputId": "ca197b3d-29d7-42d2-cb55-f2a78a24bf9e"
      },
      "execution_count": null,
      "outputs": [
        {
          "output_type": "execute_result",
          "data": {
            "text/plain": [
              "                 Close\n",
              "Date                  \n",
              "2010-06-29   23.889999\n",
              "2010-06-30   23.830000\n",
              "2010-07-01   21.959999\n",
              "2010-07-02   19.200001\n",
              "2010-07-06   16.110001\n",
              "...                ...\n",
              "2020-01-28  566.900024\n",
              "2020-01-29  580.989990\n",
              "2020-01-30  640.809998\n",
              "2020-01-31  650.570007\n",
              "2020-02-03  780.000000\n",
              "\n",
              "[2416 rows x 1 columns]"
            ],
            "text/html": [
              "\n",
              "  <div id=\"df-06faefb9-3e05-4f0c-8832-0b425702a3dc\">\n",
              "    <div class=\"colab-df-container\">\n",
              "      <div>\n",
              "<style scoped>\n",
              "    .dataframe tbody tr th:only-of-type {\n",
              "        vertical-align: middle;\n",
              "    }\n",
              "\n",
              "    .dataframe tbody tr th {\n",
              "        vertical-align: top;\n",
              "    }\n",
              "\n",
              "    .dataframe thead th {\n",
              "        text-align: right;\n",
              "    }\n",
              "</style>\n",
              "<table border=\"1\" class=\"dataframe\">\n",
              "  <thead>\n",
              "    <tr style=\"text-align: right;\">\n",
              "      <th></th>\n",
              "      <th>Close</th>\n",
              "    </tr>\n",
              "    <tr>\n",
              "      <th>Date</th>\n",
              "      <th></th>\n",
              "    </tr>\n",
              "  </thead>\n",
              "  <tbody>\n",
              "    <tr>\n",
              "      <th>2010-06-29</th>\n",
              "      <td>23.889999</td>\n",
              "    </tr>\n",
              "    <tr>\n",
              "      <th>2010-06-30</th>\n",
              "      <td>23.830000</td>\n",
              "    </tr>\n",
              "    <tr>\n",
              "      <th>2010-07-01</th>\n",
              "      <td>21.959999</td>\n",
              "    </tr>\n",
              "    <tr>\n",
              "      <th>2010-07-02</th>\n",
              "      <td>19.200001</td>\n",
              "    </tr>\n",
              "    <tr>\n",
              "      <th>2010-07-06</th>\n",
              "      <td>16.110001</td>\n",
              "    </tr>\n",
              "    <tr>\n",
              "      <th>...</th>\n",
              "      <td>...</td>\n",
              "    </tr>\n",
              "    <tr>\n",
              "      <th>2020-01-28</th>\n",
              "      <td>566.900024</td>\n",
              "    </tr>\n",
              "    <tr>\n",
              "      <th>2020-01-29</th>\n",
              "      <td>580.989990</td>\n",
              "    </tr>\n",
              "    <tr>\n",
              "      <th>2020-01-30</th>\n",
              "      <td>640.809998</td>\n",
              "    </tr>\n",
              "    <tr>\n",
              "      <th>2020-01-31</th>\n",
              "      <td>650.570007</td>\n",
              "    </tr>\n",
              "    <tr>\n",
              "      <th>2020-02-03</th>\n",
              "      <td>780.000000</td>\n",
              "    </tr>\n",
              "  </tbody>\n",
              "</table>\n",
              "<p>2416 rows × 1 columns</p>\n",
              "</div>\n",
              "      <button class=\"colab-df-convert\" onclick=\"convertToInteractive('df-06faefb9-3e05-4f0c-8832-0b425702a3dc')\"\n",
              "              title=\"Convert this dataframe to an interactive table.\"\n",
              "              style=\"display:none;\">\n",
              "        \n",
              "  <svg xmlns=\"http://www.w3.org/2000/svg\" height=\"24px\"viewBox=\"0 0 24 24\"\n",
              "       width=\"24px\">\n",
              "    <path d=\"M0 0h24v24H0V0z\" fill=\"none\"/>\n",
              "    <path d=\"M18.56 5.44l.94 2.06.94-2.06 2.06-.94-2.06-.94-.94-2.06-.94 2.06-2.06.94zm-11 1L8.5 8.5l.94-2.06 2.06-.94-2.06-.94L8.5 2.5l-.94 2.06-2.06.94zm10 10l.94 2.06.94-2.06 2.06-.94-2.06-.94-.94-2.06-.94 2.06-2.06.94z\"/><path d=\"M17.41 7.96l-1.37-1.37c-.4-.4-.92-.59-1.43-.59-.52 0-1.04.2-1.43.59L10.3 9.45l-7.72 7.72c-.78.78-.78 2.05 0 2.83L4 21.41c.39.39.9.59 1.41.59.51 0 1.02-.2 1.41-.59l7.78-7.78 2.81-2.81c.8-.78.8-2.07 0-2.86zM5.41 20L4 18.59l7.72-7.72 1.47 1.35L5.41 20z\"/>\n",
              "  </svg>\n",
              "      </button>\n",
              "      \n",
              "  <style>\n",
              "    .colab-df-container {\n",
              "      display:flex;\n",
              "      flex-wrap:wrap;\n",
              "      gap: 12px;\n",
              "    }\n",
              "\n",
              "    .colab-df-convert {\n",
              "      background-color: #E8F0FE;\n",
              "      border: none;\n",
              "      border-radius: 50%;\n",
              "      cursor: pointer;\n",
              "      display: none;\n",
              "      fill: #1967D2;\n",
              "      height: 32px;\n",
              "      padding: 0 0 0 0;\n",
              "      width: 32px;\n",
              "    }\n",
              "\n",
              "    .colab-df-convert:hover {\n",
              "      background-color: #E2EBFA;\n",
              "      box-shadow: 0px 1px 2px rgba(60, 64, 67, 0.3), 0px 1px 3px 1px rgba(60, 64, 67, 0.15);\n",
              "      fill: #174EA6;\n",
              "    }\n",
              "\n",
              "    [theme=dark] .colab-df-convert {\n",
              "      background-color: #3B4455;\n",
              "      fill: #D2E3FC;\n",
              "    }\n",
              "\n",
              "    [theme=dark] .colab-df-convert:hover {\n",
              "      background-color: #434B5C;\n",
              "      box-shadow: 0px 1px 3px 1px rgba(0, 0, 0, 0.15);\n",
              "      filter: drop-shadow(0px 1px 2px rgba(0, 0, 0, 0.3));\n",
              "      fill: #FFFFFF;\n",
              "    }\n",
              "  </style>\n",
              "\n",
              "      <script>\n",
              "        const buttonEl =\n",
              "          document.querySelector('#df-06faefb9-3e05-4f0c-8832-0b425702a3dc button.colab-df-convert');\n",
              "        buttonEl.style.display =\n",
              "          google.colab.kernel.accessAllowed ? 'block' : 'none';\n",
              "\n",
              "        async function convertToInteractive(key) {\n",
              "          const element = document.querySelector('#df-06faefb9-3e05-4f0c-8832-0b425702a3dc');\n",
              "          const dataTable =\n",
              "            await google.colab.kernel.invokeFunction('convertToInteractive',\n",
              "                                                     [key], {});\n",
              "          if (!dataTable) return;\n",
              "\n",
              "          const docLinkHtml = 'Like what you see? Visit the ' +\n",
              "            '<a target=\"_blank\" href=https://colab.research.google.com/notebooks/data_table.ipynb>data table notebook</a>'\n",
              "            + ' to learn more about interactive tables.';\n",
              "          element.innerHTML = '';\n",
              "          dataTable['output_type'] = 'display_data';\n",
              "          await google.colab.output.renderOutput(dataTable, element);\n",
              "          const docLink = document.createElement('div');\n",
              "          docLink.innerHTML = docLinkHtml;\n",
              "          element.appendChild(docLink);\n",
              "        }\n",
              "      </script>\n",
              "    </div>\n",
              "  </div>\n",
              "  "
            ]
          },
          "metadata": {},
          "execution_count": 25
        }
      ]
    },
    {
      "cell_type": "code",
      "source": [
        "result_df=tesla_df.copy()"
      ],
      "metadata": {
        "id": "r8Q7AZdXOF6O"
      },
      "execution_count": null,
      "outputs": []
    },
    {
      "cell_type": "code",
      "source": [
        "plt.figure(figsize=(12,6))\n",
        "plt.plot(tesla_df[\"Close\"],color=\"blue\")\n",
        "plt.ylabel(\"Stock Price\")\n",
        "plt.xlabel(\"Time\")\n",
        "plt.title(\"Tesla Stock Price\")\n",
        "plt.show()"
      ],
      "metadata": {
        "colab": {
          "base_uri": "https://localhost:8080/",
          "height": 359
        },
        "id": "VvYRGoZ_OF9W",
        "outputId": "65e9f8a4-b85a-43b9-dedb-98284601399a"
      },
      "execution_count": null,
      "outputs": [
        {
          "output_type": "display_data",
          "data": {
            "text/plain": [
              "<Figure size 1200x600 with 1 Axes>"
            ],
            "image/png": "[encoded data removed]"
          },
          "metadata": {}
        }
      ]
    },
    {
      "cell_type": "code",
      "source": [
        "tesla_df=tesla_df.values"
      ],
      "metadata": {
        "id": "MCqGyZs6BiDj"
      },
      "execution_count": null,
      "outputs": []
    },
    {
      "cell_type": "code",
      "source": [
        "tesla_df[0:5]"
      ],
      "metadata": {
        "colab": {
          "base_uri": "https://localhost:8080/"
        },
        "id": "aFWXaMZrBiGG",
        "outputId": "3b9dc6bb-a5fb-41a7-ee75-5819d9c619f6"
      },
      "execution_count": null,
      "outputs": [
        {
          "output_type": "execute_result",
          "data": {
            "text/plain": [
              "array([[23.889999],\n",
              "       [23.83    ],\n",
              "       [21.959999],\n",
              "       [19.200001],\n",
              "       [16.110001]])"
            ]
          },
          "metadata": {},
          "execution_count": 29
        }
      ]
    },
    {
      "cell_type": "code",
      "source": [
        "tesla_df=tesla_df.astype(\"float32\")"
      ],
      "metadata": {
        "id": "pqhtt0o7BiIv"
      },
      "execution_count": null,
      "outputs": []
    },
    {
      "cell_type": "code",
      "source": [
        "# Train-Test ayrımının yapılması\n",
        "\n",
        "def split_data(dataframe, test_size):\n",
        "  pos=int(round(len(dataframe)*(1-test_size)))\n",
        "  train=dataframe[:pos]\n",
        "  test=dataframe[pos:]\n",
        "  return train,test,pos"
      ],
      "metadata": {
        "id": "Wq8X3Y5gBiLk"
      },
      "execution_count": null,
      "outputs": []
    },
    {
      "cell_type": "code",
      "source": [
        "train,test,pos=split_data(tesla_df,0.20)"
      ],
      "metadata": {
        "id": "4Sh39IW8YX2E"
      },
      "execution_count": null,
      "outputs": []
    },
    {
      "cell_type": "code",
      "source": [
        "print(train.shape,test.shape)"
      ],
      "metadata": {
        "colab": {
          "base_uri": "https://localhost:8080/"
        },
        "id": "y1fEs8YlYX3L",
        "outputId": "0ebacd9c-7d91-4220-a4aa-e6daddf7cd38"
      },
      "execution_count": null,
      "outputs": [
        {
          "output_type": "stream",
          "name": "stdout",
          "text": [
            "(1933, 1) (483, 1)\n"
          ]
        }
      ]
    },
    {
      "cell_type": "code",
      "source": [
        "scaler_train=MinMaxScaler(feature_range=(0,1))"
      ],
      "metadata": {
        "id": "xtgeqs-eYX5E"
      },
      "execution_count": null,
      "outputs": []
    },
    {
      "cell_type": "code",
      "source": [
        "train=scaler_train.fit_transform(train)"
      ],
      "metadata": {
        "id": "c1zZowZYYX7r"
      },
      "execution_count": null,
      "outputs": []
    },
    {
      "cell_type": "code",
      "source": [
        "scaler_test=MinMaxScaler(feature_range=(0,1))"
      ],
      "metadata": {
        "id": "VR-ocWJuYX-H"
      },
      "execution_count": null,
      "outputs": []
    },
    {
      "cell_type": "code",
      "source": [
        "test=scaler_test.fit_transform(test)"
      ],
      "metadata": {
        "id": "V1qH-FedYYAn"
      },
      "execution_count": null,
      "outputs": []
    },
    {
      "cell_type": "code",
      "source": [
        "train[0:5]"
      ],
      "metadata": {
        "colab": {
          "base_uri": "https://localhost:8080/"
        },
        "id": "_9gYiyzYYYC-",
        "outputId": "f5f6b70d-2602-4566-aa28-0833affa09f4"
      },
      "execution_count": null,
      "outputs": [
        {
          "output_type": "execute_result",
          "data": {
            "text/plain": [
              "array([[0.02191224],\n",
              "       [0.02174973],\n",
              "       [0.01668472],\n",
              "       [0.0092091 ],\n",
              "       [0.00083966]], dtype=float32)"
            ]
          },
          "metadata": {},
          "execution_count": 38
        }
      ]
    },
    {
      "cell_type": "code",
      "source": [
        "test[0:5]"
      ],
      "metadata": {
        "colab": {
          "base_uri": "https://localhost:8080/"
        },
        "id": "dsVh8JuGBiN7",
        "outputId": "656bcd81-9208-49e6-93a5-bccf50222ff6"
      },
      "execution_count": null,
      "outputs": [
        {
          "output_type": "execute_result",
          "data": {
            "text/plain": [
              "array([[0.25685903],\n",
              "       [0.24829045],\n",
              "       [0.25511202],\n",
              "       [0.24978784],\n",
              "       [0.2465767 ]], dtype=float32)"
            ]
          },
          "metadata": {},
          "execution_count": 39
        }
      ]
    },
    {
      "cell_type": "code",
      "source": [
        "def create_features(data,lookback):\n",
        "  x,y=[],[]\n",
        "  for i in range(lookback,len(data)):\n",
        "    x.append(data[i-lookback:i,0])\n",
        "    y.append(data[i,0])\n",
        "  \n",
        "  return np.array(x), np.array(y)"
      ],
      "metadata": {
        "id": "Z2rPszyjBiQB"
      },
      "execution_count": null,
      "outputs": []
    },
    {
      "cell_type": "code",
      "source": [
        "lookback=20"
      ],
      "metadata": {
        "id": "73s0uC-hagb4"
      },
      "execution_count": null,
      "outputs": []
    },
    {
      "cell_type": "code",
      "source": [
        "# Train veri seti\n",
        "x_train, y_train=create_features(train,lookback)\n",
        "\n",
        "#Test veri seti\n",
        "x_test, y_test=create_features(test,lookback)\n"
      ],
      "metadata": {
        "id": "95_vWNWNah6U"
      },
      "execution_count": null,
      "outputs": []
    },
    {
      "cell_type": "code",
      "source": [
        "print(x_train.shape, y_train.shape, x_test.shape, y_test.shape)"
      ],
      "metadata": {
        "colab": {
          "base_uri": "https://localhost:8080/"
        },
        "id": "ehS-EgmXaueJ",
        "outputId": "142640df-6209-4967-f2a0-1762bd60e518"
      },
      "execution_count": null,
      "outputs": [
        {
          "output_type": "stream",
          "name": "stdout",
          "text": [
            "(1913, 20) (1913,) (463, 20) (463,)\n"
          ]
        }
      ]
    },
    {
      "cell_type": "code",
      "source": [
        "x_train=np.reshape(x_train,(x_train.shape[0],1,x_train.shape[1]))\n",
        "x_test=np.reshape(x_test,(x_test.shape[0],1,x_test.shape[1]))\n",
        "y_train=y_train.reshape(-1,1)\n",
        "y_test=y_test.reshape(-1,1)\n",
        "\n",
        "print(x_train.shape,y_train.shape,x_test.shape,y_test.shape)"
      ],
      "metadata": {
        "colab": {
          "base_uri": "https://localhost:8080/"
        },
        "id": "miXo1B0Cazhu",
        "outputId": "a460da88-a674-44f5-b9fe-73780b640083"
      },
      "execution_count": null,
      "outputs": [
        {
          "output_type": "stream",
          "name": "stdout",
          "text": [
            "(1913, 1, 20) (1913, 1) (463, 1, 20) (463, 1)\n"
          ]
        }
      ]
    },
    {
      "cell_type": "code",
      "source": [],
      "metadata": {
        "id": "Df0GCpkQbvBC"
      },
      "execution_count": null,
      "outputs": []
    },
    {
      "cell_type": "markdown",
      "source": [
        "Modelleme"
      ],
      "metadata": {
        "id": "BosqI3Erhncr"
      }
    },
    {
      "cell_type": "code",
      "source": [
        "model=Sequential()\n",
        "model.add(LSTM(units=50,\n",
        "               activation=\"relu\",\n",
        "               input_shape=(x_train.shape[1],lookback)))\n",
        "model.add(Dropout(0.2))\n",
        "model.add(Dense(1))"
      ],
      "metadata": {
        "id": "hJiSg7EKbx_W"
      },
      "execution_count": null,
      "outputs": []
    },
    {
      "cell_type": "code",
      "source": [
        "model.summary()"
      ],
      "metadata": {
        "colab": {
          "base_uri": "https://localhost:8080/"
        },
        "id": "8nE5VjMlbyAl",
        "outputId": "c9009eb9-d898-4c40-a8f0-c8a884d4608a"
      },
      "execution_count": null,
      "outputs": [
        {
          "output_type": "stream",
          "name": "stdout",
          "text": [
            "Model: \"sequential_1\"\n",
            "_________________________________________________________________\n",
            " Layer (type)                Output Shape              Param #   \n",
            "=================================================================\n",
            " lstm (LSTM)                 (None, 50)                14200     \n",
            "                                                                 \n",
            " dropout (Dropout)           (None, 50)                0         \n",
            "                                                                 \n",
            " dense (Dense)               (None, 1)                 51        \n",
            "                                                                 \n",
            "=================================================================\n",
            "Total params: 14,251\n",
            "Trainable params: 14,251\n",
            "Non-trainable params: 0\n",
            "_________________________________________________________________\n"
          ]
        }
      ]
    },
    {
      "cell_type": "code",
      "source": [
        "# Optimizasyon ve Değerlendirme Metrikleri Ayarlanması"
      ],
      "metadata": {
        "id": "uCQNen2_byCM"
      },
      "execution_count": null,
      "outputs": []
    },
    {
      "cell_type": "code",
      "source": [
        "model.compile(loss=\"mean_squared_error\",optimizer=\"adam\")"
      ],
      "metadata": {
        "id": "geKMANXqbyEj"
      },
      "execution_count": null,
      "outputs": []
    },
    {
      "cell_type": "code",
      "source": [
        "callbacks=[EarlyStopping(monitor=\"val_loss\",patience=3,verbose=1,mode=\"min\"),\n",
        "           ModelCheckpoint(filepath=\"mymodel.h5\",monitor=\"val_loss\",mode=\"min\",\n",
        "                           save_best_only=True,save_weights_only=False,verbose=1)]"
      ],
      "metadata": {
        "id": "oUQ3gZPFbyG4"
      },
      "execution_count": null,
      "outputs": []
    },
    {
      "cell_type": "code",
      "source": [
        "history=model.fit(x=x_train,\n",
        "                  y=y_train,\n",
        "                  epochs=100,\n",
        "                  batch_size=20,\n",
        "                  validation_data=(x_test,y_test),\n",
        "                  callbacks=callbacks,\n",
        "                  shuffle=False)"
      ],
      "metadata": {
        "colab": {
          "base_uri": "https://localhost:8080/"
        },
        "id": "T0DQJMMrbyJY",
        "outputId": "810ed833-2311-4c5c-934f-3ad4f7092ce3"
      },
      "execution_count": null,
      "outputs": [
        {
          "output_type": "stream",
          "name": "stdout",
          "text": [
            "Epoch 1/100\n",
            "87/96 [==========================>...] - ETA: 0s - loss: 0.0090\n",
            "Epoch 1: val_loss improved from inf to 0.00391, saving model to mymodel.h5\n",
            "96/96 [==============================] - 3s 7ms/step - loss: 0.0101 - val_loss: 0.0039\n",
            "Epoch 2/100\n",
            "94/96 [============================>.] - ETA: 0s - loss: 0.0068\n",
            "Epoch 2: val_loss improved from 0.00391 to 0.00340, saving model to mymodel.h5\n",
            "96/96 [==============================] - 0s 4ms/step - loss: 0.0068 - val_loss: 0.0034\n",
            "Epoch 3/100\n",
            "86/96 [=========================>....] - ETA: 0s - loss: 0.0059\n",
            "Epoch 3: val_loss improved from 0.00340 to 0.00323, saving model to mymodel.h5\n",
            "96/96 [==============================] - 0s 4ms/step - loss: 0.0072 - val_loss: 0.0032\n",
            "Epoch 4/100\n",
            "88/96 [==========================>...] - ETA: 0s - loss: 0.0048\n",
            "Epoch 4: val_loss improved from 0.00323 to 0.00293, saving model to mymodel.h5\n",
            "96/96 [==============================] - 0s 4ms/step - loss: 0.0057 - val_loss: 0.0029\n",
            "Epoch 5/100\n",
            "96/96 [==============================] - ETA: 0s - loss: 0.0053\n",
            "Epoch 5: val_loss improved from 0.00293 to 0.00279, saving model to mymodel.h5\n",
            "96/96 [==============================] - 0s 4ms/step - loss: 0.0053 - val_loss: 0.0028\n",
            "Epoch 6/100\n",
            "76/96 [======================>.......] - ETA: 0s - loss: 0.0034\n",
            "Epoch 6: val_loss did not improve from 0.00279\n",
            "96/96 [==============================] - 0s 4ms/step - loss: 0.0048 - val_loss: 0.0029\n",
            "Epoch 7/100\n",
            "95/96 [============================>.] - ETA: 0s - loss: 0.0050\n",
            "Epoch 7: val_loss improved from 0.00279 to 0.00267, saving model to mymodel.h5\n",
            "96/96 [==============================] - 0s 4ms/step - loss: 0.0051 - val_loss: 0.0027\n",
            "Epoch 8/100\n",
            "93/96 [============================>.] - ETA: 0s - loss: 0.0046\n",
            "Epoch 8: val_loss improved from 0.00267 to 0.00244, saving model to mymodel.h5\n",
            "96/96 [==============================] - 0s 4ms/step - loss: 0.0049 - val_loss: 0.0024\n",
            "Epoch 9/100\n",
            "90/96 [===========================>..] - ETA: 0s - loss: 0.0043\n",
            "Epoch 9: val_loss improved from 0.00244 to 0.00240, saving model to mymodel.h5\n",
            "96/96 [==============================] - 0s 4ms/step - loss: 0.0049 - val_loss: 0.0024\n",
            "Epoch 10/100\n",
            "81/96 [========================>.....] - ETA: 0s - loss: 0.0034\n",
            "Epoch 10: val_loss improved from 0.00240 to 0.00231, saving model to mymodel.h5\n",
            "96/96 [==============================] - 0s 4ms/step - loss: 0.0046 - val_loss: 0.0023\n",
            "Epoch 11/100\n",
            "89/96 [==========================>...] - ETA: 0s - loss: 0.0039\n",
            "Epoch 11: val_loss did not improve from 0.00231\n",
            "96/96 [==============================] - 0s 4ms/step - loss: 0.0045 - val_loss: 0.0025\n",
            "Epoch 12/100\n",
            "93/96 [============================>.] - ETA: 0s - loss: 0.0042\n",
            "Epoch 12: val_loss did not improve from 0.00231\n",
            "96/96 [==============================] - 0s 4ms/step - loss: 0.0043 - val_loss: 0.0028\n",
            "Epoch 13/100\n",
            "92/96 [===========================>..] - ETA: 0s - loss: 0.0044\n",
            "Epoch 13: val_loss did not improve from 0.00231\n",
            "96/96 [==============================] - 0s 4ms/step - loss: 0.0047 - val_loss: 0.0024\n",
            "Epoch 13: early stopping\n"
          ]
        }
      ]
    },
    {
      "cell_type": "code",
      "source": [
        "loss=model.evaluate(x_test,y_test,batch_size=20)\n",
        "print(100*loss)"
      ],
      "metadata": {
        "id": "vXHS68K9byLV",
        "colab": {
          "base_uri": "https://localhost:8080/"
        },
        "outputId": "eaf1c681-3b3d-46ab-e876-878342144dc4"
      },
      "execution_count": null,
      "outputs": [
        {
          "output_type": "stream",
          "name": "stdout",
          "text": [
            "24/24 [==============================] - 0s 3ms/step - loss: 0.0024\n",
            "0.23912694305181503\n"
          ]
        }
      ]
    },
    {
      "cell_type": "code",
      "source": [
        "train_predict=model.predict(x_train)\n",
        "test_predict=model.predict(x_test)"
      ],
      "metadata": {
        "id": "yMKgt2WzbyO-",
        "colab": {
          "base_uri": "https://localhost:8080/"
        },
        "outputId": "5c7fbdad-da3b-4a0a-b39e-1f35204f9e4c"
      },
      "execution_count": null,
      "outputs": [
        {
          "output_type": "stream",
          "name": "stdout",
          "text": [
            "60/60 [==============================] - 0s 2ms/step\n",
            "15/15 [==============================] - 0s 2ms/step\n"
          ]
        }
      ]
    },
    {
      "cell_type": "code",
      "source": [
        "train_predict=scaler_train.inverse_transform(train_predict)\n",
        "test_predict=scaler_test.inverse_transform(test_predict)"
      ],
      "metadata": {
        "id": "zmxvJ_shoIKi"
      },
      "execution_count": null,
      "outputs": []
    },
    {
      "cell_type": "code",
      "source": [
        "y_train=scaler_train.inverse_transform(y_train)\n",
        "y_test=scaler_test.inverse_transform(y_test)"
      ],
      "metadata": {
        "id": "WsaZyD35oINZ"
      },
      "execution_count": null,
      "outputs": []
    },
    {
      "cell_type": "code",
      "source": [
        "train_rmse=np.sqrt(mean_squared_error(y_train,train_predict))"
      ],
      "metadata": {
        "id": "W-NR_o4bbyRl"
      },
      "execution_count": null,
      "outputs": []
    },
    {
      "cell_type": "code",
      "source": [
        "test_rmse=np.sqrt(mean_squared_error(y_test,test_predict))"
      ],
      "metadata": {
        "id": "lZksIIiPpBF7"
      },
      "execution_count": null,
      "outputs": []
    },
    {
      "cell_type": "code",
      "source": [
        "print(train_rmse)\n",
        "print(test_rmse)"
      ],
      "metadata": {
        "colab": {
          "base_uri": "https://localhost:8080/"
        },
        "id": "f0G6NynRpFdq",
        "outputId": "1ea3c135-7d4a-4465-b70f-c7e8a00b6326"
      },
      "execution_count": null,
      "outputs": [
        {
          "output_type": "stream",
          "name": "stdout",
          "text": [
            "13.707319\n",
            "29.390736\n"
          ]
        }
      ]
    },
    {
      "cell_type": "code",
      "source": [
        "train_prediction_df=result_df[lookback:pos]\n",
        "train_prediction_df[\"Predicted\"]=train_predict\n",
        "train_prediction_df.head()"
      ],
      "metadata": {
        "colab": {
          "base_uri": "https://localhost:8080/",
          "height": 238
        },
        "id": "cLZE3-7rpLka",
        "outputId": "f41dbffb-cb57-4a1d-cbdd-569765c3ba72"
      },
      "execution_count": null,
      "outputs": [
        {
          "output_type": "execute_result",
          "data": {
            "text/plain": [
              "                Close  Predicted\n",
              "Date                            \n",
              "2010-07-28  20.719999  37.255974\n",
              "2010-07-29  20.350000  37.255974\n",
              "2010-07-30  19.940001  37.255974\n",
              "2010-08-02  20.920000  37.255974\n",
              "2010-08-03  21.950001  37.255974"
            ],
            "text/html": [
              "\n",
              "  <div id=\"df-cb63e05a-e7fb-4eb2-8bb3-a4eeb68b6c54\">\n",
              "    <div class=\"colab-df-container\">\n",
              "      <div>\n",
              "<style scoped>\n",
              "    .dataframe tbody tr th:only-of-type {\n",
              "        vertical-align: middle;\n",
              "    }\n",
              "\n",
              "    .dataframe tbody tr th {\n",
              "        vertical-align: top;\n",
              "    }\n",
              "\n",
              "    .dataframe thead th {\n",
              "        text-align: right;\n",
              "    }\n",
              "</style>\n",
              "<table border=\"1\" class=\"dataframe\">\n",
              "  <thead>\n",
              "    <tr style=\"text-align: right;\">\n",
              "      <th></th>\n",
              "      <th>Close</th>\n",
              "      <th>Predicted</th>\n",
              "    </tr>\n",
              "    <tr>\n",
              "      <th>Date</th>\n",
              "      <th></th>\n",
              "      <th></th>\n",
              "    </tr>\n",
              "  </thead>\n",
              "  <tbody>\n",
              "    <tr>\n",
              "      <th>2010-07-28</th>\n",
              "      <td>20.719999</td>\n",
              "      <td>37.255974</td>\n",
              "    </tr>\n",
              "    <tr>\n",
              "      <th>2010-07-29</th>\n",
              "      <td>20.350000</td>\n",
              "      <td>37.255974</td>\n",
              "    </tr>\n",
              "    <tr>\n",
              "      <th>2010-07-30</th>\n",
              "      <td>19.940001</td>\n",
              "      <td>37.255974</td>\n",
              "    </tr>\n",
              "    <tr>\n",
              "      <th>2010-08-02</th>\n",
              "      <td>20.920000</td>\n",
              "      <td>37.255974</td>\n",
              "    </tr>\n",
              "    <tr>\n",
              "      <th>2010-08-03</th>\n",
              "      <td>21.950001</td>\n",
              "      <td>37.255974</td>\n",
              "    </tr>\n",
              "  </tbody>\n",
              "</table>\n",
              "</div>\n",
              "      <button class=\"colab-df-convert\" onclick=\"convertToInteractive('df-cb63e05a-e7fb-4eb2-8bb3-a4eeb68b6c54')\"\n",
              "              title=\"Convert this dataframe to an interactive table.\"\n",
              "              style=\"display:none;\">\n",
              "        \n",
              "  <svg xmlns=\"http://www.w3.org/2000/svg\" height=\"24px\"viewBox=\"0 0 24 24\"\n",
              "       width=\"24px\">\n",
              "    <path d=\"M0 0h24v24H0V0z\" fill=\"none\"/>\n",
              "    <path d=\"M18.56 5.44l.94 2.06.94-2.06 2.06-.94-2.06-.94-.94-2.06-.94 2.06-2.06.94zm-11 1L8.5 8.5l.94-2.06 2.06-.94-2.06-.94L8.5 2.5l-.94 2.06-2.06.94zm10 10l.94 2.06.94-2.06 2.06-.94-2.06-.94-.94-2.06-.94 2.06-2.06.94z\"/><path d=\"M17.41 7.96l-1.37-1.37c-.4-.4-.92-.59-1.43-.59-.52 0-1.04.2-1.43.59L10.3 9.45l-7.72 7.72c-.78.78-.78 2.05 0 2.83L4 21.41c.39.39.9.59 1.41.59.51 0 1.02-.2 1.41-.59l7.78-7.78 2.81-2.81c.8-.78.8-2.07 0-2.86zM5.41 20L4 18.59l7.72-7.72 1.47 1.35L5.41 20z\"/>\n",
              "  </svg>\n",
              "      </button>\n",
              "      \n",
              "  <style>\n",
              "    .colab-df-container {\n",
              "      display:flex;\n",
              "      flex-wrap:wrap;\n",
              "      gap: 12px;\n",
              "    }\n",
              "\n",
              "    .colab-df-convert {\n",
              "      background-color: #E8F0FE;\n",
              "      border: none;\n",
              "      border-radius: 50%;\n",
              "      cursor: pointer;\n",
              "      display: none;\n",
              "      fill: #1967D2;\n",
              "      height: 32px;\n",
              "      padding: 0 0 0 0;\n",
              "      width: 32px;\n",
              "    }\n",
              "\n",
              "    .colab-df-convert:hover {\n",
              "      background-color: #E2EBFA;\n",
              "      box-shadow: 0px 1px 2px rgba(60, 64, 67, 0.3), 0px 1px 3px 1px rgba(60, 64, 67, 0.15);\n",
              "      fill: #174EA6;\n",
              "    }\n",
              "\n",
              "    [theme=dark] .colab-df-convert {\n",
              "      background-color: #3B4455;\n",
              "      fill: #D2E3FC;\n",
              "    }\n",
              "\n",
              "    [theme=dark] .colab-df-convert:hover {\n",
              "      background-color: #434B5C;\n",
              "      box-shadow: 0px 1px 3px 1px rgba(0, 0, 0, 0.15);\n",
              "      filter: drop-shadow(0px 1px 2px rgba(0, 0, 0, 0.3));\n",
              "      fill: #FFFFFF;\n",
              "    }\n",
              "  </style>\n",
              "\n",
              "      <script>\n",
              "        const buttonEl =\n",
              "          document.querySelector('#df-cb63e05a-e7fb-4eb2-8bb3-a4eeb68b6c54 button.colab-df-convert');\n",
              "        buttonEl.style.display =\n",
              "          google.colab.kernel.accessAllowed ? 'block' : 'none';\n",
              "\n",
              "        async function convertToInteractive(key) {\n",
              "          const element = document.querySelector('#df-cb63e05a-e7fb-4eb2-8bb3-a4eeb68b6c54');\n",
              "          const dataTable =\n",
              "            await google.colab.kernel.invokeFunction('convertToInteractive',\n",
              "                                                     [key], {});\n",
              "          if (!dataTable) return;\n",
              "\n",
              "          const docLinkHtml = 'Like what you see? Visit the ' +\n",
              "            '<a target=\"_blank\" href=https://colab.research.google.com/notebooks/data_table.ipynb>data table notebook</a>'\n",
              "            + ' to learn more about interactive tables.';\n",
              "          element.innerHTML = '';\n",
              "          dataTable['output_type'] = 'display_data';\n",
              "          await google.colab.output.renderOutput(dataTable, element);\n",
              "          const docLink = document.createElement('div');\n",
              "          docLink.innerHTML = docLinkHtml;\n",
              "          element.appendChild(docLink);\n",
              "        }\n",
              "      </script>\n",
              "    </div>\n",
              "  </div>\n",
              "  "
            ]
          },
          "metadata": {},
          "execution_count": 58
        }
      ]
    },
    {
      "cell_type": "code",
      "source": [
        "test_prediction_df=result_df[pos+lookback:]\n",
        "test_prediction_df[\"Predicted\"]=test_predict\n",
        "test_prediction_df.head()"
      ],
      "metadata": {
        "colab": {
          "base_uri": "https://localhost:8080/",
          "height": 238
        },
        "id": "NAEy2YVrp0Aw",
        "outputId": "644ce09d-a936-4b0f-e8a5-9e9297085c48"
      },
      "execution_count": null,
      "outputs": [
        {
          "output_type": "execute_result",
          "data": {
            "text/plain": [
              "                 Close   Predicted\n",
              "Date                              \n",
              "2018-04-03  267.529999  316.125366\n",
              "2018-04-04  286.940002  313.496033\n",
              "2018-04-05  305.720001  311.127136\n",
              "2018-04-06  299.299988  311.047546\n",
              "2018-04-09  289.660004  311.847473"
            ],
            "text/html": [
              "\n",
              "  <div id=\"df-32f90e6c-29e1-472f-a42f-7b362c72df97\">\n",
              "    <div class=\"colab-df-container\">\n",
              "      <div>\n",
              "<style scoped>\n",
              "    .dataframe tbody tr th:only-of-type {\n",
              "        vertical-align: middle;\n",
              "    }\n",
              "\n",
              "    .dataframe tbody tr th {\n",
              "        vertical-align: top;\n",
              "    }\n",
              "\n",
              "    .dataframe thead th {\n",
              "        text-align: right;\n",
              "    }\n",
              "</style>\n",
              "<table border=\"1\" class=\"dataframe\">\n",
              "  <thead>\n",
              "    <tr style=\"text-align: right;\">\n",
              "      <th></th>\n",
              "      <th>Close</th>\n",
              "      <th>Predicted</th>\n",
              "    </tr>\n",
              "    <tr>\n",
              "      <th>Date</th>\n",
              "      <th></th>\n",
              "      <th></th>\n",
              "    </tr>\n",
              "  </thead>\n",
              "  <tbody>\n",
              "    <tr>\n",
              "      <th>2018-04-03</th>\n",
              "      <td>267.529999</td>\n",
              "      <td>316.125366</td>\n",
              "    </tr>\n",
              "    <tr>\n",
              "      <th>2018-04-04</th>\n",
              "      <td>286.940002</td>\n",
              "      <td>313.496033</td>\n",
              "    </tr>\n",
              "    <tr>\n",
              "      <th>2018-04-05</th>\n",
              "      <td>305.720001</td>\n",
              "      <td>311.127136</td>\n",
              "    </tr>\n",
              "    <tr>\n",
              "      <th>2018-04-06</th>\n",
              "      <td>299.299988</td>\n",
              "      <td>311.047546</td>\n",
              "    </tr>\n",
              "    <tr>\n",
              "      <th>2018-04-09</th>\n",
              "      <td>289.660004</td>\n",
              "      <td>311.847473</td>\n",
              "    </tr>\n",
              "  </tbody>\n",
              "</table>\n",
              "</div>\n",
              "      <button class=\"colab-df-convert\" onclick=\"convertToInteractive('df-32f90e6c-29e1-472f-a42f-7b362c72df97')\"\n",
              "              title=\"Convert this dataframe to an interactive table.\"\n",
              "              style=\"display:none;\">\n",
              "        \n",
              "  <svg xmlns=\"http://www.w3.org/2000/svg\" height=\"24px\"viewBox=\"0 0 24 24\"\n",
              "       width=\"24px\">\n",
              "    <path d=\"M0 0h24v24H0V0z\" fill=\"none\"/>\n",
              "    <path d=\"M18.56 5.44l.94 2.06.94-2.06 2.06-.94-2.06-.94-.94-2.06-.94 2.06-2.06.94zm-11 1L8.5 8.5l.94-2.06 2.06-.94-2.06-.94L8.5 2.5l-.94 2.06-2.06.94zm10 10l.94 2.06.94-2.06 2.06-.94-2.06-.94-.94-2.06-.94 2.06-2.06.94z\"/><path d=\"M17.41 7.96l-1.37-1.37c-.4-.4-.92-.59-1.43-.59-.52 0-1.04.2-1.43.59L10.3 9.45l-7.72 7.72c-.78.78-.78 2.05 0 2.83L4 21.41c.39.39.9.59 1.41.59.51 0 1.02-.2 1.41-.59l7.78-7.78 2.81-2.81c.8-.78.8-2.07 0-2.86zM5.41 20L4 18.59l7.72-7.72 1.47 1.35L5.41 20z\"/>\n",
              "  </svg>\n",
              "      </button>\n",
              "      \n",
              "  <style>\n",
              "    .colab-df-container {\n",
              "      display:flex;\n",
              "      flex-wrap:wrap;\n",
              "      gap: 12px;\n",
              "    }\n",
              "\n",
              "    .colab-df-convert {\n",
              "      background-color: #E8F0FE;\n",
              "      border: none;\n",
              "      border-radius: 50%;\n",
              "      cursor: pointer;\n",
              "      display: none;\n",
              "      fill: #1967D2;\n",
              "      height: 32px;\n",
              "      padding: 0 0 0 0;\n",
              "      width: 32px;\n",
              "    }\n",
              "\n",
              "    .colab-df-convert:hover {\n",
              "      background-color: #E2EBFA;\n",
              "      box-shadow: 0px 1px 2px rgba(60, 64, 67, 0.3), 0px 1px 3px 1px rgba(60, 64, 67, 0.15);\n",
              "      fill: #174EA6;\n",
              "    }\n",
              "\n",
              "    [theme=dark] .colab-df-convert {\n",
              "      background-color: #3B4455;\n",
              "      fill: #D2E3FC;\n",
              "    }\n",
              "\n",
              "    [theme=dark] .colab-df-convert:hover {\n",
              "      background-color: #434B5C;\n",
              "      box-shadow: 0px 1px 3px 1px rgba(0, 0, 0, 0.15);\n",
              "      filter: drop-shadow(0px 1px 2px rgba(0, 0, 0, 0.3));\n",
              "      fill: #FFFFFF;\n",
              "    }\n",
              "  </style>\n",
              "\n",
              "      <script>\n",
              "        const buttonEl =\n",
              "          document.querySelector('#df-32f90e6c-29e1-472f-a42f-7b362c72df97 button.colab-df-convert');\n",
              "        buttonEl.style.display =\n",
              "          google.colab.kernel.accessAllowed ? 'block' : 'none';\n",
              "\n",
              "        async function convertToInteractive(key) {\n",
              "          const element = document.querySelector('#df-32f90e6c-29e1-472f-a42f-7b362c72df97');\n",
              "          const dataTable =\n",
              "            await google.colab.kernel.invokeFunction('convertToInteractive',\n",
              "                                                     [key], {});\n",
              "          if (!dataTable) return;\n",
              "\n",
              "          const docLinkHtml = 'Like what you see? Visit the ' +\n",
              "            '<a target=\"_blank\" href=https://colab.research.google.com/notebooks/data_table.ipynb>data table notebook</a>'\n",
              "            + ' to learn more about interactive tables.';\n",
              "          element.innerHTML = '';\n",
              "          dataTable['output_type'] = 'display_data';\n",
              "          await google.colab.output.renderOutput(dataTable, element);\n",
              "          const docLink = document.createElement('div');\n",
              "          docLink.innerHTML = docLinkHtml;\n",
              "          element.appendChild(docLink);\n",
              "        }\n",
              "      </script>\n",
              "    </div>\n",
              "  </div>\n",
              "  "
            ]
          },
          "metadata": {},
          "execution_count": 60
        }
      ]
    },
    {
      "cell_type": "code",
      "source": [
        "plt.figure(figsize=(14,5))\n",
        "plt.plot(result_df,label=\"Real Values\")\n",
        "plt.plot(train_prediction_df[\"Predicted\"],color=\"blue\",label=\"Train Predicted\")\n",
        "plt.plot(test_prediction_df[\"Predicted\"],color=\"red\",label=\"Test Predicted\")\n",
        "plt.xlabel(\"Time\")\n",
        "plt.ylabel(\"Stock Values\")\n",
        "plt.legend()\n",
        "plt.show()"
      ],
      "metadata": {
        "colab": {
          "base_uri": "https://localhost:8080/",
          "height": 260
        },
        "id": "Xb4tjU6Lp8Le",
        "outputId": "951350d3-cf91-4ad6-9c3c-a937ad1293e6"
      },
      "execution_count": null,
      "outputs": [
        {
          "output_type": "display_data",
          "data": {
            "text/plain": [
              "<Figure size 1400x500 with 1 Axes>"
            ],
            "image/png": "[encoded data removed]"
          },
          "metadata": {}
        }
      ]
    },
    {
      "cell_type": "code",
      "source": [],
      "metadata": {
        "id": "zf4UaBS6rEik"
      },
      "execution_count": null,
      "outputs": []
    }
  ]
}